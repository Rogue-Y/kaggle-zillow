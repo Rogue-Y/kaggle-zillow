{
 "cells": [
  {
   "cell_type": "code",
   "execution_count": 1,
   "metadata": {
    "collapsed": true
   },
   "outputs": [],
   "source": [
    "import feature_eng.utils as utils\n",
    "\n",
    "import numpy as np\n",
    "import pandas as pd\n",
    "import matplotlib.pyplot as plt\n",
    "\n",
    "%matplotlib inline"
   ]
  },
  {
   "cell_type": "code",
   "execution_count": 2,
   "metadata": {
    "collapsed": true
   },
   "outputs": [],
   "source": [
    "from sklearn.model_selection import cross_val_score\n",
    "from sklearn.ensemble import RandomForestRegressor\n",
    "from sklearn.metrics import f1_score"
   ]
  },
  {
   "cell_type": "code",
   "execution_count": 12,
   "metadata": {},
   "outputs": [
    {
     "name": "stdout",
     "output_type": "stream",
     "text": [
      "Loading data ...\n"
     ]
    },
    {
     "name": "stderr",
     "output_type": "stream",
     "text": [
      "/home/peter/anaconda3/lib/python3.6/site-packages/IPython/core/interactiveshell.py:2881: DtypeWarning: Columns (22,32,34,49,55) have mixed types. Specify dtype option on import or set low_memory=False.\n",
      "  exec(code_obj, self.user_global_ns, self.user_ns)\n"
     ]
    },
    {
     "name": "stdout",
     "output_type": "stream",
     "text": [
      "Cleaning data and feature engineering...\n",
      "Spliting data into training and testing...\n",
      "Done\n"
     ]
    }
   ],
   "source": [
    "X_train, y_train, X_test, y_test = utils.get_train_test_sets()"
   ]
  },
  {
   "cell_type": "code",
   "execution_count": 6,
   "metadata": {},
   "outputs": [
    {
     "data": {
      "text/plain": [
       "81733"
      ]
     },
     "execution_count": 6,
     "metadata": {},
     "output_type": "execute_result"
    }
   ],
   "source": [
    "len(X_train)"
   ]
  },
  {
   "cell_type": "code",
   "execution_count": 17,
   "metadata": {},
   "outputs": [],
   "source": [
    "X_train= X_train.drop('transactiondate',1)"
   ]
  },
  {
   "cell_type": "code",
   "execution_count": 18,
   "metadata": {
    "collapsed": true
   },
   "outputs": [],
   "source": [
    "X_test= X_test.drop('transactiondate',1)"
   ]
  },
  {
   "cell_type": "code",
   "execution_count": 19,
   "metadata": {},
   "outputs": [
    {
     "data": {
      "text/html": [
       "<div>\n",
       "<style>\n",
       "    .dataframe thead tr:only-child th {\n",
       "        text-align: right;\n",
       "    }\n",
       "\n",
       "    .dataframe thead th {\n",
       "        text-align: left;\n",
       "    }\n",
       "\n",
       "    .dataframe tbody tr th {\n",
       "        vertical-align: top;\n",
       "    }\n",
       "</style>\n",
       "<table border=\"1\" class=\"dataframe\">\n",
       "  <thead>\n",
       "    <tr style=\"text-align: right;\">\n",
       "      <th></th>\n",
       "      <th>bathroomcnt</th>\n",
       "      <th>bedroomcnt</th>\n",
       "      <th>buildingqualitytypeid</th>\n",
       "      <th>calculatedbathnbr</th>\n",
       "      <th>finishedfloor1squarefeet</th>\n",
       "      <th>calculatedfinishedsquarefeet</th>\n",
       "      <th>finishedsquarefeet12</th>\n",
       "      <th>finishedsquarefeet13</th>\n",
       "      <th>finishedsquarefeet15</th>\n",
       "      <th>finishedsquarefeet50</th>\n",
       "      <th>...</th>\n",
       "      <th>propertyzoningdesc_20</th>\n",
       "      <th>propertyzoningdesc_21</th>\n",
       "      <th>propertyzoningdesc_22</th>\n",
       "      <th>propertyzoningdesc_23</th>\n",
       "      <th>propertyzoningdesc_24</th>\n",
       "      <th>propertyzoningdesc_25</th>\n",
       "      <th>propertyzoningdesc_26</th>\n",
       "      <th>propertyzoningdesc_27</th>\n",
       "      <th>propertyzoningdesc_28</th>\n",
       "      <th>propertyzoningdesc_29</th>\n",
       "    </tr>\n",
       "  </thead>\n",
       "  <tbody>\n",
       "    <tr>\n",
       "      <th>3160</th>\n",
       "      <td>3.0</td>\n",
       "      <td>6.0</td>\n",
       "      <td>0.0</td>\n",
       "      <td>3.0</td>\n",
       "      <td>0.0</td>\n",
       "      <td>2744.0</td>\n",
       "      <td>2744.0</td>\n",
       "      <td>0.0</td>\n",
       "      <td>0.0</td>\n",
       "      <td>0.0</td>\n",
       "      <td>...</td>\n",
       "      <td>0</td>\n",
       "      <td>0</td>\n",
       "      <td>0</td>\n",
       "      <td>0</td>\n",
       "      <td>0</td>\n",
       "      <td>0</td>\n",
       "      <td>0</td>\n",
       "      <td>0</td>\n",
       "      <td>1</td>\n",
       "      <td>0</td>\n",
       "    </tr>\n",
       "    <tr>\n",
       "      <th>3162</th>\n",
       "      <td>3.5</td>\n",
       "      <td>4.0</td>\n",
       "      <td>0.0</td>\n",
       "      <td>3.5</td>\n",
       "      <td>2827.0</td>\n",
       "      <td>5222.0</td>\n",
       "      <td>5222.0</td>\n",
       "      <td>0.0</td>\n",
       "      <td>0.0</td>\n",
       "      <td>2827.0</td>\n",
       "      <td>...</td>\n",
       "      <td>0</td>\n",
       "      <td>0</td>\n",
       "      <td>0</td>\n",
       "      <td>0</td>\n",
       "      <td>0</td>\n",
       "      <td>0</td>\n",
       "      <td>0</td>\n",
       "      <td>0</td>\n",
       "      <td>1</td>\n",
       "      <td>0</td>\n",
       "    </tr>\n",
       "    <tr>\n",
       "      <th>3163</th>\n",
       "      <td>1.0</td>\n",
       "      <td>1.0</td>\n",
       "      <td>7.0</td>\n",
       "      <td>1.0</td>\n",
       "      <td>0.0</td>\n",
       "      <td>588.0</td>\n",
       "      <td>588.0</td>\n",
       "      <td>0.0</td>\n",
       "      <td>0.0</td>\n",
       "      <td>0.0</td>\n",
       "      <td>...</td>\n",
       "      <td>0</td>\n",
       "      <td>0</td>\n",
       "      <td>0</td>\n",
       "      <td>0</td>\n",
       "      <td>0</td>\n",
       "      <td>0</td>\n",
       "      <td>0</td>\n",
       "      <td>0</td>\n",
       "      <td>0</td>\n",
       "      <td>0</td>\n",
       "    </tr>\n",
       "    <tr>\n",
       "      <th>3164</th>\n",
       "      <td>1.0</td>\n",
       "      <td>2.0</td>\n",
       "      <td>7.0</td>\n",
       "      <td>1.0</td>\n",
       "      <td>0.0</td>\n",
       "      <td>810.0</td>\n",
       "      <td>810.0</td>\n",
       "      <td>0.0</td>\n",
       "      <td>0.0</td>\n",
       "      <td>0.0</td>\n",
       "      <td>...</td>\n",
       "      <td>0</td>\n",
       "      <td>0</td>\n",
       "      <td>0</td>\n",
       "      <td>0</td>\n",
       "      <td>0</td>\n",
       "      <td>0</td>\n",
       "      <td>0</td>\n",
       "      <td>0</td>\n",
       "      <td>0</td>\n",
       "      <td>0</td>\n",
       "    </tr>\n",
       "    <tr>\n",
       "      <th>3165</th>\n",
       "      <td>1.0</td>\n",
       "      <td>2.0</td>\n",
       "      <td>4.0</td>\n",
       "      <td>1.0</td>\n",
       "      <td>0.0</td>\n",
       "      <td>1015.0</td>\n",
       "      <td>1015.0</td>\n",
       "      <td>0.0</td>\n",
       "      <td>0.0</td>\n",
       "      <td>0.0</td>\n",
       "      <td>...</td>\n",
       "      <td>0</td>\n",
       "      <td>0</td>\n",
       "      <td>0</td>\n",
       "      <td>0</td>\n",
       "      <td>0</td>\n",
       "      <td>0</td>\n",
       "      <td>0</td>\n",
       "      <td>0</td>\n",
       "      <td>0</td>\n",
       "      <td>0</td>\n",
       "    </tr>\n",
       "    <tr>\n",
       "      <th>3166</th>\n",
       "      <td>2.0</td>\n",
       "      <td>4.0</td>\n",
       "      <td>7.0</td>\n",
       "      <td>2.0</td>\n",
       "      <td>0.0</td>\n",
       "      <td>1397.0</td>\n",
       "      <td>1397.0</td>\n",
       "      <td>0.0</td>\n",
       "      <td>0.0</td>\n",
       "      <td>0.0</td>\n",
       "      <td>...</td>\n",
       "      <td>0</td>\n",
       "      <td>0</td>\n",
       "      <td>0</td>\n",
       "      <td>0</td>\n",
       "      <td>0</td>\n",
       "      <td>0</td>\n",
       "      <td>0</td>\n",
       "      <td>0</td>\n",
       "      <td>0</td>\n",
       "      <td>1</td>\n",
       "    </tr>\n",
       "    <tr>\n",
       "      <th>3167</th>\n",
       "      <td>2.0</td>\n",
       "      <td>3.0</td>\n",
       "      <td>7.0</td>\n",
       "      <td>2.0</td>\n",
       "      <td>0.0</td>\n",
       "      <td>1634.0</td>\n",
       "      <td>1634.0</td>\n",
       "      <td>0.0</td>\n",
       "      <td>0.0</td>\n",
       "      <td>0.0</td>\n",
       "      <td>...</td>\n",
       "      <td>0</td>\n",
       "      <td>0</td>\n",
       "      <td>0</td>\n",
       "      <td>0</td>\n",
       "      <td>0</td>\n",
       "      <td>0</td>\n",
       "      <td>0</td>\n",
       "      <td>0</td>\n",
       "      <td>0</td>\n",
       "      <td>1</td>\n",
       "    </tr>\n",
       "    <tr>\n",
       "      <th>3168</th>\n",
       "      <td>3.0</td>\n",
       "      <td>5.0</td>\n",
       "      <td>4.0</td>\n",
       "      <td>3.0</td>\n",
       "      <td>0.0</td>\n",
       "      <td>2464.0</td>\n",
       "      <td>2464.0</td>\n",
       "      <td>0.0</td>\n",
       "      <td>0.0</td>\n",
       "      <td>0.0</td>\n",
       "      <td>...</td>\n",
       "      <td>0</td>\n",
       "      <td>0</td>\n",
       "      <td>0</td>\n",
       "      <td>0</td>\n",
       "      <td>0</td>\n",
       "      <td>0</td>\n",
       "      <td>0</td>\n",
       "      <td>0</td>\n",
       "      <td>0</td>\n",
       "      <td>0</td>\n",
       "    </tr>\n",
       "    <tr>\n",
       "      <th>3169</th>\n",
       "      <td>2.0</td>\n",
       "      <td>4.0</td>\n",
       "      <td>4.0</td>\n",
       "      <td>2.0</td>\n",
       "      <td>0.0</td>\n",
       "      <td>2257.0</td>\n",
       "      <td>2257.0</td>\n",
       "      <td>0.0</td>\n",
       "      <td>0.0</td>\n",
       "      <td>0.0</td>\n",
       "      <td>...</td>\n",
       "      <td>0</td>\n",
       "      <td>0</td>\n",
       "      <td>0</td>\n",
       "      <td>0</td>\n",
       "      <td>0</td>\n",
       "      <td>0</td>\n",
       "      <td>0</td>\n",
       "      <td>0</td>\n",
       "      <td>0</td>\n",
       "      <td>0</td>\n",
       "    </tr>\n",
       "    <tr>\n",
       "      <th>3170</th>\n",
       "      <td>2.0</td>\n",
       "      <td>2.0</td>\n",
       "      <td>4.0</td>\n",
       "      <td>2.0</td>\n",
       "      <td>0.0</td>\n",
       "      <td>1216.0</td>\n",
       "      <td>1216.0</td>\n",
       "      <td>0.0</td>\n",
       "      <td>0.0</td>\n",
       "      <td>0.0</td>\n",
       "      <td>...</td>\n",
       "      <td>0</td>\n",
       "      <td>0</td>\n",
       "      <td>0</td>\n",
       "      <td>0</td>\n",
       "      <td>0</td>\n",
       "      <td>0</td>\n",
       "      <td>0</td>\n",
       "      <td>0</td>\n",
       "      <td>0</td>\n",
       "      <td>0</td>\n",
       "    </tr>\n",
       "  </tbody>\n",
       "</table>\n",
       "<p>10 rows × 111 columns</p>\n",
       "</div>"
      ],
      "text/plain": [
       "      bathroomcnt  bedroomcnt  buildingqualitytypeid  calculatedbathnbr  \\\n",
       "3160          3.0         6.0                    0.0                3.0   \n",
       "3162          3.5         4.0                    0.0                3.5   \n",
       "3163          1.0         1.0                    7.0                1.0   \n",
       "3164          1.0         2.0                    7.0                1.0   \n",
       "3165          1.0         2.0                    4.0                1.0   \n",
       "3166          2.0         4.0                    7.0                2.0   \n",
       "3167          2.0         3.0                    7.0                2.0   \n",
       "3168          3.0         5.0                    4.0                3.0   \n",
       "3169          2.0         4.0                    4.0                2.0   \n",
       "3170          2.0         2.0                    4.0                2.0   \n",
       "\n",
       "      finishedfloor1squarefeet  calculatedfinishedsquarefeet  \\\n",
       "3160                       0.0                        2744.0   \n",
       "3162                    2827.0                        5222.0   \n",
       "3163                       0.0                         588.0   \n",
       "3164                       0.0                         810.0   \n",
       "3165                       0.0                        1015.0   \n",
       "3166                       0.0                        1397.0   \n",
       "3167                       0.0                        1634.0   \n",
       "3168                       0.0                        2464.0   \n",
       "3169                       0.0                        2257.0   \n",
       "3170                       0.0                        1216.0   \n",
       "\n",
       "      finishedsquarefeet12  finishedsquarefeet13  finishedsquarefeet15  \\\n",
       "3160                2744.0                   0.0                   0.0   \n",
       "3162                5222.0                   0.0                   0.0   \n",
       "3163                 588.0                   0.0                   0.0   \n",
       "3164                 810.0                   0.0                   0.0   \n",
       "3165                1015.0                   0.0                   0.0   \n",
       "3166                1397.0                   0.0                   0.0   \n",
       "3167                1634.0                   0.0                   0.0   \n",
       "3168                2464.0                   0.0                   0.0   \n",
       "3169                2257.0                   0.0                   0.0   \n",
       "3170                1216.0                   0.0                   0.0   \n",
       "\n",
       "      finishedsquarefeet50          ...            propertyzoningdesc_20  \\\n",
       "3160                   0.0          ...                                0   \n",
       "3162                2827.0          ...                                0   \n",
       "3163                   0.0          ...                                0   \n",
       "3164                   0.0          ...                                0   \n",
       "3165                   0.0          ...                                0   \n",
       "3166                   0.0          ...                                0   \n",
       "3167                   0.0          ...                                0   \n",
       "3168                   0.0          ...                                0   \n",
       "3169                   0.0          ...                                0   \n",
       "3170                   0.0          ...                                0   \n",
       "\n",
       "      propertyzoningdesc_21  propertyzoningdesc_22  propertyzoningdesc_23  \\\n",
       "3160                      0                      0                      0   \n",
       "3162                      0                      0                      0   \n",
       "3163                      0                      0                      0   \n",
       "3164                      0                      0                      0   \n",
       "3165                      0                      0                      0   \n",
       "3166                      0                      0                      0   \n",
       "3167                      0                      0                      0   \n",
       "3168                      0                      0                      0   \n",
       "3169                      0                      0                      0   \n",
       "3170                      0                      0                      0   \n",
       "\n",
       "      propertyzoningdesc_24  propertyzoningdesc_25  propertyzoningdesc_26  \\\n",
       "3160                      0                      0                      0   \n",
       "3162                      0                      0                      0   \n",
       "3163                      0                      0                      0   \n",
       "3164                      0                      0                      0   \n",
       "3165                      0                      0                      0   \n",
       "3166                      0                      0                      0   \n",
       "3167                      0                      0                      0   \n",
       "3168                      0                      0                      0   \n",
       "3169                      0                      0                      0   \n",
       "3170                      0                      0                      0   \n",
       "\n",
       "      propertyzoningdesc_27  propertyzoningdesc_28  propertyzoningdesc_29  \n",
       "3160                      0                      1                      0  \n",
       "3162                      0                      1                      0  \n",
       "3163                      0                      0                      0  \n",
       "3164                      0                      0                      0  \n",
       "3165                      0                      0                      0  \n",
       "3166                      0                      0                      1  \n",
       "3167                      0                      0                      1  \n",
       "3168                      0                      0                      0  \n",
       "3169                      0                      0                      0  \n",
       "3170                      0                      0                      0  \n",
       "\n",
       "[10 rows x 111 columns]"
      ]
     },
     "execution_count": 19,
     "metadata": {},
     "output_type": "execute_result"
    }
   ],
   "source": [
    "X_train.loc[3160:3170]"
   ]
  },
  {
   "cell_type": "code",
   "execution_count": 20,
   "metadata": {
    "scrolled": true
   },
   "outputs": [
    {
     "data": {
      "text/html": [
       "<div>\n",
       "<style>\n",
       "    .dataframe thead tr:only-child th {\n",
       "        text-align: right;\n",
       "    }\n",
       "\n",
       "    .dataframe thead th {\n",
       "        text-align: left;\n",
       "    }\n",
       "\n",
       "    .dataframe tbody tr th {\n",
       "        vertical-align: top;\n",
       "    }\n",
       "</style>\n",
       "<table border=\"1\" class=\"dataframe\">\n",
       "  <thead>\n",
       "    <tr style=\"text-align: right;\">\n",
       "      <th></th>\n",
       "      <th>bathroomcnt</th>\n",
       "      <th>bedroomcnt</th>\n",
       "      <th>buildingqualitytypeid</th>\n",
       "      <th>calculatedbathnbr</th>\n",
       "      <th>finishedfloor1squarefeet</th>\n",
       "      <th>calculatedfinishedsquarefeet</th>\n",
       "      <th>finishedsquarefeet12</th>\n",
       "      <th>finishedsquarefeet13</th>\n",
       "      <th>finishedsquarefeet15</th>\n",
       "      <th>finishedsquarefeet50</th>\n",
       "      <th>...</th>\n",
       "      <th>propertyzoningdesc_20</th>\n",
       "      <th>propertyzoningdesc_21</th>\n",
       "      <th>propertyzoningdesc_22</th>\n",
       "      <th>propertyzoningdesc_23</th>\n",
       "      <th>propertyzoningdesc_24</th>\n",
       "      <th>propertyzoningdesc_25</th>\n",
       "      <th>propertyzoningdesc_26</th>\n",
       "      <th>propertyzoningdesc_27</th>\n",
       "      <th>propertyzoningdesc_28</th>\n",
       "      <th>propertyzoningdesc_29</th>\n",
       "    </tr>\n",
       "  </thead>\n",
       "  <tbody>\n",
       "    <tr>\n",
       "      <th>3161</th>\n",
       "      <td>3.0</td>\n",
       "      <td>6.0</td>\n",
       "      <td>0.0</td>\n",
       "      <td>3.0</td>\n",
       "      <td>0.0</td>\n",
       "      <td>2744.0</td>\n",
       "      <td>2744.0</td>\n",
       "      <td>0.0</td>\n",
       "      <td>0.0</td>\n",
       "      <td>0.0</td>\n",
       "      <td>...</td>\n",
       "      <td>0</td>\n",
       "      <td>0</td>\n",
       "      <td>0</td>\n",
       "      <td>0</td>\n",
       "      <td>0</td>\n",
       "      <td>0</td>\n",
       "      <td>0</td>\n",
       "      <td>0</td>\n",
       "      <td>1</td>\n",
       "      <td>0</td>\n",
       "    </tr>\n",
       "    <tr>\n",
       "      <th>3421</th>\n",
       "      <td>2.5</td>\n",
       "      <td>2.0</td>\n",
       "      <td>0.0</td>\n",
       "      <td>2.5</td>\n",
       "      <td>0.0</td>\n",
       "      <td>2031.0</td>\n",
       "      <td>2031.0</td>\n",
       "      <td>0.0</td>\n",
       "      <td>0.0</td>\n",
       "      <td>0.0</td>\n",
       "      <td>...</td>\n",
       "      <td>0</td>\n",
       "      <td>0</td>\n",
       "      <td>0</td>\n",
       "      <td>0</td>\n",
       "      <td>0</td>\n",
       "      <td>0</td>\n",
       "      <td>0</td>\n",
       "      <td>0</td>\n",
       "      <td>1</td>\n",
       "      <td>0</td>\n",
       "    </tr>\n",
       "    <tr>\n",
       "      <th>4191</th>\n",
       "      <td>2.0</td>\n",
       "      <td>2.0</td>\n",
       "      <td>7.0</td>\n",
       "      <td>2.0</td>\n",
       "      <td>0.0</td>\n",
       "      <td>1257.0</td>\n",
       "      <td>1257.0</td>\n",
       "      <td>0.0</td>\n",
       "      <td>0.0</td>\n",
       "      <td>0.0</td>\n",
       "      <td>...</td>\n",
       "      <td>0</td>\n",
       "      <td>0</td>\n",
       "      <td>0</td>\n",
       "      <td>0</td>\n",
       "      <td>0</td>\n",
       "      <td>0</td>\n",
       "      <td>0</td>\n",
       "      <td>0</td>\n",
       "      <td>0</td>\n",
       "      <td>0</td>\n",
       "    </tr>\n",
       "    <tr>\n",
       "      <th>10829</th>\n",
       "      <td>4.0</td>\n",
       "      <td>6.0</td>\n",
       "      <td>4.0</td>\n",
       "      <td>4.0</td>\n",
       "      <td>0.0</td>\n",
       "      <td>4021.0</td>\n",
       "      <td>4021.0</td>\n",
       "      <td>0.0</td>\n",
       "      <td>0.0</td>\n",
       "      <td>0.0</td>\n",
       "      <td>...</td>\n",
       "      <td>0</td>\n",
       "      <td>0</td>\n",
       "      <td>0</td>\n",
       "      <td>0</td>\n",
       "      <td>0</td>\n",
       "      <td>0</td>\n",
       "      <td>0</td>\n",
       "      <td>0</td>\n",
       "      <td>0</td>\n",
       "      <td>1</td>\n",
       "    </tr>\n",
       "    <tr>\n",
       "      <th>10941</th>\n",
       "      <td>3.0</td>\n",
       "      <td>3.0</td>\n",
       "      <td>1.0</td>\n",
       "      <td>3.0</td>\n",
       "      <td>0.0</td>\n",
       "      <td>2146.0</td>\n",
       "      <td>2146.0</td>\n",
       "      <td>0.0</td>\n",
       "      <td>0.0</td>\n",
       "      <td>0.0</td>\n",
       "      <td>...</td>\n",
       "      <td>0</td>\n",
       "      <td>0</td>\n",
       "      <td>0</td>\n",
       "      <td>0</td>\n",
       "      <td>0</td>\n",
       "      <td>0</td>\n",
       "      <td>0</td>\n",
       "      <td>0</td>\n",
       "      <td>0</td>\n",
       "      <td>0</td>\n",
       "    </tr>\n",
       "  </tbody>\n",
       "</table>\n",
       "<p>5 rows × 111 columns</p>\n",
       "</div>"
      ],
      "text/plain": [
       "       bathroomcnt  bedroomcnt  buildingqualitytypeid  calculatedbathnbr  \\\n",
       "3161           3.0         6.0                    0.0                3.0   \n",
       "3421           2.5         2.0                    0.0                2.5   \n",
       "4191           2.0         2.0                    7.0                2.0   \n",
       "10829          4.0         6.0                    4.0                4.0   \n",
       "10941          3.0         3.0                    1.0                3.0   \n",
       "\n",
       "       finishedfloor1squarefeet  calculatedfinishedsquarefeet  \\\n",
       "3161                        0.0                        2744.0   \n",
       "3421                        0.0                        2031.0   \n",
       "4191                        0.0                        1257.0   \n",
       "10829                       0.0                        4021.0   \n",
       "10941                       0.0                        2146.0   \n",
       "\n",
       "       finishedsquarefeet12  finishedsquarefeet13  finishedsquarefeet15  \\\n",
       "3161                 2744.0                   0.0                   0.0   \n",
       "3421                 2031.0                   0.0                   0.0   \n",
       "4191                 1257.0                   0.0                   0.0   \n",
       "10829                4021.0                   0.0                   0.0   \n",
       "10941                2146.0                   0.0                   0.0   \n",
       "\n",
       "       finishedsquarefeet50          ...            propertyzoningdesc_20  \\\n",
       "3161                    0.0          ...                                0   \n",
       "3421                    0.0          ...                                0   \n",
       "4191                    0.0          ...                                0   \n",
       "10829                   0.0          ...                                0   \n",
       "10941                   0.0          ...                                0   \n",
       "\n",
       "       propertyzoningdesc_21  propertyzoningdesc_22  propertyzoningdesc_23  \\\n",
       "3161                       0                      0                      0   \n",
       "3421                       0                      0                      0   \n",
       "4191                       0                      0                      0   \n",
       "10829                      0                      0                      0   \n",
       "10941                      0                      0                      0   \n",
       "\n",
       "       propertyzoningdesc_24  propertyzoningdesc_25  propertyzoningdesc_26  \\\n",
       "3161                       0                      0                      0   \n",
       "3421                       0                      0                      0   \n",
       "4191                       0                      0                      0   \n",
       "10829                      0                      0                      0   \n",
       "10941                      0                      0                      0   \n",
       "\n",
       "       propertyzoningdesc_27  propertyzoningdesc_28  propertyzoningdesc_29  \n",
       "3161                       0                      1                      0  \n",
       "3421                       0                      1                      0  \n",
       "4191                       0                      0                      0  \n",
       "10829                      0                      0                      1  \n",
       "10941                      0                      0                      0  \n",
       "\n",
       "[5 rows x 111 columns]"
      ]
     },
     "execution_count": 20,
     "metadata": {},
     "output_type": "execute_result"
    }
   ],
   "source": [
    "X_test.head()"
   ]
  },
  {
   "cell_type": "markdown",
   "metadata": {},
   "source": [
    "Change DataFrame to matrix "
   ]
  },
  {
   "cell_type": "code",
   "execution_count": 21,
   "metadata": {
    "collapsed": true
   },
   "outputs": [],
   "source": [
    "y_train_trans=np.arctan(32.0301149*(-0.005208795+y_train))/3.141593"
   ]
  },
  {
   "cell_type": "code",
   "execution_count": 32,
   "metadata": {},
   "outputs": [
    {
     "data": {
      "text/plain": [
       "(array([  2.00000000e+00,   0.00000000e+00,   0.00000000e+00,\n",
       "          0.00000000e+00,   1.00000000e+00,   1.00000000e+00,\n",
       "          1.00000000e+00,   4.00000000e+01,   2.00000000e+00,\n",
       "          1.00000000e+01,   2.50000000e+01,   6.30000000e+01,\n",
       "          1.98000000e+02,   1.15400000e+03,   6.81030000e+04,\n",
       "          1.09610000e+04,   7.33000000e+02,   2.27000000e+02,\n",
       "          8.70000000e+01,   3.70000000e+01,   2.20000000e+01,\n",
       "          2.20000000e+01,   2.20000000e+01,   6.00000000e+00,\n",
       "          8.00000000e+00,   4.00000000e+00,   0.00000000e+00,\n",
       "          1.00000000e+00,   0.00000000e+00,   3.00000000e+00]),\n",
       " array([-4.605 , -4.2936, -3.9822, -3.6708, -3.3594, -3.048 , -2.7366,\n",
       "        -2.4252, -2.1138, -1.8024, -1.491 , -1.1796, -0.8682, -0.5568,\n",
       "        -0.2454,  0.066 ,  0.3774,  0.6888,  1.0002,  1.3116,  1.623 ,\n",
       "         1.9344,  2.2458,  2.5572,  2.8686,  3.18  ,  3.4914,  3.8028,\n",
       "         4.1142,  4.4256,  4.737 ]),\n",
       " <a list of 30 Patch objects>)"
      ]
     },
     "execution_count": 32,
     "metadata": {},
     "output_type": "execute_result"
    },
    {
     "data": {
      "image/png": "[encoded data removed]",
      "text/plain": [
       "<matplotlib.figure.Figure at 0x7f536e0ed668>"
      ]
     },
     "metadata": {},
     "output_type": "display_data"
    }
   ],
   "source": [
    "plt.hist(y_train,30)"
   ]
  },
  {
   "cell_type": "code",
   "execution_count": 31,
   "metadata": {},
   "outputs": [
    {
     "data": {
      "text/plain": [
       "(array([ 1220.,  2493.,  2936.,  3187.,  3024.,  3393.,  3102.,  2766.,\n",
       "         2667.,  3009.,  2725.,  2884.,  2224.,  2296.,  3306.,  2296.,\n",
       "         2240.,  2856.,  2667.,  2442.,  2714.,  2493.,  2945.,  3189.,\n",
       "         2872.,  3078.,  3080.,  2964.,  2815.,  1850.]),\n",
       " array([ -4.97844364e-01,  -4.64652893e-01,  -4.31461423e-01,\n",
       "         -3.98269953e-01,  -3.65078482e-01,  -3.31887012e-01,\n",
       "         -2.98695541e-01,  -2.65504071e-01,  -2.32312600e-01,\n",
       "         -1.99121130e-01,  -1.65929659e-01,  -1.32738189e-01,\n",
       "         -9.95467185e-02,  -6.63552481e-02,  -3.31637777e-02,\n",
       "          2.76927929e-05,   3.32191632e-02,   6.64106337e-02,\n",
       "          9.96021041e-02,   1.32793575e-01,   1.65985045e-01,\n",
       "          1.99176515e-01,   2.32367986e-01,   2.65559456e-01,\n",
       "          2.98750927e-01,   3.31942397e-01,   3.65133868e-01,\n",
       "          3.98325338e-01,   4.31516809e-01,   4.64708279e-01,\n",
       "          4.97899749e-01]),\n",
       " <a list of 30 Patch objects>)"
      ]
     },
     "execution_count": 31,
     "metadata": {},
     "output_type": "execute_result"
    },
    {
     "data": {
      "image/png": "[encoded data removed]",
      "text/plain": [
       "<matplotlib.figure.Figure at 0x7f535e118ef0>"
      ]
     },
     "metadata": {},
     "output_type": "display_data"
    }
   ],
   "source": [
    "plt.hist(y_train_trans,30)"
   ]
  },
  {
   "cell_type": "code",
   "execution_count": 22,
   "metadata": {
    "collapsed": true
   },
   "outputs": [],
   "source": [
    "X_train_m, X_test_m, y_train_m, y_test_m = list(map(lambda x: x.as_matrix(), (X_train, X_test, y_train_trans, y_test)))"
   ]
  },
  {
   "cell_type": "markdown",
   "metadata": {},
   "source": [
    "Random Forests example"
   ]
  },
  {
   "cell_type": "code",
   "execution_count": 23,
   "metadata": {},
   "outputs": [
    {
     "data": {
      "text/plain": [
       "RandomForestRegressor(bootstrap=True, criterion='mse', max_depth=None,\n",
       "           max_features='auto', max_leaf_nodes=None,\n",
       "           min_impurity_split=1e-07, min_samples_leaf=1,\n",
       "           min_samples_split=2, min_weight_fraction_leaf=0.0,\n",
       "           n_estimators=10, n_jobs=1, oob_score=False, random_state=None,\n",
       "           verbose=0, warm_start=False)"
      ]
     },
     "execution_count": 23,
     "metadata": {},
     "output_type": "execute_result"
    }
   ],
   "source": [
    "rfclassifier = RandomForestRegressor(n_estimators=10)\n",
    "rfclassifier.fit(X_train_m, y_train_m)"
   ]
  },
  {
   "cell_type": "code",
   "execution_count": 24,
   "metadata": {
    "collapsed": true
   },
   "outputs": [],
   "source": [
    "y_test_predict = rfclassifier.predict(X_test_m)"
   ]
  },
  {
   "cell_type": "code",
   "execution_count": 28,
   "metadata": {},
   "outputs": [
    {
     "data": {
      "text/plain": [
       "(array([   4.,    7.,   20.,   37.,   55.,   80.,  150.,  234.,  334.,\n",
       "         479.,  565.,  741.,  786.,  872.,  823.,  800.,  689.,  571.,\n",
       "         459.,  287.,  209.,  153.,   83.,   45.,   29.,   15.,    6.,\n",
       "           6.,    1.,    2.]),\n",
       " array([-0.40339168, -0.3739336 , -0.34447553, -0.31501745, -0.28555938,\n",
       "        -0.2561013 , -0.22664323, -0.19718515, -0.16772708, -0.13826901,\n",
       "        -0.10881093, -0.07935286, -0.04989478, -0.02043671,  0.00902137,\n",
       "         0.03847944,  0.06793751,  0.09739559,  0.12685366,  0.15631174,\n",
       "         0.18576981,  0.21522789,  0.24468596,  0.27414404,  0.30360211,\n",
       "         0.33306018,  0.36251826,  0.39197633,  0.42143441,  0.45089248,\n",
       "         0.48035056]),\n",
       " <a list of 30 Patch objects>)"
      ]
     },
     "execution_count": 28,
     "metadata": {},
     "output_type": "execute_result"
    },
    {
     "data": {
      "image/png": "[encoded data removed]",
      "text/plain": [
       "<matplotlib.figure.Figure at 0x7f535e130f60>"
      ]
     },
     "metadata": {},
     "output_type": "display_data"
    }
   ],
   "source": [
    "plt.hist(y_test_predict,30)"
   ]
  },
  {
   "cell_type": "code",
   "execution_count": 29,
   "metadata": {
    "collapsed": true
   },
   "outputs": [],
   "source": [
    "y_test_predict_trans=0.0052088+0.0312206*np.tan(3.141593*y_test_predict)"
   ]
  },
  {
   "cell_type": "code",
   "execution_count": 30,
   "metadata": {},
   "outputs": [
    {
     "data": {
      "text/plain": [
       "(array([  6.70000000e+01,   7.95800000e+03,   5.08000000e+02,\n",
       "          6.00000000e+00,   1.00000000e+00,   0.00000000e+00,\n",
       "          1.00000000e+00,   0.00000000e+00,   0.00000000e+00,\n",
       "          1.00000000e+00]),\n",
       " array([-0.09448033, -0.03399993,  0.02648046,  0.08696086,  0.14744126,\n",
       "         0.20792165,  0.26840205,  0.32888245,  0.38936285,  0.44984324,\n",
       "         0.51032364]),\n",
       " <a list of 10 Patch objects>)"
      ]
     },
     "execution_count": 30,
     "metadata": {},
     "output_type": "execute_result"
    },
    {
     "data": {
      "image/png": "[encoded data removed]",
      "text/plain": [
       "<matplotlib.figure.Figure at 0x7f53a43fc550>"
      ]
     },
     "metadata": {},
     "output_type": "display_data"
    }
   ],
   "source": [
    "plt.hist(y_test_predict_trans)"
   ]
  },
  {
   "cell_type": "code",
   "execution_count": 26,
   "metadata": {},
   "outputs": [
    {
     "data": {
      "text/plain": [
       "<matplotlib.collections.PathCollection at 0x7f5248303a58>"
      ]
     },
     "execution_count": 26,
     "metadata": {},
     "output_type": "execute_result"
    },
    {
     "data": {
      "image/png": "[encoded data removed]",
      "text/plain": [
       "<matplotlib.figure.Figure at 0x7f523a68cb38>"
      ]
     },
     "metadata": {},
     "output_type": "display_data"
    }
   ],
   "source": [
    "plt.scatter(y_test_m, y_test_predict_trans)"
   ]
  },
  {
   "cell_type": "code",
   "execution_count": 27,
   "metadata": {},
   "outputs": [
    {
     "data": {
      "text/plain": [
       "0.066407369661890758"
      ]
     },
     "execution_count": 27,
     "metadata": {},
     "output_type": "execute_result"
    }
   ],
   "source": [
    "np.mean(abs(y_test_m - y_test_predict_trans))"
   ]
  },
  {
   "cell_type": "markdown",
   "metadata": {},
   "source": [
    "# Wrap up"
   ]
  },
  {
   "cell_type": "code",
   "execution_count": 5,
   "metadata": {
    "collapsed": true
   },
   "outputs": [],
   "source": [
    "import evaluator"
   ]
  },
  {
   "cell_type": "code",
   "execution_count": null,
   "metadata": {
    "collapsed": true
   },
   "outputs": [],
   "source": [
    "X_train, y_train, X_test, y_test = utils.get_train_test_sets()"
   ]
  },
  {
   "cell_type": "code",
   "execution_count": 9,
   "metadata": {
    "collapsed": true
   },
   "outputs": [],
   "source": [
    "ev = evaluator.Evaluator()\n",
    "ev.load_train_test((X_train, y_train, X_test, y_test))"
   ]
  },
  {
   "cell_type": "code",
   "execution_count": 10,
   "metadata": {
    "scrolled": true
   },
   "outputs": [
    {
     "name": "stdout",
     "output_type": "stream",
     "text": [
      "Fitting from training data\n",
      "Predicting\n",
      "Training set 0.0960392041679\n",
      "Testing set 0.247058417671\n"
     ]
    }
   ],
   "source": [
    "ev.fit(RandomForestRegressor(n_estimators=10))"
   ]
  },
  {
   "cell_type": "markdown",
   "metadata": {
    "collapsed": true
   },
   "source": [
    "Fitting from training data\n",
    "Predicting\n",
    "Training set 0.0335747407458\n",
    "Testing set 0.0814453411737"
   ]
  }
 ],
 "metadata": {
  "kernelspec": {
   "display_name": "Python 3",
   "language": "python",
   "name": "python3"
  },
  "language_info": {
   "codemirror_mode": {
    "name": "ipython",
    "version": 3
   },
   "file_extension": ".py",
   "mimetype": "text/x-python",
   "name": "python",
   "nbconvert_exporter": "python",
   "pygments_lexer": "ipython3",
   "version": "3.6.1"
  }
 },
 "nbformat": 4,
 "nbformat_minor": 1
}
