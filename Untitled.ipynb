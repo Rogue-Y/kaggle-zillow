{
 "cells": [
  {
   "cell_type": "code",
   "execution_count": 1,
   "metadata": {
    "collapsed": false
   },
   "outputs": [],
   "source": [
    "import base\n",
    "import data_clean\n",
    "import feature_eng\n",
    "import utils\n",
    "import numpy as np # linear algebra\n",
    "import pandas as pd # data processing, CSV file I/O (e.g. pd.read_csv)\n",
    "import matplotlib.pyplot as plt\n",
    "from sklearn.preprocessing import LabelEncoder\n",
    "%matplotlib inline"
   ]
  },
  {
   "cell_type": "code",
   "execution_count": 1,
   "metadata": {
    "collapsed": true
   },
   "outputs": [],
   "source": [
    "import feature_eng.data_clean"
   ]
  },
  {
   "cell_type": "code",
   "execution_count": 1,
   "metadata": {
    "collapsed": false
   },
   "outputs": [],
   "source": [
    "import feature_eng.utils as utils"
   ]
  },
  {
   "cell_type": "code",
   "execution_count": 3,
   "metadata": {
    "collapsed": false
   },
   "outputs": [
    {
     "name": "stderr",
     "output_type": "stream",
     "text": [
      "/home/hzn/anaconda3/lib/python3.6/site-packages/IPython/core/interactiveshell.py:2821: DtypeWarning: Columns (22,32,34,49,55) have mixed types. Specify dtype option on import or set low_memory=False.\n",
      "  if self.run_code(code, result):\n"
     ]
    }
   ],
   "source": [
    "train, prop = utils.load_train_data()"
   ]
  },
  {
   "cell_type": "code",
   "execution_count": 10,
   "metadata": {
    "collapsed": false
   },
   "outputs": [
    {
     "data": {
      "text/plain": [
       "LAR1          275029\n",
       "LAR3           67105\n",
       "LARS           54859\n",
       "LBR1N          52750\n",
       "LAR2           48808\n",
       "LARD1.5        39895\n",
       "SCUR2          30459\n",
       "LARD2          30377\n",
       "TORR-LO        26632\n",
       "LARA           26103\n",
       "LARE11         24005\n",
       "LCR1YY         22460\n",
       "LARE15         18655\n",
       "CARS*          17021\n",
       "PSR6           15032\n",
       "LCR1*          14916\n",
       "LKR1YY         13470\n",
       "LAR4           12750\n",
       "LARD3          12424\n",
       "GLR1YY         12252\n",
       "LAC2           11917\n",
       "PRSF*          11483\n",
       "LCA11*         10633\n",
       "BUR1YY         10472\n",
       "LCA106         10340\n",
       "SCUR3          10126\n",
       "BPR1*          10080\n",
       "CERS5000       10075\n",
       "NOR1YY          9874\n",
       "ALRPD*          9324\n",
       "               ...  \n",
       "LVA1               1\n",
       "LR3*               1\n",
       "LCCMVV             1\n",
       "LCRA1500*          1\n",
       "MNR4D46D*          1\n",
       "LAR1 1             1\n",
       "EMR3-M1*           1\n",
       "LCA22-C4*          1\n",
       "LC A11*            1\n",
       "LBPD12             1\n",
       "TORC-GEN           1\n",
       "PVRI*              1\n",
       "ARR0X*             1\n",
       "LRR165000*         1\n",
       "POR31000-T         1\n",
       "SDCHVV             1\n",
       "DOM2*              1\n",
       "AZM1*              1\n",
       "BHR1-1*            1\n",
       "LCC-R320U*         1\n",
       "EMR3P-R3*          1\n",
       "RRR2*              1\n",
       "LCA16000-P         1\n",
       "LCA11-M1*          1\n",
       "LRMDR-*            1\n",
       "BUR15000*          1\n",
       "BFR3&TC*           1\n",
       "EMC3-R2*           1\n",
       "INR2**             1\n",
       "BPC1-R3*           1\n",
       "Name: propertyzoningdesc, Length: 5638, dtype: int64"
      ]
     },
     "execution_count": 10,
     "metadata": {},
     "output_type": "execute_result"
    }
   ],
   "source": [
    "prop['propertyzoningdesc'].value_counts()"
   ]
  },
  {
   "cell_type": "code",
   "execution_count": 2,
   "metadata": {
    "collapsed": false
   },
   "outputs": [
    {
     "name": "stdout",
     "output_type": "stream",
     "text": [
      "Loading data ...\n"
     ]
    },
    {
     "name": "stderr",
     "output_type": "stream",
     "text": [
      "/home/hzn/anaconda3/lib/python3.6/site-packages/IPython/core/interactiveshell.py:2881: DtypeWarning: Columns (22,32,34,49,55) have mixed types. Specify dtype option on import or set low_memory=False.\n",
      "  exec(code_obj, self.user_global_ns, self.user_ns)\n"
     ]
    },
    {
     "name": "stdout",
     "output_type": "stream",
     "text": [
      "Cleaning data and feature engineering...\n"
     ]
    },
    {
     "ename": "AttributeError",
     "evalue": "'DataFrame' object has no attribute 'concat'",
     "output_type": "error",
     "traceback": [
      "\u001b[0;31m---------------------------------------------------------------------------\u001b[0m",
      "\u001b[0;31mAttributeError\u001b[0m                            Traceback (most recent call last)",
      "\u001b[0;32m<ipython-input-2-70ae0d416bbb>\u001b[0m in \u001b[0;36m<module>\u001b[0;34m()\u001b[0m\n\u001b[0;32m----> 1\u001b[0;31m \u001b[0mX_train\u001b[0m\u001b[0;34m,\u001b[0m \u001b[0my_train\u001b[0m\u001b[0;34m,\u001b[0m \u001b[0mX_test\u001b[0m\u001b[0;34m,\u001b[0m \u001b[0my_test\u001b[0m \u001b[0;34m=\u001b[0m \u001b[0mutils\u001b[0m\u001b[0;34m.\u001b[0m\u001b[0mget_train_test_sets\u001b[0m\u001b[0;34m(\u001b[0m\u001b[0;34m)\u001b[0m\u001b[0;34m\u001b[0m\u001b[0m\n\u001b[0m",
      "\u001b[0;32m/home/hzn/kaggle/github/kaggle-zillow/feature_eng/utils.py\u001b[0m in \u001b[0;36mget_train_test_sets\u001b[0;34m()\u001b[0m\n\u001b[1;32m    102\u001b[0m     \u001b[0mprint\u001b[0m\u001b[0;34m(\u001b[0m\u001b[0;34m'Cleaning data and feature engineering...'\u001b[0m\u001b[0;34m)\u001b[0m\u001b[0;34m\u001b[0m\u001b[0m\n\u001b[1;32m    103\u001b[0m     \u001b[0mprop_df\u001b[0m \u001b[0;34m=\u001b[0m \u001b[0mfeature_eng\u001b[0m\u001b[0;34m.\u001b[0m\u001b[0madd_missing_value_count\u001b[0m\u001b[0;34m(\u001b[0m\u001b[0mprop\u001b[0m\u001b[0;34m)\u001b[0m\u001b[0;34m\u001b[0m\u001b[0m\n\u001b[0;32m--> 104\u001b[0;31m     \u001b[0mprop_df\u001b[0m \u001b[0;34m=\u001b[0m \u001b[0mdata_clean\u001b[0m\u001b[0;34m.\u001b[0m\u001b[0mclean_categorical_data\u001b[0m\u001b[0;34m(\u001b[0m\u001b[0mprop_df\u001b[0m\u001b[0;34m)\u001b[0m\u001b[0;34m\u001b[0m\u001b[0m\n\u001b[0m\u001b[1;32m    105\u001b[0m \u001b[0;34m\u001b[0m\u001b[0m\n\u001b[1;32m    106\u001b[0m     \u001b[0;31m# Subset with transaction info\u001b[0m\u001b[0;34m\u001b[0m\u001b[0;34m\u001b[0m\u001b[0m\n",
      "\u001b[0;32m/home/hzn/kaggle/github/kaggle-zillow/feature_eng/data_clean.py\u001b[0m in \u001b[0;36mclean_categorical_data\u001b[0;34m(df)\u001b[0m\n\u001b[1;32m     91\u001b[0m     \u001b[0;31m#     deck_type_dummies, construct_mat_dummies]\u001b[0m\u001b[0;34m\u001b[0m\u001b[0;34m\u001b[0m\u001b[0m\n\u001b[1;32m     92\u001b[0m \u001b[0;34m\u001b[0m\u001b[0m\n\u001b[0;32m---> 93\u001b[0;31m     \u001b[0;32mreturn\u001b[0m \u001b[0mdf\u001b[0m\u001b[0;34m.\u001b[0m\u001b[0mdrop\u001b[0m\u001b[0;34m(\u001b[0m\u001b[0mcolumns_to_drop\u001b[0m\u001b[0;34m,\u001b[0m \u001b[0maxis\u001b[0m\u001b[0;34m=\u001b[0m\u001b[0;36m1\u001b[0m\u001b[0;34m)\u001b[0m\u001b[0;34m.\u001b[0m\u001b[0mconcat\u001b[0m\u001b[0;34m(\u001b[0m\u001b[0mdf_lists\u001b[0m\u001b[0;34m,\u001b[0m \u001b[0maxis\u001b[0m\u001b[0;34m=\u001b[0m\u001b[0;36m1\u001b[0m\u001b[0;34m)\u001b[0m\u001b[0;34m\u001b[0m\u001b[0m\n\u001b[0m\u001b[1;32m     94\u001b[0m \u001b[0;34m\u001b[0m\u001b[0m\n\u001b[1;32m     95\u001b[0m \u001b[0;32mdef\u001b[0m \u001b[0mclean_boolean_data\u001b[0m\u001b[0;34m(\u001b[0m\u001b[0mdf\u001b[0m\u001b[0;34m)\u001b[0m\u001b[0;34m:\u001b[0m\u001b[0;34m\u001b[0m\u001b[0m\n",
      "\u001b[0;32m/home/hzn/anaconda3/lib/python3.6/site-packages/pandas/core/generic.py\u001b[0m in \u001b[0;36m__getattr__\u001b[0;34m(self, name)\u001b[0m\n\u001b[1;32m   2968\u001b[0m             \u001b[0;32mif\u001b[0m \u001b[0mname\u001b[0m \u001b[0;32min\u001b[0m \u001b[0mself\u001b[0m\u001b[0;34m.\u001b[0m\u001b[0m_info_axis\u001b[0m\u001b[0;34m:\u001b[0m\u001b[0;34m\u001b[0m\u001b[0m\n\u001b[1;32m   2969\u001b[0m                 \u001b[0;32mreturn\u001b[0m \u001b[0mself\u001b[0m\u001b[0;34m[\u001b[0m\u001b[0mname\u001b[0m\u001b[0;34m]\u001b[0m\u001b[0;34m\u001b[0m\u001b[0m\n\u001b[0;32m-> 2970\u001b[0;31m             \u001b[0;32mreturn\u001b[0m \u001b[0mobject\u001b[0m\u001b[0;34m.\u001b[0m\u001b[0m__getattribute__\u001b[0m\u001b[0;34m(\u001b[0m\u001b[0mself\u001b[0m\u001b[0;34m,\u001b[0m \u001b[0mname\u001b[0m\u001b[0;34m)\u001b[0m\u001b[0;34m\u001b[0m\u001b[0m\n\u001b[0m\u001b[1;32m   2971\u001b[0m \u001b[0;34m\u001b[0m\u001b[0m\n\u001b[1;32m   2972\u001b[0m     \u001b[0;32mdef\u001b[0m \u001b[0m__setattr__\u001b[0m\u001b[0;34m(\u001b[0m\u001b[0mself\u001b[0m\u001b[0;34m,\u001b[0m \u001b[0mname\u001b[0m\u001b[0;34m,\u001b[0m \u001b[0mvalue\u001b[0m\u001b[0;34m)\u001b[0m\u001b[0;34m:\u001b[0m\u001b[0;34m\u001b[0m\u001b[0m\n",
      "\u001b[0;31mAttributeError\u001b[0m: 'DataFrame' object has no attribute 'concat'"
     ]
    }
   ],
   "source": [
    "X_train, y_train, X_test, y_test = utils.get_train_test_sets()"
   ]
  },
  {
   "cell_type": "code",
   "execution_count": 2,
   "metadata": {
    "collapsed": false
   },
   "outputs": [
    {
     "name": "stdout",
     "output_type": "stream",
     "text": [
      "Loading data ...\n"
     ]
    },
    {
     "name": "stderr",
     "output_type": "stream",
     "text": [
      "/home/hzn/anaconda3/lib/python3.6/site-packages/IPython/core/interactiveshell.py:2821: DtypeWarning: Columns (22,32,34,49,55) have mixed types. Specify dtype option on import or set low_memory=False.\n",
      "  if self.run_code(code, result):\n"
     ]
    },
    {
     "data": {
      "text/html": [
       "<div>\n",
       "<style>\n",
       "    .dataframe thead tr:only-child th {\n",
       "        text-align: right;\n",
       "    }\n",
       "\n",
       "    .dataframe thead th {\n",
       "        text-align: left;\n",
       "    }\n",
       "\n",
       "    .dataframe tbody tr th {\n",
       "        vertical-align: top;\n",
       "    }\n",
       "</style>\n",
       "<table border=\"1\" class=\"dataframe\">\n",
       "  <thead>\n",
       "    <tr style=\"text-align: right;\">\n",
       "      <th></th>\n",
       "      <th>parcelid</th>\n",
       "      <th>logerror</th>\n",
       "      <th>transactiondate</th>\n",
       "      <th>airconditioningtypeid</th>\n",
       "      <th>architecturalstyletypeid</th>\n",
       "      <th>basementsqft</th>\n",
       "      <th>bathroomcnt</th>\n",
       "      <th>bedroomcnt</th>\n",
       "      <th>buildingclasstypeid</th>\n",
       "      <th>buildingqualitytypeid</th>\n",
       "      <th>...</th>\n",
       "      <th>numberofstories</th>\n",
       "      <th>fireplaceflag</th>\n",
       "      <th>structuretaxvaluedollarcnt</th>\n",
       "      <th>taxvaluedollarcnt</th>\n",
       "      <th>assessmentyear</th>\n",
       "      <th>landtaxvaluedollarcnt</th>\n",
       "      <th>taxamount</th>\n",
       "      <th>taxdelinquencyflag</th>\n",
       "      <th>taxdelinquencyyear</th>\n",
       "      <th>censustractandblock</th>\n",
       "    </tr>\n",
       "  </thead>\n",
       "  <tbody>\n",
       "    <tr>\n",
       "      <th>0</th>\n",
       "      <td>11016594</td>\n",
       "      <td>0.0276</td>\n",
       "      <td>2016-01-01</td>\n",
       "      <td>1.0</td>\n",
       "      <td>NaN</td>\n",
       "      <td>NaN</td>\n",
       "      <td>2.0</td>\n",
       "      <td>3.0</td>\n",
       "      <td>NaN</td>\n",
       "      <td>4.0</td>\n",
       "      <td>...</td>\n",
       "      <td>NaN</td>\n",
       "      <td>NaN</td>\n",
       "      <td>122754.0</td>\n",
       "      <td>360170.0</td>\n",
       "      <td>2015.0</td>\n",
       "      <td>237416.0</td>\n",
       "      <td>6735.88</td>\n",
       "      <td>NaN</td>\n",
       "      <td>NaN</td>\n",
       "      <td>6.037107e+13</td>\n",
       "    </tr>\n",
       "    <tr>\n",
       "      <th>1</th>\n",
       "      <td>14366692</td>\n",
       "      <td>-0.1684</td>\n",
       "      <td>2016-01-01</td>\n",
       "      <td>NaN</td>\n",
       "      <td>NaN</td>\n",
       "      <td>NaN</td>\n",
       "      <td>3.5</td>\n",
       "      <td>4.0</td>\n",
       "      <td>NaN</td>\n",
       "      <td>NaN</td>\n",
       "      <td>...</td>\n",
       "      <td>NaN</td>\n",
       "      <td>NaN</td>\n",
       "      <td>346458.0</td>\n",
       "      <td>585529.0</td>\n",
       "      <td>2015.0</td>\n",
       "      <td>239071.0</td>\n",
       "      <td>10153.02</td>\n",
       "      <td>NaN</td>\n",
       "      <td>NaN</td>\n",
       "      <td>NaN</td>\n",
       "    </tr>\n",
       "    <tr>\n",
       "      <th>2</th>\n",
       "      <td>12098116</td>\n",
       "      <td>-0.0040</td>\n",
       "      <td>2016-01-01</td>\n",
       "      <td>1.0</td>\n",
       "      <td>NaN</td>\n",
       "      <td>NaN</td>\n",
       "      <td>3.0</td>\n",
       "      <td>2.0</td>\n",
       "      <td>NaN</td>\n",
       "      <td>4.0</td>\n",
       "      <td>...</td>\n",
       "      <td>NaN</td>\n",
       "      <td>NaN</td>\n",
       "      <td>61994.0</td>\n",
       "      <td>119906.0</td>\n",
       "      <td>2015.0</td>\n",
       "      <td>57912.0</td>\n",
       "      <td>11484.48</td>\n",
       "      <td>NaN</td>\n",
       "      <td>NaN</td>\n",
       "      <td>6.037464e+13</td>\n",
       "    </tr>\n",
       "    <tr>\n",
       "      <th>3</th>\n",
       "      <td>12643413</td>\n",
       "      <td>0.0218</td>\n",
       "      <td>2016-01-02</td>\n",
       "      <td>1.0</td>\n",
       "      <td>NaN</td>\n",
       "      <td>NaN</td>\n",
       "      <td>2.0</td>\n",
       "      <td>2.0</td>\n",
       "      <td>NaN</td>\n",
       "      <td>4.0</td>\n",
       "      <td>...</td>\n",
       "      <td>NaN</td>\n",
       "      <td>NaN</td>\n",
       "      <td>171518.0</td>\n",
       "      <td>244880.0</td>\n",
       "      <td>2015.0</td>\n",
       "      <td>73362.0</td>\n",
       "      <td>3048.74</td>\n",
       "      <td>NaN</td>\n",
       "      <td>NaN</td>\n",
       "      <td>6.037296e+13</td>\n",
       "    </tr>\n",
       "    <tr>\n",
       "      <th>4</th>\n",
       "      <td>14432541</td>\n",
       "      <td>-0.0050</td>\n",
       "      <td>2016-01-02</td>\n",
       "      <td>NaN</td>\n",
       "      <td>NaN</td>\n",
       "      <td>NaN</td>\n",
       "      <td>2.5</td>\n",
       "      <td>4.0</td>\n",
       "      <td>NaN</td>\n",
       "      <td>NaN</td>\n",
       "      <td>...</td>\n",
       "      <td>2.0</td>\n",
       "      <td>NaN</td>\n",
       "      <td>169574.0</td>\n",
       "      <td>434551.0</td>\n",
       "      <td>2015.0</td>\n",
       "      <td>264977.0</td>\n",
       "      <td>5488.96</td>\n",
       "      <td>NaN</td>\n",
       "      <td>NaN</td>\n",
       "      <td>6.059042e+13</td>\n",
       "    </tr>\n",
       "  </tbody>\n",
       "</table>\n",
       "<p>5 rows × 60 columns</p>\n",
       "</div>"
      ],
      "text/plain": [
       "   parcelid  logerror transactiondate  airconditioningtypeid  \\\n",
       "0  11016594    0.0276      2016-01-01                    1.0   \n",
       "1  14366692   -0.1684      2016-01-01                    NaN   \n",
       "2  12098116   -0.0040      2016-01-01                    1.0   \n",
       "3  12643413    0.0218      2016-01-02                    1.0   \n",
       "4  14432541   -0.0050      2016-01-02                    NaN   \n",
       "\n",
       "   architecturalstyletypeid  basementsqft  bathroomcnt  bedroomcnt  \\\n",
       "0                       NaN           NaN          2.0         3.0   \n",
       "1                       NaN           NaN          3.5         4.0   \n",
       "2                       NaN           NaN          3.0         2.0   \n",
       "3                       NaN           NaN          2.0         2.0   \n",
       "4                       NaN           NaN          2.5         4.0   \n",
       "\n",
       "   buildingclasstypeid  buildingqualitytypeid         ...           \\\n",
       "0                  NaN                    4.0         ...            \n",
       "1                  NaN                    NaN         ...            \n",
       "2                  NaN                    4.0         ...            \n",
       "3                  NaN                    4.0         ...            \n",
       "4                  NaN                    NaN         ...            \n",
       "\n",
       "   numberofstories  fireplaceflag  structuretaxvaluedollarcnt  \\\n",
       "0              NaN            NaN                    122754.0   \n",
       "1              NaN            NaN                    346458.0   \n",
       "2              NaN            NaN                     61994.0   \n",
       "3              NaN            NaN                    171518.0   \n",
       "4              2.0            NaN                    169574.0   \n",
       "\n",
       "   taxvaluedollarcnt  assessmentyear  landtaxvaluedollarcnt  taxamount  \\\n",
       "0           360170.0          2015.0               237416.0    6735.88   \n",
       "1           585529.0          2015.0               239071.0   10153.02   \n",
       "2           119906.0          2015.0                57912.0   11484.48   \n",
       "3           244880.0          2015.0                73362.0    3048.74   \n",
       "4           434551.0          2015.0               264977.0    5488.96   \n",
       "\n",
       "   taxdelinquencyflag  taxdelinquencyyear  censustractandblock  \n",
       "0                 NaN                 NaN         6.037107e+13  \n",
       "1                 NaN                 NaN                  NaN  \n",
       "2                 NaN                 NaN         6.037464e+13  \n",
       "3                 NaN                 NaN         6.037296e+13  \n",
       "4                 NaN                 NaN         6.059042e+13  \n",
       "\n",
       "[5 rows x 60 columns]"
      ]
     },
     "execution_count": 2,
     "metadata": {},
     "output_type": "execute_result"
    }
   ],
   "source": [
    "print('Loading data ...')\n",
    "train, prop, df = utils.load_train_data()\n",
    "df.head()"
   ]
  },
  {
   "cell_type": "code",
   "execution_count": 3,
   "metadata": {
    "collapsed": false
   },
   "outputs": [],
   "source": [
    "df = feature_eng.add_missing_value_count(df)\n",
    "df = data_clean.clean_categorical_data(df)\n",
    "df = data_clean.clean_boolean_data(df)\n",
    "df = data_clean.drop_columns(df, isTrain=True)\n",
    "X, y = utils.get_features_target(df)"
   ]
  },
  {
   "cell_type": "code",
   "execution_count": 29,
   "metadata": {
    "collapsed": false
   },
   "outputs": [
    {
     "data": {
      "text/plain": [
       "0    27\n",
       "1    31\n",
       "2    27\n",
       "3    27\n",
       "4    27\n",
       "dtype: int64"
      ]
     },
     "execution_count": 29,
     "metadata": {},
     "output_type": "execute_result"
    }
   ],
   "source": [
    "df.isnull().sum(axis=1).head()"
   ]
  },
  {
   "cell_type": "code",
   "execution_count": 22,
   "metadata": {
    "collapsed": false
   },
   "outputs": [
    {
     "data": {
      "text/plain": [
       "0    16\n",
       "1    15\n",
       "2    16\n",
       "3    16\n",
       "4    13\n",
       "5    16\n",
       "6    16\n",
       "7    12\n",
       "8    17\n",
       "9    16\n",
       "dtype: int64"
      ]
     },
     "execution_count": 22,
     "metadata": {},
     "output_type": "execute_result"
    }
   ],
   "source": [
    "df.isnull().sum(axis=1).head(10)"
   ]
  },
  {
   "cell_type": "code",
   "execution_count": 4,
   "metadata": {
    "collapsed": false
   },
   "outputs": [
    {
     "data": {
      "text/plain": [
       "count    90811.000000\n",
       "mean        28.281045\n",
       "std          3.010873\n",
       "min         19.000000\n",
       "25%         27.000000\n",
       "50%         28.000000\n",
       "75%         29.000000\n",
       "max         57.000000\n",
       "Name: missing_values, dtype: float64"
      ]
     },
     "execution_count": 4,
     "metadata": {},
     "output_type": "execute_result"
    }
   ],
   "source": [
    "X['missing_values'].describe()"
   ]
  },
  {
   "cell_type": "code",
   "execution_count": 16,
   "metadata": {
    "collapsed": false
   },
   "outputs": [
    {
     "data": {
      "text/plain": [
       "0    27\n",
       "1    31\n",
       "2    27\n",
       "3    27\n",
       "4    27\n",
       "5    28\n",
       "6    29\n",
       "7    27\n",
       "8    32\n",
       "9    31\n",
       "Name: missing_values, dtype: int64"
      ]
     },
     "execution_count": 16,
     "metadata": {},
     "output_type": "execute_result"
    }
   ],
   "source": [
    "X['missing_values'].head(10)"
   ]
  },
  {
   "cell_type": "code",
   "execution_count": 7,
   "metadata": {
    "collapsed": false
   },
   "outputs": [
    {
     "data": {
      "text/plain": [
       "(90811, 114)"
      ]
     },
     "execution_count": 7,
     "metadata": {},
     "output_type": "execute_result"
    }
   ],
   "source": [
    "X.shape"
   ]
  },
  {
   "cell_type": "code",
   "execution_count": 5,
   "metadata": {
    "collapsed": false
   },
   "outputs": [
    {
     "data": {
      "text/html": [
       "<div>\n",
       "<style>\n",
       "    .dataframe thead tr:only-child th {\n",
       "        text-align: right;\n",
       "    }\n",
       "\n",
       "    .dataframe thead th {\n",
       "        text-align: left;\n",
       "    }\n",
       "\n",
       "    .dataframe tbody tr th {\n",
       "        vertical-align: top;\n",
       "    }\n",
       "</style>\n",
       "<table border=\"1\" class=\"dataframe\">\n",
       "  <thead>\n",
       "    <tr style=\"text-align: right;\">\n",
       "      <th></th>\n",
       "      <th>fireplaceflag</th>\n",
       "      <th>hashottuborspa</th>\n",
       "      <th>pooltypeid10</th>\n",
       "      <th>pooltypeid2</th>\n",
       "      <th>pooltypeid7</th>\n",
       "      <th>taxdelinquencyflag</th>\n",
       "    </tr>\n",
       "  </thead>\n",
       "  <tbody>\n",
       "    <tr>\n",
       "      <th>0</th>\n",
       "      <td>False</td>\n",
       "      <td>False</td>\n",
       "      <td>0.0</td>\n",
       "      <td>0.0</td>\n",
       "      <td>0.0</td>\n",
       "      <td>False</td>\n",
       "    </tr>\n",
       "    <tr>\n",
       "      <th>1</th>\n",
       "      <td>False</td>\n",
       "      <td>False</td>\n",
       "      <td>0.0</td>\n",
       "      <td>0.0</td>\n",
       "      <td>0.0</td>\n",
       "      <td>False</td>\n",
       "    </tr>\n",
       "    <tr>\n",
       "      <th>2</th>\n",
       "      <td>False</td>\n",
       "      <td>False</td>\n",
       "      <td>0.0</td>\n",
       "      <td>0.0</td>\n",
       "      <td>0.0</td>\n",
       "      <td>False</td>\n",
       "    </tr>\n",
       "    <tr>\n",
       "      <th>3</th>\n",
       "      <td>False</td>\n",
       "      <td>False</td>\n",
       "      <td>0.0</td>\n",
       "      <td>0.0</td>\n",
       "      <td>0.0</td>\n",
       "      <td>False</td>\n",
       "    </tr>\n",
       "    <tr>\n",
       "      <th>4</th>\n",
       "      <td>False</td>\n",
       "      <td>False</td>\n",
       "      <td>0.0</td>\n",
       "      <td>0.0</td>\n",
       "      <td>1.0</td>\n",
       "      <td>False</td>\n",
       "    </tr>\n",
       "  </tbody>\n",
       "</table>\n",
       "</div>"
      ],
      "text/plain": [
       "   fireplaceflag  hashottuborspa  pooltypeid10  pooltypeid2  pooltypeid7  \\\n",
       "0          False           False           0.0          0.0          0.0   \n",
       "1          False           False           0.0          0.0          0.0   \n",
       "2          False           False           0.0          0.0          0.0   \n",
       "3          False           False           0.0          0.0          0.0   \n",
       "4          False           False           0.0          0.0          1.0   \n",
       "\n",
       "   taxdelinquencyflag  \n",
       "0               False  \n",
       "1               False  \n",
       "2               False  \n",
       "3               False  \n",
       "4               False  "
      ]
     },
     "execution_count": 5,
     "metadata": {},
     "output_type": "execute_result"
    }
   ],
   "source": [
    "bdf[['fireplaceflag', 'hashottuborspa', 'pooltypeid10',\n",
    "                'pooltypeid2', 'pooltypeid7', 'taxdelinquencyflag']].head()"
   ]
  },
  {
   "cell_type": "code",
   "execution_count": 18,
   "metadata": {
    "collapsed": false
   },
   "outputs": [],
   "source": [
    "vc = df['propertycountylandusecode'].value_counts()\n",
    "# df['propertycountylandusecode'].mask(df['propertycountylandusecode'].map(vc) >= 100, 'others')\n",
    "land_use_code = df['propertycountylandusecode'].mask(df['propertycountylandusecode'].map(vc) < 100, 'others')"
   ]
  },
  {
   "cell_type": "code",
   "execution_count": 22,
   "metadata": {
    "collapsed": false
   },
   "outputs": [
    {
     "data": {
      "text/plain": [
       "0        0100\n",
       "1           1\n",
       "2        0100\n",
       "3        010C\n",
       "4         122\n",
       "5        0100\n",
       "6        0100\n",
       "7        1129\n",
       "8          34\n",
       "9          34\n",
       "10       0100\n",
       "11       0100\n",
       "12       0100\n",
       "13          1\n",
       "14        122\n",
       "15        122\n",
       "16       1128\n",
       "17       010E\n",
       "18        122\n",
       "19       0100\n",
       "20       0100\n",
       "21        122\n",
       "22        122\n",
       "23       0104\n",
       "24        122\n",
       "25       0100\n",
       "26       0100\n",
       "27         34\n",
       "28       010E\n",
       "29       010C\n",
       "         ... \n",
       "90781    01HC\n",
       "90782    0100\n",
       "90783     122\n",
       "90784    0100\n",
       "90785     122\n",
       "90786    0100\n",
       "90787    010C\n",
       "90788    010C\n",
       "90789    0100\n",
       "90790    0100\n",
       "90791     122\n",
       "90792    010C\n",
       "90793    010C\n",
       "90794    010C\n",
       "90795    010C\n",
       "90796    0100\n",
       "90797    0100\n",
       "90798    010C\n",
       "90799    010C\n",
       "90800    010C\n",
       "90801    0200\n",
       "90802    1111\n",
       "90803    0100\n",
       "90804    0100\n",
       "90805    010C\n",
       "90806    0100\n",
       "90807    0200\n",
       "90808    010C\n",
       "90809    0100\n",
       "90810    0100\n",
       "Name: propertycountylandusecode, Length: 90811, dtype: object"
      ]
     },
     "execution_count": 22,
     "metadata": {},
     "output_type": "execute_result"
    }
   ],
   "source": [
    "land_use_code.astype('str')"
   ]
  },
  {
   "cell_type": "code",
   "execution_count": 23,
   "metadata": {
    "collapsed": false
   },
   "outputs": [],
   "source": [
    "labelEncoder = LabelEncoder()\n",
    "land_use_code = labelEncoder.fit_transform(land_use_code.astype('str'))\n",
    "land_use_dummies = pd.get_dummies(land_use_code, prefix='propertycountylandusecode')"
   ]
  },
  {
   "cell_type": "code",
   "execution_count": 26,
   "metadata": {
    "collapsed": false
   },
   "outputs": [
    {
     "data": {
      "text/plain": [
       "(90811, 25)"
      ]
     },
     "execution_count": 26,
     "metadata": {},
     "output_type": "execute_result"
    }
   ],
   "source": [
    "land_use_dummies.shape"
   ]
  },
  {
   "cell_type": "code",
   "execution_count": 3,
   "metadata": {
    "collapsed": false
   },
   "outputs": [
    {
     "data": {
      "text/plain": [
       "(90811, 60)"
      ]
     },
     "execution_count": 3,
     "metadata": {},
     "output_type": "execute_result"
    }
   ],
   "source": [
    "df.shape"
   ]
  },
  {
   "cell_type": "code",
   "execution_count": 4,
   "metadata": {
    "collapsed": false
   },
   "outputs": [],
   "source": [
    "# Add absolute error, over estimate, under estimate\n",
    "df['abs_logerror'] = abs(df['logerror'])\n",
    "df['over'] = df.apply(lambda row : row['logerror'] if row['logerror'] > 0 else 0, axis = 1)\n",
    "df['under'] = df.apply(lambda row : row['logerror'] if row['logerror'] < 0 else 0, axis = 1)"
   ]
  },
  {
   "cell_type": "code",
   "execution_count": 5,
   "metadata": {
    "collapsed": true
   },
   "outputs": [],
   "source": [
    "# Number of missing values in a row\n",
    "df['missing_values'] = df.apply(lambda row: len(row) - len(row.dropna()), axis=1)"
   ]
  },
  {
   "cell_type": "code",
   "execution_count": null,
   "metadata": {
    "collapsed": true
   },
   "outputs": [],
   "source": []
  },
  {
   "cell_type": "code",
   "execution_count": 13,
   "metadata": {
    "collapsed": false
   },
   "outputs": [
    {
     "data": {
      "text/plain": [
       "0    0.0000\n",
       "1   -0.1684\n",
       "2   -0.0040\n",
       "3    0.0000\n",
       "4   -0.0050\n",
       "5   -0.2705\n",
       "6    0.0000\n",
       "7    0.0000\n",
       "8   -0.0030\n",
       "9    0.0000\n",
       "Name: under, dtype: float64"
      ]
     },
     "execution_count": 13,
     "metadata": {},
     "output_type": "execute_result"
    }
   ],
   "source": [
    "df['under'].head(10)"
   ]
  },
  {
   "cell_type": "code",
   "execution_count": 59,
   "metadata": {
    "collapsed": false
   },
   "outputs": [
    {
     "data": {
      "text/plain": [
       "0.9493758382540185"
      ]
     },
     "execution_count": 59,
     "metadata": {},
     "output_type": "execute_result"
    }
   ],
   "source": [
    "df.corr()['taxamount']['taxvaluedollarcnt']"
   ]
  },
  {
   "cell_type": "code",
   "execution_count": 33,
   "metadata": {
    "collapsed": false
   },
   "outputs": [
    {
     "data": {
      "text/plain": [
       "missing_values                 -0.041465\n",
       "heatingorsystemtypeid          -0.025018\n",
       "yardbuildingsqft17             -0.023692\n",
       "typeconstructiontypeid         -0.022419\n",
       "taxdelinquencyyear             -0.012996\n",
       "buildingqualitytypeid          -0.009573\n",
       "taxamount                      -0.006671\n",
       "regionidzip                    -0.006507\n",
       "regionidneighborhood           -0.004638\n",
       "architecturalstyletypeid       -0.004276\n",
       "unitcnt                        -0.003983\n",
       "longitude                      -0.003432\n",
       "landtaxvaluedollarcnt          -0.003051\n",
       "regionidcity                   -0.002121\n",
       "poolsizesum                    -0.000454\n",
       "regionidcounty                  0.000341\n",
       "propertylandusetypeid           0.001003\n",
       "parcelid                        0.002075\n",
       "lotsizesquarefeet               0.004835\n",
       "latitude                        0.004915\n",
       "airconditioningtypeid           0.005179\n",
       "roomcnt                         0.005760\n",
       "taxvaluedollarcnt               0.006508\n",
       "fips                            0.008363\n",
       "rawcensustractandblock          0.008376\n",
       "censustractandblock             0.008892\n",
       "numberofstories                 0.013075\n",
       "yearbuilt                       0.017312\n",
       "finishedsquarefeet15            0.019327\n",
       "structuretaxvaluedollarcnt      0.022085\n",
       "finishedsquarefeet50            0.023619\n",
       "garagetotalsqft                 0.023888\n",
       "bedroomcnt                      0.025467\n",
       "finishedfloor1squarefeet        0.026242\n",
       "garagecarcnt                    0.026531\n",
       "bathroomcnt                     0.027889\n",
       "fullbathcnt                     0.028845\n",
       "calculatedbathnbr               0.029448\n",
       "fireplacecnt                    0.033235\n",
       "threequarterbathnbr             0.034069\n",
       "finishedsquarefeet13            0.034715\n",
       "finishedsquarefeet6             0.036847\n",
       "calculatedfinishedsquarefeet    0.038784\n",
       "finishedsquarefeet12            0.041922\n",
       "yardbuildingsqft26              0.086179\n",
       "abs_logerror                    0.224626\n",
       "basementsqft                    0.253395\n",
       "under                           0.668917\n",
       "over                            0.805842\n",
       "logerror                        1.000000\n",
       "buildingclasstypeid                  NaN\n",
       "decktypeid                           NaN\n",
       "poolcnt                              NaN\n",
       "pooltypeid10                         NaN\n",
       "pooltypeid2                          NaN\n",
       "pooltypeid7                          NaN\n",
       "storytypeid                          NaN\n",
       "assessmentyear                       NaN\n",
       "Name: logerror, dtype: float64"
      ]
     },
     "execution_count": 33,
     "metadata": {},
     "output_type": "execute_result"
    }
   ],
   "source": [
    "# Correlation with logerror\n",
    "df.corr()['logerror'].sort_values()"
   ]
  },
  {
   "cell_type": "code",
   "execution_count": 39,
   "metadata": {
    "collapsed": false,
    "scrolled": true
   },
   "outputs": [
    {
     "data": {
      "text/plain": [
       "under                          -0.574085\n",
       "yearbuilt                      -0.115850\n",
       "finishedsquarefeet6            -0.108821\n",
       "propertylandusetypeid          -0.095566\n",
       "rawcensustractandblock         -0.039303\n",
       "fips                           -0.039231\n",
       "censustractandblock            -0.039213\n",
       "longitude                      -0.036256\n",
       "roomcnt                        -0.035022\n",
       "parcelid                       -0.032589\n",
       "numberofstories                -0.021184\n",
       "airconditioningtypeid          -0.019624\n",
       "yardbuildingsqft26             -0.017415\n",
       "typeconstructiontypeid         -0.016288\n",
       "taxdelinquencyyear             -0.014575\n",
       "bathroomcnt                    -0.006541\n",
       "regionidcity                   -0.003800\n",
       "lotsizesquarefeet              -0.003365\n",
       "regionidneighborhood           -0.001705\n",
       "bedroomcnt                      0.001220\n",
       "yardbuildingsqft17              0.001820\n",
       "regionidzip                     0.002952\n",
       "architecturalstyletypeid        0.006027\n",
       "calculatedbathnbr               0.009510\n",
       "garagecarcnt                    0.014928\n",
       "fullbathcnt                     0.017007\n",
       "latitude                        0.019167\n",
       "finishedsquarefeet12            0.026750\n",
       "structuretaxvaluedollarcnt      0.027121\n",
       "garagetotalsqft                 0.029417\n",
       "finishedfloor1squarefeet        0.030578\n",
       "finishedsquarefeet50            0.031962\n",
       "fireplacecnt                    0.037403\n",
       "taxvaluedollarcnt               0.038343\n",
       "calculatedfinishedsquarefeet    0.039368\n",
       "landtaxvaluedollarcnt           0.039973\n",
       "heatingorsystemtypeid           0.040220\n",
       "finishedsquarefeet15            0.045420\n",
       "unitcnt                         0.046517\n",
       "taxamount                       0.048277\n",
       "buildingqualitytypeid           0.059824\n",
       "regionidcounty                  0.061964\n",
       "threequarterbathnbr             0.064325\n",
       "missing_values                  0.069764\n",
       "poolsizesum                     0.109684\n",
       "finishedsquarefeet13            0.129071\n",
       "basementsqft                    0.212579\n",
       "logerror                        0.224626\n",
       "over                            0.758013\n",
       "abs_logerror                    1.000000\n",
       "buildingclasstypeid                  NaN\n",
       "decktypeid                           NaN\n",
       "poolcnt                              NaN\n",
       "pooltypeid10                         NaN\n",
       "pooltypeid2                          NaN\n",
       "pooltypeid7                          NaN\n",
       "storytypeid                          NaN\n",
       "assessmentyear                       NaN\n",
       "Name: abs_logerror, dtype: float64"
      ]
     },
     "execution_count": 39,
     "metadata": {},
     "output_type": "execute_result"
    }
   ],
   "source": [
    "df.corr()['abs_logerror'].sort_values()"
   ]
  },
  {
   "cell_type": "code",
   "execution_count": 11,
   "metadata": {
    "collapsed": false
   },
   "outputs": [
    {
     "name": "stdout",
     "output_type": "stream",
     "text": [
      "count     1783\n",
      "unique       1\n",
      "top          Y\n",
      "freq      1783\n",
      "Name: taxdelinquencyflag, dtype: object\n",
      "\n",
      "Y    1783\n",
      "Name: taxdelinquencyflag, dtype: int64\n"
     ]
    }
   ],
   "source": [
    "# Investigating each feature\n",
    "column = 'taxdelinquencyflag'\n",
    "print(df[column].describe())\n",
    "print()\n",
    "\n",
    "print(df[column].value_counts())"
   ]
  },
  {
   "cell_type": "code",
   "execution_count": 8,
   "metadata": {
    "collapsed": false
   },
   "outputs": [
    {
     "data": {
      "text/plain": [
       "0         NaN\n",
       "1         NaN\n",
       "2         NaN\n",
       "3         NaN\n",
       "4         NaN\n",
       "5         NaN\n",
       "6         NaN\n",
       "7         NaN\n",
       "8         NaN\n",
       "9         NaN\n",
       "10        NaN\n",
       "11        NaN\n",
       "12        NaN\n",
       "13        NaN\n",
       "14        NaN\n",
       "15        NaN\n",
       "16        NaN\n",
       "17        NaN\n",
       "18        NaN\n",
       "19        NaN\n",
       "20        NaN\n",
       "21        NaN\n",
       "22        NaN\n",
       "23        NaN\n",
       "24        NaN\n",
       "25        NaN\n",
       "26        NaN\n",
       "27       True\n",
       "28        NaN\n",
       "29        NaN\n",
       "         ... \n",
       "90781     NaN\n",
       "90782     NaN\n",
       "90783     NaN\n",
       "90784     NaN\n",
       "90785     NaN\n",
       "90786     NaN\n",
       "90787     NaN\n",
       "90788     NaN\n",
       "90789     NaN\n",
       "90790     NaN\n",
       "90791     NaN\n",
       "90792     NaN\n",
       "90793     NaN\n",
       "90794     NaN\n",
       "90795     NaN\n",
       "90796     NaN\n",
       "90797     NaN\n",
       "90798     NaN\n",
       "90799     NaN\n",
       "90800     NaN\n",
       "90801     NaN\n",
       "90802     NaN\n",
       "90803     NaN\n",
       "90804     NaN\n",
       "90805     NaN\n",
       "90806     NaN\n",
       "90807     NaN\n",
       "90808     NaN\n",
       "90809     NaN\n",
       "90810     NaN\n",
       "Name: fireplaceflag, Length: 90811, dtype: object"
      ]
     },
     "execution_count": 8,
     "metadata": {},
     "output_type": "execute_result"
    }
   ],
   "source": [
    "df[column]"
   ]
  },
  {
   "cell_type": "code",
   "execution_count": 63,
   "metadata": {
    "collapsed": false
   },
   "outputs": [
    {
     "ename": "ValueError",
     "evalue": "could not convert string to float: 'Y'",
     "output_type": "error",
     "traceback": [
      "\u001b[0;31m---------------------------------------------------------------------------\u001b[0m",
      "\u001b[0;31mValueError\u001b[0m                                Traceback (most recent call last)",
      "\u001b[0;32m<ipython-input-63-36f76261a96b>\u001b[0m in \u001b[0;36m<module>\u001b[0;34m()\u001b[0m\n\u001b[1;32m      1\u001b[0m \u001b[0mplot_log_error\u001b[0m \u001b[0;34m=\u001b[0m \u001b[0mdf\u001b[0m\u001b[0;34m.\u001b[0m\u001b[0mgroupby\u001b[0m\u001b[0;34m(\u001b[0m\u001b[0mcolumn\u001b[0m\u001b[0;34m)\u001b[0m\u001b[0;34m[\u001b[0m\u001b[0;34m'logerror'\u001b[0m\u001b[0;34m]\u001b[0m\u001b[0;34m.\u001b[0m\u001b[0mmean\u001b[0m\u001b[0;34m(\u001b[0m\u001b[0;34m)\u001b[0m\u001b[0;34m\u001b[0m\u001b[0m\n\u001b[1;32m      2\u001b[0m \u001b[0mplt\u001b[0m\u001b[0;34m.\u001b[0m\u001b[0mfigure\u001b[0m\u001b[0;34m(\u001b[0m\u001b[0;34m)\u001b[0m\u001b[0;34m\u001b[0m\u001b[0m\n\u001b[0;32m----> 3\u001b[0;31m \u001b[0mplt\u001b[0m\u001b[0;34m.\u001b[0m\u001b[0mplot\u001b[0m\u001b[0;34m(\u001b[0m\u001b[0mplot_log_error\u001b[0m\u001b[0;34m.\u001b[0m\u001b[0mindex\u001b[0m\u001b[0;34m,\u001b[0m \u001b[0mplot_log_error\u001b[0m\u001b[0;34m)\u001b[0m\u001b[0;34m\u001b[0m\u001b[0m\n\u001b[0m",
      "\u001b[0;32m/home/hzn/anaconda3/lib/python3.6/site-packages/matplotlib/pyplot.py\u001b[0m in \u001b[0;36mplot\u001b[0;34m(*args, **kwargs)\u001b[0m\n\u001b[1;32m   3315\u001b[0m                       mplDeprecation)\n\u001b[1;32m   3316\u001b[0m     \u001b[0;32mtry\u001b[0m\u001b[0;34m:\u001b[0m\u001b[0;34m\u001b[0m\u001b[0m\n\u001b[0;32m-> 3317\u001b[0;31m         \u001b[0mret\u001b[0m \u001b[0;34m=\u001b[0m \u001b[0max\u001b[0m\u001b[0;34m.\u001b[0m\u001b[0mplot\u001b[0m\u001b[0;34m(\u001b[0m\u001b[0;34m*\u001b[0m\u001b[0margs\u001b[0m\u001b[0;34m,\u001b[0m \u001b[0;34m**\u001b[0m\u001b[0mkwargs\u001b[0m\u001b[0;34m)\u001b[0m\u001b[0;34m\u001b[0m\u001b[0m\n\u001b[0m\u001b[1;32m   3318\u001b[0m     \u001b[0;32mfinally\u001b[0m\u001b[0;34m:\u001b[0m\u001b[0;34m\u001b[0m\u001b[0m\n\u001b[1;32m   3319\u001b[0m         \u001b[0max\u001b[0m\u001b[0;34m.\u001b[0m\u001b[0m_hold\u001b[0m \u001b[0;34m=\u001b[0m \u001b[0mwashold\u001b[0m\u001b[0;34m\u001b[0m\u001b[0m\n",
      "\u001b[0;32m/home/hzn/anaconda3/lib/python3.6/site-packages/matplotlib/__init__.py\u001b[0m in \u001b[0;36minner\u001b[0;34m(ax, *args, **kwargs)\u001b[0m\n\u001b[1;32m   1896\u001b[0m                     warnings.warn(msg % (label_namer, func.__name__),\n\u001b[1;32m   1897\u001b[0m                                   RuntimeWarning, stacklevel=2)\n\u001b[0;32m-> 1898\u001b[0;31m             \u001b[0;32mreturn\u001b[0m \u001b[0mfunc\u001b[0m\u001b[0;34m(\u001b[0m\u001b[0max\u001b[0m\u001b[0;34m,\u001b[0m \u001b[0;34m*\u001b[0m\u001b[0margs\u001b[0m\u001b[0;34m,\u001b[0m \u001b[0;34m**\u001b[0m\u001b[0mkwargs\u001b[0m\u001b[0;34m)\u001b[0m\u001b[0;34m\u001b[0m\u001b[0m\n\u001b[0m\u001b[1;32m   1899\u001b[0m         \u001b[0mpre_doc\u001b[0m \u001b[0;34m=\u001b[0m \u001b[0minner\u001b[0m\u001b[0;34m.\u001b[0m\u001b[0m__doc__\u001b[0m\u001b[0;34m\u001b[0m\u001b[0m\n\u001b[1;32m   1900\u001b[0m         \u001b[0;32mif\u001b[0m \u001b[0mpre_doc\u001b[0m \u001b[0;32mis\u001b[0m \u001b[0;32mNone\u001b[0m\u001b[0;34m:\u001b[0m\u001b[0;34m\u001b[0m\u001b[0m\n",
      "\u001b[0;32m/home/hzn/anaconda3/lib/python3.6/site-packages/matplotlib/axes/_axes.py\u001b[0m in \u001b[0;36mplot\u001b[0;34m(self, *args, **kwargs)\u001b[0m\n\u001b[1;32m   1405\u001b[0m \u001b[0;34m\u001b[0m\u001b[0m\n\u001b[1;32m   1406\u001b[0m         \u001b[0;32mfor\u001b[0m \u001b[0mline\u001b[0m \u001b[0;32min\u001b[0m \u001b[0mself\u001b[0m\u001b[0;34m.\u001b[0m\u001b[0m_get_lines\u001b[0m\u001b[0;34m(\u001b[0m\u001b[0;34m*\u001b[0m\u001b[0margs\u001b[0m\u001b[0;34m,\u001b[0m \u001b[0;34m**\u001b[0m\u001b[0mkwargs\u001b[0m\u001b[0;34m)\u001b[0m\u001b[0;34m:\u001b[0m\u001b[0;34m\u001b[0m\u001b[0m\n\u001b[0;32m-> 1407\u001b[0;31m             \u001b[0mself\u001b[0m\u001b[0;34m.\u001b[0m\u001b[0madd_line\u001b[0m\u001b[0;34m(\u001b[0m\u001b[0mline\u001b[0m\u001b[0;34m)\u001b[0m\u001b[0;34m\u001b[0m\u001b[0m\n\u001b[0m\u001b[1;32m   1408\u001b[0m             \u001b[0mlines\u001b[0m\u001b[0;34m.\u001b[0m\u001b[0mappend\u001b[0m\u001b[0;34m(\u001b[0m\u001b[0mline\u001b[0m\u001b[0;34m)\u001b[0m\u001b[0;34m\u001b[0m\u001b[0m\n\u001b[1;32m   1409\u001b[0m \u001b[0;34m\u001b[0m\u001b[0m\n",
      "\u001b[0;32m/home/hzn/anaconda3/lib/python3.6/site-packages/matplotlib/axes/_base.py\u001b[0m in \u001b[0;36madd_line\u001b[0;34m(self, line)\u001b[0m\n\u001b[1;32m   1791\u001b[0m             \u001b[0mline\u001b[0m\u001b[0;34m.\u001b[0m\u001b[0mset_clip_path\u001b[0m\u001b[0;34m(\u001b[0m\u001b[0mself\u001b[0m\u001b[0;34m.\u001b[0m\u001b[0mpatch\u001b[0m\u001b[0;34m)\u001b[0m\u001b[0;34m\u001b[0m\u001b[0m\n\u001b[1;32m   1792\u001b[0m \u001b[0;34m\u001b[0m\u001b[0m\n\u001b[0;32m-> 1793\u001b[0;31m         \u001b[0mself\u001b[0m\u001b[0;34m.\u001b[0m\u001b[0m_update_line_limits\u001b[0m\u001b[0;34m(\u001b[0m\u001b[0mline\u001b[0m\u001b[0;34m)\u001b[0m\u001b[0;34m\u001b[0m\u001b[0m\n\u001b[0m\u001b[1;32m   1794\u001b[0m         \u001b[0;32mif\u001b[0m \u001b[0;32mnot\u001b[0m \u001b[0mline\u001b[0m\u001b[0;34m.\u001b[0m\u001b[0mget_label\u001b[0m\u001b[0;34m(\u001b[0m\u001b[0;34m)\u001b[0m\u001b[0;34m:\u001b[0m\u001b[0;34m\u001b[0m\u001b[0m\n\u001b[1;32m   1795\u001b[0m             \u001b[0mline\u001b[0m\u001b[0;34m.\u001b[0m\u001b[0mset_label\u001b[0m\u001b[0;34m(\u001b[0m\u001b[0;34m'_line%d'\u001b[0m \u001b[0;34m%\u001b[0m \u001b[0mlen\u001b[0m\u001b[0;34m(\u001b[0m\u001b[0mself\u001b[0m\u001b[0;34m.\u001b[0m\u001b[0mlines\u001b[0m\u001b[0;34m)\u001b[0m\u001b[0;34m)\u001b[0m\u001b[0;34m\u001b[0m\u001b[0m\n",
      "\u001b[0;32m/home/hzn/anaconda3/lib/python3.6/site-packages/matplotlib/axes/_base.py\u001b[0m in \u001b[0;36m_update_line_limits\u001b[0;34m(self, line)\u001b[0m\n\u001b[1;32m   1813\u001b[0m         \u001b[0mFigures\u001b[0m \u001b[0mout\u001b[0m \u001b[0mthe\u001b[0m \u001b[0mdata\u001b[0m \u001b[0mlimit\u001b[0m \u001b[0mof\u001b[0m \u001b[0mthe\u001b[0m \u001b[0mgiven\u001b[0m \u001b[0mline\u001b[0m\u001b[0;34m,\u001b[0m \u001b[0mupdating\u001b[0m \u001b[0mself\u001b[0m\u001b[0;34m.\u001b[0m\u001b[0mdataLim\u001b[0m\u001b[0;34m.\u001b[0m\u001b[0;34m\u001b[0m\u001b[0m\n\u001b[1;32m   1814\u001b[0m         \"\"\"\n\u001b[0;32m-> 1815\u001b[0;31m         \u001b[0mpath\u001b[0m \u001b[0;34m=\u001b[0m \u001b[0mline\u001b[0m\u001b[0;34m.\u001b[0m\u001b[0mget_path\u001b[0m\u001b[0;34m(\u001b[0m\u001b[0;34m)\u001b[0m\u001b[0;34m\u001b[0m\u001b[0m\n\u001b[0m\u001b[1;32m   1816\u001b[0m         \u001b[0;32mif\u001b[0m \u001b[0mpath\u001b[0m\u001b[0;34m.\u001b[0m\u001b[0mvertices\u001b[0m\u001b[0;34m.\u001b[0m\u001b[0msize\u001b[0m \u001b[0;34m==\u001b[0m \u001b[0;36m0\u001b[0m\u001b[0;34m:\u001b[0m\u001b[0;34m\u001b[0m\u001b[0m\n\u001b[1;32m   1817\u001b[0m             \u001b[0;32mreturn\u001b[0m\u001b[0;34m\u001b[0m\u001b[0m\n",
      "\u001b[0;32m/home/hzn/anaconda3/lib/python3.6/site-packages/matplotlib/lines.py\u001b[0m in \u001b[0;36mget_path\u001b[0;34m(self)\u001b[0m\n\u001b[1;32m    987\u001b[0m         \"\"\"\n\u001b[1;32m    988\u001b[0m         \u001b[0;32mif\u001b[0m \u001b[0mself\u001b[0m\u001b[0;34m.\u001b[0m\u001b[0m_invalidy\u001b[0m \u001b[0;32mor\u001b[0m \u001b[0mself\u001b[0m\u001b[0;34m.\u001b[0m\u001b[0m_invalidx\u001b[0m\u001b[0;34m:\u001b[0m\u001b[0;34m\u001b[0m\u001b[0m\n\u001b[0;32m--> 989\u001b[0;31m             \u001b[0mself\u001b[0m\u001b[0;34m.\u001b[0m\u001b[0mrecache\u001b[0m\u001b[0;34m(\u001b[0m\u001b[0;34m)\u001b[0m\u001b[0;34m\u001b[0m\u001b[0m\n\u001b[0m\u001b[1;32m    990\u001b[0m         \u001b[0;32mreturn\u001b[0m \u001b[0mself\u001b[0m\u001b[0;34m.\u001b[0m\u001b[0m_path\u001b[0m\u001b[0;34m\u001b[0m\u001b[0m\n\u001b[1;32m    991\u001b[0m \u001b[0;34m\u001b[0m\u001b[0m\n",
      "\u001b[0;32m/home/hzn/anaconda3/lib/python3.6/site-packages/matplotlib/lines.py\u001b[0m in \u001b[0;36mrecache\u001b[0;34m(self, always)\u001b[0m\n\u001b[1;32m    674\u001b[0m                 \u001b[0mx\u001b[0m \u001b[0;34m=\u001b[0m \u001b[0mma\u001b[0m\u001b[0;34m.\u001b[0m\u001b[0masarray\u001b[0m\u001b[0;34m(\u001b[0m\u001b[0mxconv\u001b[0m\u001b[0;34m,\u001b[0m \u001b[0mnp\u001b[0m\u001b[0;34m.\u001b[0m\u001b[0mfloat_\u001b[0m\u001b[0;34m)\u001b[0m\u001b[0;34m.\u001b[0m\u001b[0mfilled\u001b[0m\u001b[0;34m(\u001b[0m\u001b[0mnp\u001b[0m\u001b[0;34m.\u001b[0m\u001b[0mnan\u001b[0m\u001b[0;34m)\u001b[0m\u001b[0;34m\u001b[0m\u001b[0m\n\u001b[1;32m    675\u001b[0m             \u001b[0;32melse\u001b[0m\u001b[0;34m:\u001b[0m\u001b[0;34m\u001b[0m\u001b[0m\n\u001b[0;32m--> 676\u001b[0;31m                 \u001b[0mx\u001b[0m \u001b[0;34m=\u001b[0m \u001b[0mnp\u001b[0m\u001b[0;34m.\u001b[0m\u001b[0masarray\u001b[0m\u001b[0;34m(\u001b[0m\u001b[0mxconv\u001b[0m\u001b[0;34m,\u001b[0m \u001b[0mnp\u001b[0m\u001b[0;34m.\u001b[0m\u001b[0mfloat_\u001b[0m\u001b[0;34m)\u001b[0m\u001b[0;34m\u001b[0m\u001b[0m\n\u001b[0m\u001b[1;32m    677\u001b[0m             \u001b[0mx\u001b[0m \u001b[0;34m=\u001b[0m \u001b[0mx\u001b[0m\u001b[0;34m.\u001b[0m\u001b[0mravel\u001b[0m\u001b[0;34m(\u001b[0m\u001b[0;34m)\u001b[0m\u001b[0;34m\u001b[0m\u001b[0m\n\u001b[1;32m    678\u001b[0m         \u001b[0;32melse\u001b[0m\u001b[0;34m:\u001b[0m\u001b[0;34m\u001b[0m\u001b[0m\n",
      "\u001b[0;32m/home/hzn/anaconda3/lib/python3.6/site-packages/numpy/core/numeric.py\u001b[0m in \u001b[0;36masarray\u001b[0;34m(a, dtype, order)\u001b[0m\n\u001b[1;32m    529\u001b[0m \u001b[0;34m\u001b[0m\u001b[0m\n\u001b[1;32m    530\u001b[0m     \"\"\"\n\u001b[0;32m--> 531\u001b[0;31m     \u001b[0;32mreturn\u001b[0m \u001b[0marray\u001b[0m\u001b[0;34m(\u001b[0m\u001b[0ma\u001b[0m\u001b[0;34m,\u001b[0m \u001b[0mdtype\u001b[0m\u001b[0;34m,\u001b[0m \u001b[0mcopy\u001b[0m\u001b[0;34m=\u001b[0m\u001b[0;32mFalse\u001b[0m\u001b[0;34m,\u001b[0m \u001b[0morder\u001b[0m\u001b[0;34m=\u001b[0m\u001b[0morder\u001b[0m\u001b[0;34m)\u001b[0m\u001b[0;34m\u001b[0m\u001b[0m\n\u001b[0m\u001b[1;32m    532\u001b[0m \u001b[0;34m\u001b[0m\u001b[0m\n\u001b[1;32m    533\u001b[0m \u001b[0;34m\u001b[0m\u001b[0m\n",
      "\u001b[0;31mValueError\u001b[0m: could not convert string to float: 'Y'"
     ]
    },
    {
     "data": {
      "image/png": "[encoded data removed]",
      "text/plain": [
       "<matplotlib.figure.Figure at 0x7f7dd01b90f0>"
      ]
     },
     "metadata": {},
     "output_type": "display_data"
    }
   ],
   "source": [
    "plot_log_error = df.groupby(column)['logerror'].mean()\n",
    "plt.figure()\n",
    "plt.plot(plot_log_error.index, plot_log_error)"
   ]
  },
  {
   "cell_type": "code",
   "execution_count": 41,
   "metadata": {
    "collapsed": false
   },
   "outputs": [
    {
     "data": {
      "text/plain": [
       "[<matplotlib.lines.Line2D at 0x7f7e0a80d7b8>]"
      ]
     },
     "execution_count": 41,
     "metadata": {},
     "output_type": "execute_result"
    },
    {
     "data": {
      "image/png": "[encoded data removed]",
      "text/plain": [
       "<matplotlib.figure.Figure at 0x7f7dd00f87f0>"
      ]
     },
     "metadata": {},
     "output_type": "display_data"
    }
   ],
   "source": [
    "print(df['logerror'].mean())\n",
    "print()\n",
    "print(df['abs_logerror'].mean())\n",
    "print()\n",
    "print(df['over'].mean())\n",
    "print()\n",
    "print(df['under'].mean())\n",
    "print()\n",
    "print(df.groupby(column)['logerror'].mean())\n",
    "print()\n",
    "print(df.groupby(column)['abs_logerror'].mean())\n",
    "print()\n",
    "print(df.groupby(column)['over'].mean())\n",
    "print()\n",
    "print(df.groupby(column)['under'].mean())"
   ]
  },
  {
   "cell_type": "code",
   "execution_count": 94,
   "metadata": {
    "collapsed": false
   },
   "outputs": [
    {
     "data": {
      "text/plain": [
       "0.61805976739494561"
      ]
     },
     "execution_count": 94,
     "metadata": {},
     "output_type": "execute_result"
    }
   ],
   "source": [
    "df.corr()['calculatedbathnbr']['bedroomcnt']"
   ]
  },
  {
   "cell_type": "code",
   "execution_count": 93,
   "metadata": {
    "collapsed": false
   },
   "outputs": [
    {
     "data": {
      "text/plain": [
       "parcelid                           11731764\n",
       "logerror                             -1.204\n",
       "transactiondate                  2016-06-10\n",
       "airconditioningtypeid                   NaN\n",
       "architecturalstyletypeid                NaN\n",
       "basementsqft                            NaN\n",
       "bathroomcnt                              12\n",
       "bedroomcnt                                0\n",
       "buildingclasstypeid                     NaN\n",
       "buildingqualitytypeid                     7\n",
       "calculatedbathnbr                        12\n",
       "decktypeid                              NaN\n",
       "finishedfloor1squarefeet                NaN\n",
       "calculatedfinishedsquarefeet           5878\n",
       "finishedsquarefeet12                    NaN\n",
       "finishedsquarefeet13                    NaN\n",
       "finishedsquarefeet15                   5878\n",
       "finishedsquarefeet50                    NaN\n",
       "finishedsquarefeet6                     NaN\n",
       "fips                                   6037\n",
       "fireplacecnt                            NaN\n",
       "fullbathcnt                              12\n",
       "garagecarcnt                            NaN\n",
       "garagetotalsqft                         NaN\n",
       "hashottuborspa                          NaN\n",
       "heatingorsystemtypeid                   NaN\n",
       "latitude                        3.40288e+07\n",
       "longitude                      -1.18289e+08\n",
       "lotsizesquarefeet                      7500\n",
       "poolcnt                                 NaN\n",
       "                                   ...     \n",
       "propertycountylandusecode              0400\n",
       "propertylandusetypeid                   248\n",
       "propertyzoningdesc                  LARD1.5\n",
       "rawcensustractandblock          6.03722e+07\n",
       "regionidcity                          12447\n",
       "regionidcounty                         3101\n",
       "regionidneighborhood                 268540\n",
       "regionidzip                           95988\n",
       "roomcnt                                   0\n",
       "storytypeid                             NaN\n",
       "threequarterbathnbr                     NaN\n",
       "typeconstructiontypeid                  NaN\n",
       "unitcnt                                   4\n",
       "yardbuildingsqft17                      NaN\n",
       "yardbuildingsqft26                      NaN\n",
       "yearbuilt                              2002\n",
       "numberofstories                         NaN\n",
       "fireplaceflag                           NaN\n",
       "structuretaxvaluedollarcnt           361522\n",
       "taxvaluedollarcnt                    660208\n",
       "assessmentyear                         2015\n",
       "landtaxvaluedollarcnt                298686\n",
       "taxamount                           8479.29\n",
       "taxdelinquencyflag                      NaN\n",
       "taxdelinquencyyear                      NaN\n",
       "censustractandblock             6.03722e+13\n",
       "abs_logerror                          1.204\n",
       "over                                      0\n",
       "under                                -1.204\n",
       "missing_values                           29\n",
       "Name: 44970, Length: 64, dtype: object"
      ]
     },
     "execution_count": 93,
     "metadata": {},
     "output_type": "execute_result"
    }
   ],
   "source": [
    "df.ix[44970]"
   ]
  },
  {
   "cell_type": "code",
   "execution_count": null,
   "metadata": {
    "collapsed": true
   },
   "outputs": [],
   "source": []
  },
  {
   "cell_type": "code",
   "execution_count": 5,
   "metadata": {
    "collapsed": false
   },
   "outputs": [],
   "source": [
    "# print('Preprocessing ...')\n",
    "# X = data_clean.remove_col(df, ['parcelid', 'logerror', 'transactiondate', 'propertyzoningdesc', 'propertycountylandusecode'])\n",
    "# y = df['logerror']\n",
    "# train_columns = X.columns\n",
    "# data_clean.cat2num(X)\n",
    "X_train, X_valid, y_train, y_valid = utils.train_valid_split(X, y, 0.2)"
   ]
  },
  {
   "cell_type": "code",
   "execution_count": 6,
   "metadata": {
    "collapsed": false
   },
   "outputs": [
    {
     "name": "stdout",
     "output_type": "stream",
     "text": [
      "Training ...\n",
      "[1]\tvalid_0's l1: 0.073025\n",
      "[2]\tvalid_0's l1: 0.0730226\n",
      "[3]\tvalid_0's l1: 0.0730202\n",
      "[4]\tvalid_0's l1: 0.0730164\n",
      "[5]\tvalid_0's l1: 0.0730126\n",
      "[6]\tvalid_0's l1: 0.0730097\n",
      "[7]\tvalid_0's l1: 0.0730074\n",
      "[8]\tvalid_0's l1: 0.0730051\n",
      "[9]\tvalid_0's l1: 0.0730031\n",
      "[10]\tvalid_0's l1: 0.0729991\n",
      "[11]\tvalid_0's l1: 0.0729967\n",
      "[12]\tvalid_0's l1: 0.0729944\n",
      "[13]\tvalid_0's l1: 0.0729905\n",
      "[14]\tvalid_0's l1: 0.0729884\n",
      "[15]\tvalid_0's l1: 0.0729872\n",
      "[16]\tvalid_0's l1: 0.0729834\n",
      "[17]\tvalid_0's l1: 0.0729808\n",
      "[18]\tvalid_0's l1: 0.0729777\n",
      "[19]\tvalid_0's l1: 0.0729737\n",
      "[20]\tvalid_0's l1: 0.0729727\n",
      "[21]\tvalid_0's l1: 0.0729699\n",
      "[22]\tvalid_0's l1: 0.0729677\n",
      "[23]\tvalid_0's l1: 0.0729664\n",
      "[24]\tvalid_0's l1: 0.0729643\n",
      "[25]\tvalid_0's l1: 0.0729612\n",
      "[26]\tvalid_0's l1: 0.0729591\n",
      "[27]\tvalid_0's l1: 0.072956\n",
      "[28]\tvalid_0's l1: 0.0729527\n",
      "[29]\tvalid_0's l1: 0.0729494\n",
      "[30]\tvalid_0's l1: 0.0729468\n",
      "[31]\tvalid_0's l1: 0.0729443\n",
      "[32]\tvalid_0's l1: 0.0729413\n",
      "[33]\tvalid_0's l1: 0.0729401\n",
      "[34]\tvalid_0's l1: 0.0729386\n",
      "[35]\tvalid_0's l1: 0.0729371\n",
      "[36]\tvalid_0's l1: 0.0729356\n",
      "[37]\tvalid_0's l1: 0.0729322\n",
      "[38]\tvalid_0's l1: 0.0729301\n",
      "[39]\tvalid_0's l1: 0.0729285\n",
      "[40]\tvalid_0's l1: 0.0729252\n",
      "[41]\tvalid_0's l1: 0.0729234\n",
      "[42]\tvalid_0's l1: 0.0729214\n",
      "[43]\tvalid_0's l1: 0.0729195\n",
      "[44]\tvalid_0's l1: 0.0729166\n",
      "[45]\tvalid_0's l1: 0.0729132\n",
      "[46]\tvalid_0's l1: 0.0729111\n",
      "[47]\tvalid_0's l1: 0.0729097\n",
      "[48]\tvalid_0's l1: 0.0729066\n",
      "[49]\tvalid_0's l1: 0.0729053\n",
      "[50]\tvalid_0's l1: 0.0729037\n",
      "[51]\tvalid_0's l1: 0.0729016\n",
      "[52]\tvalid_0's l1: 0.0728986\n",
      "[53]\tvalid_0's l1: 0.0728957\n",
      "[54]\tvalid_0's l1: 0.072893\n",
      "[55]\tvalid_0's l1: 0.0728896\n",
      "[56]\tvalid_0's l1: 0.0728864\n",
      "[57]\tvalid_0's l1: 0.0728845\n",
      "[58]\tvalid_0's l1: 0.072883\n",
      "[59]\tvalid_0's l1: 0.0728806\n",
      "[60]\tvalid_0's l1: 0.0728781\n",
      "[61]\tvalid_0's l1: 0.0728753\n",
      "[62]\tvalid_0's l1: 0.0728739\n",
      "[63]\tvalid_0's l1: 0.0728708\n",
      "[64]\tvalid_0's l1: 0.0728675\n",
      "[65]\tvalid_0's l1: 0.0728643\n",
      "[66]\tvalid_0's l1: 0.0728616\n",
      "[67]\tvalid_0's l1: 0.072859\n",
      "[68]\tvalid_0's l1: 0.0728561\n",
      "[69]\tvalid_0's l1: 0.0728541\n",
      "[70]\tvalid_0's l1: 0.0728516\n",
      "[71]\tvalid_0's l1: 0.072849\n",
      "[72]\tvalid_0's l1: 0.0728484\n",
      "[73]\tvalid_0's l1: 0.0728452\n",
      "[74]\tvalid_0's l1: 0.072843\n",
      "[75]\tvalid_0's l1: 0.0728401\n",
      "[76]\tvalid_0's l1: 0.0728385\n",
      "[77]\tvalid_0's l1: 0.0728368\n",
      "[78]\tvalid_0's l1: 0.072834\n",
      "[79]\tvalid_0's l1: 0.0728323\n",
      "[80]\tvalid_0's l1: 0.0728297\n",
      "[81]\tvalid_0's l1: 0.0728272\n",
      "[82]\tvalid_0's l1: 0.0728248\n",
      "[83]\tvalid_0's l1: 0.0728221\n",
      "[84]\tvalid_0's l1: 0.0728202\n",
      "[85]\tvalid_0's l1: 0.0728179\n",
      "[86]\tvalid_0's l1: 0.0728161\n",
      "[87]\tvalid_0's l1: 0.0728138\n",
      "[88]\tvalid_0's l1: 0.0728117\n",
      "[89]\tvalid_0's l1: 0.0728091\n",
      "[90]\tvalid_0's l1: 0.072807\n",
      "[91]\tvalid_0's l1: 0.0728044\n",
      "[92]\tvalid_0's l1: 0.0728022\n",
      "[93]\tvalid_0's l1: 0.0728009\n",
      "[94]\tvalid_0's l1: 0.0727981\n",
      "[95]\tvalid_0's l1: 0.0727961\n",
      "[96]\tvalid_0's l1: 0.0727937\n",
      "[97]\tvalid_0's l1: 0.0727923\n",
      "[98]\tvalid_0's l1: 0.0727907\n",
      "[99]\tvalid_0's l1: 0.0727882\n",
      "[100]\tvalid_0's l1: 0.0727862\n",
      "[101]\tvalid_0's l1: 0.0727838\n",
      "[102]\tvalid_0's l1: 0.0727825\n",
      "[103]\tvalid_0's l1: 0.0727814\n",
      "[104]\tvalid_0's l1: 0.0727801\n",
      "[105]\tvalid_0's l1: 0.0727785\n",
      "[106]\tvalid_0's l1: 0.0727771\n",
      "[107]\tvalid_0's l1: 0.072775\n",
      "[108]\tvalid_0's l1: 0.0727724\n",
      "[109]\tvalid_0's l1: 0.0727712\n",
      "[110]\tvalid_0's l1: 0.0727696\n",
      "[111]\tvalid_0's l1: 0.0727681\n",
      "[112]\tvalid_0's l1: 0.0727669\n",
      "[113]\tvalid_0's l1: 0.0727647\n",
      "[114]\tvalid_0's l1: 0.0727626\n",
      "[115]\tvalid_0's l1: 0.0727611\n",
      "[116]\tvalid_0's l1: 0.0727595\n",
      "[117]\tvalid_0's l1: 0.0727574\n",
      "[118]\tvalid_0's l1: 0.0727557\n",
      "[119]\tvalid_0's l1: 0.0727541\n",
      "[120]\tvalid_0's l1: 0.072752\n",
      "[121]\tvalid_0's l1: 0.0727509\n",
      "[122]\tvalid_0's l1: 0.0727495\n",
      "[123]\tvalid_0's l1: 0.072747\n",
      "[124]\tvalid_0's l1: 0.0727454\n",
      "[125]\tvalid_0's l1: 0.0727435\n",
      "[126]\tvalid_0's l1: 0.0727422\n",
      "[127]\tvalid_0's l1: 0.0727398\n",
      "[128]\tvalid_0's l1: 0.0727388\n",
      "[129]\tvalid_0's l1: 0.0727377\n",
      "[130]\tvalid_0's l1: 0.0727361\n",
      "[131]\tvalid_0's l1: 0.0727345\n",
      "[132]\tvalid_0's l1: 0.0727337\n",
      "[133]\tvalid_0's l1: 0.0727325\n",
      "[134]\tvalid_0's l1: 0.0727302\n",
      "[135]\tvalid_0's l1: 0.0727288\n",
      "[136]\tvalid_0's l1: 0.0727268\n",
      "[137]\tvalid_0's l1: 0.0727251\n",
      "[138]\tvalid_0's l1: 0.072724\n",
      "[139]\tvalid_0's l1: 0.0727226\n",
      "[140]\tvalid_0's l1: 0.0727211\n",
      "[141]\tvalid_0's l1: 0.07272\n",
      "[142]\tvalid_0's l1: 0.0727188\n",
      "[143]\tvalid_0's l1: 0.0727167\n",
      "[144]\tvalid_0's l1: 0.0727155\n",
      "[145]\tvalid_0's l1: 0.0727137\n",
      "[146]\tvalid_0's l1: 0.0727113\n",
      "[147]\tvalid_0's l1: 0.0727097\n",
      "[148]\tvalid_0's l1: 0.0727084\n",
      "[149]\tvalid_0's l1: 0.0727066\n",
      "[150]\tvalid_0's l1: 0.0727053\n",
      "[151]\tvalid_0's l1: 0.0727039\n",
      "[152]\tvalid_0's l1: 0.0727028\n",
      "[153]\tvalid_0's l1: 0.0727016\n",
      "[154]\tvalid_0's l1: 0.0727\n",
      "[155]\tvalid_0's l1: 0.0726981\n",
      "[156]\tvalid_0's l1: 0.0726972\n",
      "[157]\tvalid_0's l1: 0.0726959\n",
      "[158]\tvalid_0's l1: 0.0726941\n",
      "[159]\tvalid_0's l1: 0.0726928\n",
      "[160]\tvalid_0's l1: 0.072692\n",
      "[161]\tvalid_0's l1: 0.0726914\n",
      "[162]\tvalid_0's l1: 0.0726894\n",
      "[163]\tvalid_0's l1: 0.0726884\n",
      "[164]\tvalid_0's l1: 0.0726869\n",
      "[165]\tvalid_0's l1: 0.0726863\n",
      "[166]\tvalid_0's l1: 0.072685\n",
      "[167]\tvalid_0's l1: 0.0726838\n",
      "[168]\tvalid_0's l1: 0.0726831\n",
      "[169]\tvalid_0's l1: 0.072681\n",
      "[170]\tvalid_0's l1: 0.0726795\n",
      "[171]\tvalid_0's l1: 0.0726782\n",
      "[172]\tvalid_0's l1: 0.0726775\n",
      "[173]\tvalid_0's l1: 0.0726758\n",
      "[174]\tvalid_0's l1: 0.0726744\n",
      "[175]\tvalid_0's l1: 0.0726724\n",
      "[176]\tvalid_0's l1: 0.0726709\n",
      "[177]\tvalid_0's l1: 0.0726702\n",
      "[178]\tvalid_0's l1: 0.0726693\n",
      "[179]\tvalid_0's l1: 0.0726685\n",
      "[180]\tvalid_0's l1: 0.0726667\n",
      "[181]\tvalid_0's l1: 0.0726658\n",
      "[182]\tvalid_0's l1: 0.0726649\n",
      "[183]\tvalid_0's l1: 0.0726635\n",
      "[184]\tvalid_0's l1: 0.0726619\n",
      "[185]\tvalid_0's l1: 0.0726608\n",
      "[186]\tvalid_0's l1: 0.0726598\n",
      "[187]\tvalid_0's l1: 0.0726589\n",
      "[188]\tvalid_0's l1: 0.0726571\n",
      "[189]\tvalid_0's l1: 0.0726552\n",
      "[190]\tvalid_0's l1: 0.0726539\n",
      "[191]\tvalid_0's l1: 0.0726523\n",
      "[192]\tvalid_0's l1: 0.0726514\n",
      "[193]\tvalid_0's l1: 0.0726496\n",
      "[194]\tvalid_0's l1: 0.0726487\n",
      "[195]\tvalid_0's l1: 0.0726469\n",
      "[196]\tvalid_0's l1: 0.0726463\n",
      "[197]\tvalid_0's l1: 0.0726446\n",
      "[198]\tvalid_0's l1: 0.0726431\n",
      "[199]\tvalid_0's l1: 0.0726426\n",
      "[200]\tvalid_0's l1: 0.0726413\n",
      "[201]\tvalid_0's l1: 0.0726407\n",
      "[202]\tvalid_0's l1: 0.0726399\n",
      "[203]\tvalid_0's l1: 0.0726385\n",
      "[204]\tvalid_0's l1: 0.0726371\n",
      "[205]\tvalid_0's l1: 0.0726355\n",
      "[206]\tvalid_0's l1: 0.0726342\n",
      "[207]\tvalid_0's l1: 0.0726333\n",
      "[208]\tvalid_0's l1: 0.0726325\n",
      "[209]\tvalid_0's l1: 0.0726317\n",
      "[210]\tvalid_0's l1: 0.072631\n",
      "[211]\tvalid_0's l1: 0.0726303\n",
      "[212]\tvalid_0's l1: 0.0726289\n",
      "[213]\tvalid_0's l1: 0.072628\n",
      "[214]\tvalid_0's l1: 0.0726276\n",
      "[215]\tvalid_0's l1: 0.0726266\n",
      "[216]\tvalid_0's l1: 0.0726259\n",
      "[217]\tvalid_0's l1: 0.072625\n",
      "[218]\tvalid_0's l1: 0.0726245\n",
      "[219]\tvalid_0's l1: 0.0726237\n",
      "[220]\tvalid_0's l1: 0.0726226\n",
      "[221]\tvalid_0's l1: 0.0726219\n",
      "[222]\tvalid_0's l1: 0.0726206\n",
      "[223]\tvalid_0's l1: 0.0726199\n",
      "[224]\tvalid_0's l1: 0.0726191\n",
      "[225]\tvalid_0's l1: 0.0726172\n",
      "[226]\tvalid_0's l1: 0.0726161\n",
      "[227]\tvalid_0's l1: 0.072615\n",
      "[228]\tvalid_0's l1: 0.0726137\n",
      "[229]\tvalid_0's l1: 0.0726119\n",
      "[230]\tvalid_0's l1: 0.0726114\n",
      "[231]\tvalid_0's l1: 0.0726098\n",
      "[232]\tvalid_0's l1: 0.0726084\n",
      "[233]\tvalid_0's l1: 0.0726076\n",
      "[234]\tvalid_0's l1: 0.0726071\n",
      "[235]\tvalid_0's l1: 0.0726055\n",
      "[236]\tvalid_0's l1: 0.0726052\n",
      "[237]\tvalid_0's l1: 0.072604\n",
      "[238]\tvalid_0's l1: 0.0726027\n",
      "[239]\tvalid_0's l1: 0.0726025\n",
      "[240]\tvalid_0's l1: 0.0726013\n",
      "[241]\tvalid_0's l1: 0.0726008\n",
      "[242]\tvalid_0's l1: 0.0725994\n",
      "[243]\tvalid_0's l1: 0.0725979\n",
      "[244]\tvalid_0's l1: 0.0725972\n",
      "[245]\tvalid_0's l1: 0.0725961\n",
      "[246]\tvalid_0's l1: 0.0725957\n",
      "[247]\tvalid_0's l1: 0.072594\n",
      "[248]\tvalid_0's l1: 0.0725932\n",
      "[249]\tvalid_0's l1: 0.0725925\n",
      "[250]\tvalid_0's l1: 0.0725916\n",
      "[251]\tvalid_0's l1: 0.0725913\n",
      "[252]\tvalid_0's l1: 0.0725909\n",
      "[253]\tvalid_0's l1: 0.0725902\n",
      "[254]\tvalid_0's l1: 0.0725894\n",
      "[255]\tvalid_0's l1: 0.0725878\n",
      "[256]\tvalid_0's l1: 0.0725873\n",
      "[257]\tvalid_0's l1: 0.0725865\n",
      "[258]\tvalid_0's l1: 0.0725859\n",
      "[259]\tvalid_0's l1: 0.072585\n",
      "[260]\tvalid_0's l1: 0.0725841\n",
      "[261]\tvalid_0's l1: 0.0725831\n",
      "[262]\tvalid_0's l1: 0.0725829\n",
      "[263]\tvalid_0's l1: 0.0725827\n",
      "[264]\tvalid_0's l1: 0.072582\n",
      "[265]\tvalid_0's l1: 0.0725809\n",
      "[266]\tvalid_0's l1: 0.0725801\n",
      "[267]\tvalid_0's l1: 0.0725791\n",
      "[268]\tvalid_0's l1: 0.0725776\n",
      "[269]\tvalid_0's l1: 0.0725766\n",
      "[270]\tvalid_0's l1: 0.0725765\n",
      "[271]\tvalid_0's l1: 0.072576\n",
      "[272]\tvalid_0's l1: 0.072576\n",
      "[273]\tvalid_0's l1: 0.0725753\n",
      "[274]\tvalid_0's l1: 0.0725744\n",
      "[275]\tvalid_0's l1: 0.0725743\n",
      "[276]\tvalid_0's l1: 0.0725742\n",
      "[277]\tvalid_0's l1: 0.0725729\n",
      "[278]\tvalid_0's l1: 0.0725723\n",
      "[279]\tvalid_0's l1: 0.0725721\n",
      "[280]\tvalid_0's l1: 0.0725715\n",
      "[281]\tvalid_0's l1: 0.072571\n",
      "[282]\tvalid_0's l1: 0.0725701\n",
      "[283]\tvalid_0's l1: 0.072569\n",
      "[284]\tvalid_0's l1: 0.0725688\n",
      "[285]\tvalid_0's l1: 0.0725678\n",
      "[286]\tvalid_0's l1: 0.0725675\n",
      "[287]\tvalid_0's l1: 0.0725667\n",
      "[288]\tvalid_0's l1: 0.0725663\n",
      "[289]\tvalid_0's l1: 0.072566\n",
      "[290]\tvalid_0's l1: 0.0725649\n",
      "[291]\tvalid_0's l1: 0.0725649\n",
      "[292]\tvalid_0's l1: 0.0725647\n",
      "[293]\tvalid_0's l1: 0.0725638\n",
      "[294]\tvalid_0's l1: 0.0725635\n",
      "[295]\tvalid_0's l1: 0.0725626\n",
      "[296]\tvalid_0's l1: 0.0725624\n",
      "[297]\tvalid_0's l1: 0.0725612\n",
      "[298]\tvalid_0's l1: 0.0725609\n",
      "[299]\tvalid_0's l1: 0.0725599\n",
      "[300]\tvalid_0's l1: 0.0725592\n",
      "[301]\tvalid_0's l1: 0.0725581\n",
      "[302]\tvalid_0's l1: 0.0725574\n",
      "[303]\tvalid_0's l1: 0.0725569\n",
      "[304]\tvalid_0's l1: 0.0725564\n",
      "[305]\tvalid_0's l1: 0.0725555\n",
      "[306]\tvalid_0's l1: 0.0725546\n",
      "[307]\tvalid_0's l1: 0.0725544\n",
      "[308]\tvalid_0's l1: 0.0725541\n",
      "[309]\tvalid_0's l1: 0.0725536\n",
      "[310]\tvalid_0's l1: 0.072553\n",
      "[311]\tvalid_0's l1: 0.0725529\n",
      "[312]\tvalid_0's l1: 0.0725522\n",
      "[313]\tvalid_0's l1: 0.0725515\n",
      "[314]\tvalid_0's l1: 0.072551\n",
      "[315]\tvalid_0's l1: 0.0725503\n",
      "[316]\tvalid_0's l1: 0.0725499\n",
      "[317]\tvalid_0's l1: 0.0725499\n",
      "[318]\tvalid_0's l1: 0.0725492\n",
      "[319]\tvalid_0's l1: 0.0725493\n",
      "[320]\tvalid_0's l1: 0.0725485\n",
      "[321]\tvalid_0's l1: 0.0725476\n",
      "[322]\tvalid_0's l1: 0.0725472\n",
      "[323]\tvalid_0's l1: 0.0725466\n",
      "[324]\tvalid_0's l1: 0.0725459\n",
      "[325]\tvalid_0's l1: 0.0725459\n",
      "[326]\tvalid_0's l1: 0.0725448\n",
      "[327]\tvalid_0's l1: 0.0725438\n",
      "[328]\tvalid_0's l1: 0.0725428\n",
      "[329]\tvalid_0's l1: 0.0725425\n",
      "[330]\tvalid_0's l1: 0.0725429\n",
      "[331]\tvalid_0's l1: 0.0725425\n",
      "[332]\tvalid_0's l1: 0.0725419\n",
      "[333]\tvalid_0's l1: 0.0725409\n",
      "[334]\tvalid_0's l1: 0.0725401\n",
      "[335]\tvalid_0's l1: 0.0725392\n",
      "[336]\tvalid_0's l1: 0.0725387\n",
      "[337]\tvalid_0's l1: 0.0725385\n",
      "[338]\tvalid_0's l1: 0.0725374\n",
      "[339]\tvalid_0's l1: 0.0725368\n",
      "[340]\tvalid_0's l1: 0.0725361\n",
      "[341]\tvalid_0's l1: 0.0725357\n",
      "[342]\tvalid_0's l1: 0.0725354\n",
      "[343]\tvalid_0's l1: 0.0725346\n",
      "[344]\tvalid_0's l1: 0.0725339\n",
      "[345]\tvalid_0's l1: 0.0725337\n",
      "[346]\tvalid_0's l1: 0.0725336\n",
      "[347]\tvalid_0's l1: 0.0725335\n",
      "[348]\tvalid_0's l1: 0.0725327\n",
      "[349]\tvalid_0's l1: 0.0725319\n",
      "[350]\tvalid_0's l1: 0.0725315\n",
      "[351]\tvalid_0's l1: 0.0725312\n",
      "[352]\tvalid_0's l1: 0.072531\n",
      "[353]\tvalid_0's l1: 0.07253\n",
      "[354]\tvalid_0's l1: 0.0725297\n",
      "[355]\tvalid_0's l1: 0.0725287\n",
      "[356]\tvalid_0's l1: 0.0725282\n",
      "[357]\tvalid_0's l1: 0.072528\n",
      "[358]\tvalid_0's l1: 0.0725281\n",
      "[359]\tvalid_0's l1: 0.072528\n",
      "[360]\tvalid_0's l1: 0.0725273\n",
      "[361]\tvalid_0's l1: 0.072527\n",
      "[362]\tvalid_0's l1: 0.0725263\n",
      "[363]\tvalid_0's l1: 0.0725258\n",
      "[364]\tvalid_0's l1: 0.0725254\n",
      "[365]\tvalid_0's l1: 0.072525\n",
      "[366]\tvalid_0's l1: 0.0725248\n",
      "[367]\tvalid_0's l1: 0.0725243\n",
      "[368]\tvalid_0's l1: 0.0725242\n",
      "[369]\tvalid_0's l1: 0.0725237\n",
      "[370]\tvalid_0's l1: 0.0725228\n",
      "[371]\tvalid_0's l1: 0.0725223\n",
      "[372]\tvalid_0's l1: 0.072522\n",
      "[373]\tvalid_0's l1: 0.0725214\n",
      "[374]\tvalid_0's l1: 0.0725214\n",
      "[375]\tvalid_0's l1: 0.0725208\n",
      "[376]\tvalid_0's l1: 0.0725201\n",
      "[377]\tvalid_0's l1: 0.0725198\n",
      "[378]\tvalid_0's l1: 0.0725194\n",
      "[379]\tvalid_0's l1: 0.0725191\n",
      "[380]\tvalid_0's l1: 0.072519\n",
      "[381]\tvalid_0's l1: 0.0725191\n",
      "[382]\tvalid_0's l1: 0.0725181\n",
      "[383]\tvalid_0's l1: 0.0725179\n",
      "[384]\tvalid_0's l1: 0.0725178\n",
      "[385]\tvalid_0's l1: 0.0725172\n",
      "[386]\tvalid_0's l1: 0.0725172\n",
      "[387]\tvalid_0's l1: 0.0725164\n",
      "[388]\tvalid_0's l1: 0.0725159\n",
      "[389]\tvalid_0's l1: 0.0725158\n",
      "[390]\tvalid_0's l1: 0.0725162\n",
      "[391]\tvalid_0's l1: 0.0725155\n",
      "[392]\tvalid_0's l1: 0.0725148\n",
      "[393]\tvalid_0's l1: 0.0725141\n",
      "[394]\tvalid_0's l1: 0.0725136\n",
      "[395]\tvalid_0's l1: 0.0725134\n",
      "[396]\tvalid_0's l1: 0.0725125\n",
      "[397]\tvalid_0's l1: 0.0725117\n",
      "[398]\tvalid_0's l1: 0.0725115\n",
      "[399]\tvalid_0's l1: 0.072511\n",
      "[400]\tvalid_0's l1: 0.0725109\n",
      "[401]\tvalid_0's l1: 0.0725104\n",
      "[402]\tvalid_0's l1: 0.0725101\n",
      "[403]\tvalid_0's l1: 0.0725099\n",
      "[404]\tvalid_0's l1: 0.0725096\n",
      "[405]\tvalid_0's l1: 0.0725095\n",
      "[406]\tvalid_0's l1: 0.0725099\n",
      "[407]\tvalid_0's l1: 0.0725099\n",
      "[408]\tvalid_0's l1: 0.0725097\n",
      "[409]\tvalid_0's l1: 0.0725094\n",
      "[410]\tvalid_0's l1: 0.0725089\n",
      "[411]\tvalid_0's l1: 0.0725088\n",
      "[412]\tvalid_0's l1: 0.0725087\n",
      "[413]\tvalid_0's l1: 0.0725081\n",
      "[414]\tvalid_0's l1: 0.0725082\n",
      "[415]\tvalid_0's l1: 0.0725079\n",
      "[416]\tvalid_0's l1: 0.0725075\n",
      "[417]\tvalid_0's l1: 0.0725069\n",
      "[418]\tvalid_0's l1: 0.0725065\n",
      "[419]\tvalid_0's l1: 0.0725062\n",
      "[420]\tvalid_0's l1: 0.0725063\n",
      "[421]\tvalid_0's l1: 0.0725061\n",
      "[422]\tvalid_0's l1: 0.072506\n",
      "[423]\tvalid_0's l1: 0.0725053\n",
      "[424]\tvalid_0's l1: 0.0725054\n",
      "[425]\tvalid_0's l1: 0.0725052\n",
      "[426]\tvalid_0's l1: 0.0725051\n",
      "[427]\tvalid_0's l1: 0.0725044\n",
      "[428]\tvalid_0's l1: 0.072504\n",
      "[429]\tvalid_0's l1: 0.0725037\n",
      "[430]\tvalid_0's l1: 0.072503\n",
      "[431]\tvalid_0's l1: 0.0725031\n",
      "[432]\tvalid_0's l1: 0.0725026\n",
      "[433]\tvalid_0's l1: 0.0725024\n",
      "[434]\tvalid_0's l1: 0.0725024\n",
      "[435]\tvalid_0's l1: 0.0725019\n",
      "[436]\tvalid_0's l1: 0.0725013\n",
      "[437]\tvalid_0's l1: 0.0725009\n",
      "[438]\tvalid_0's l1: 0.072501\n",
      "[439]\tvalid_0's l1: 0.0725002\n",
      "[440]\tvalid_0's l1: 0.0725005\n",
      "[441]\tvalid_0's l1: 0.0725002\n",
      "[442]\tvalid_0's l1: 0.0725001\n",
      "[443]\tvalid_0's l1: 0.0724997\n",
      "[444]\tvalid_0's l1: 0.0724992\n",
      "[445]\tvalid_0's l1: 0.0724992\n",
      "[446]\tvalid_0's l1: 0.0724987\n",
      "[447]\tvalid_0's l1: 0.0724984\n",
      "[448]\tvalid_0's l1: 0.0724987\n",
      "[449]\tvalid_0's l1: 0.0724981\n",
      "[450]\tvalid_0's l1: 0.0724981\n",
      "[451]\tvalid_0's l1: 0.0724977\n",
      "[452]\tvalid_0's l1: 0.0724976\n",
      "[453]\tvalid_0's l1: 0.0724978\n",
      "[454]\tvalid_0's l1: 0.0724976\n",
      "[455]\tvalid_0's l1: 0.0724978\n",
      "[456]\tvalid_0's l1: 0.0724975\n",
      "[457]\tvalid_0's l1: 0.0724974\n",
      "[458]\tvalid_0's l1: 0.072497\n",
      "[459]\tvalid_0's l1: 0.0724968\n",
      "[460]\tvalid_0's l1: 0.0724965\n",
      "[461]\tvalid_0's l1: 0.0724959\n",
      "[462]\tvalid_0's l1: 0.0724959\n",
      "[463]\tvalid_0's l1: 0.0724957\n",
      "[464]\tvalid_0's l1: 0.0724959\n",
      "[465]\tvalid_0's l1: 0.0724958\n",
      "[466]\tvalid_0's l1: 0.0724959\n",
      "[467]\tvalid_0's l1: 0.0724956\n",
      "[468]\tvalid_0's l1: 0.0724953\n",
      "[469]\tvalid_0's l1: 0.0724953\n",
      "[470]\tvalid_0's l1: 0.0724952\n",
      "[471]\tvalid_0's l1: 0.0724948\n",
      "[472]\tvalid_0's l1: 0.0724947\n",
      "[473]\tvalid_0's l1: 0.0724945\n",
      "[474]\tvalid_0's l1: 0.0724946\n",
      "[475]\tvalid_0's l1: 0.0724944\n",
      "[476]\tvalid_0's l1: 0.0724941\n",
      "[477]\tvalid_0's l1: 0.0724937\n",
      "[478]\tvalid_0's l1: 0.0724937\n",
      "[479]\tvalid_0's l1: 0.0724934\n",
      "[480]\tvalid_0's l1: 0.0724932\n",
      "[481]\tvalid_0's l1: 0.0724926\n",
      "[482]\tvalid_0's l1: 0.0724924\n",
      "[483]\tvalid_0's l1: 0.0724926\n",
      "[484]\tvalid_0's l1: 0.0724923\n",
      "[485]\tvalid_0's l1: 0.0724923\n",
      "[486]\tvalid_0's l1: 0.0724926\n",
      "[487]\tvalid_0's l1: 0.0724924\n",
      "[488]\tvalid_0's l1: 0.0724922\n",
      "[489]\tvalid_0's l1: 0.0724922\n",
      "[490]\tvalid_0's l1: 0.0724919\n",
      "[491]\tvalid_0's l1: 0.0724918\n",
      "[492]\tvalid_0's l1: 0.0724917\n",
      "[493]\tvalid_0's l1: 0.0724916\n",
      "[494]\tvalid_0's l1: 0.0724914\n",
      "[495]\tvalid_0's l1: 0.072491\n",
      "[496]\tvalid_0's l1: 0.0724914\n",
      "[497]\tvalid_0's l1: 0.0724916\n",
      "[498]\tvalid_0's l1: 0.0724915\n",
      "[499]\tvalid_0's l1: 0.0724912\n",
      "[500]\tvalid_0's l1: 0.0724914\n"
     ]
    }
   ],
   "source": [
    "print('Training ...')\n",
    "predictor = base.train_lgb(X_train, y_train, X_valid, y_valid);"
   ]
  },
  {
   "cell_type": "code",
   "execution_count": 7,
   "metadata": {
    "collapsed": true
   },
   "outputs": [],
   "source": [
    "test_df, sample = utils.load_test_data(prop)"
   ]
  },
  {
   "cell_type": "code",
   "execution_count": 11,
   "metadata": {
    "collapsed": false
   },
   "outputs": [
    {
     "data": {
      "text/plain": [
       "(2985217, 64)"
      ]
     },
     "execution_count": 11,
     "metadata": {},
     "output_type": "execute_result"
    }
   ],
   "source": [
    "test_df.shape"
   ]
  },
  {
   "cell_type": "code",
   "execution_count": 13,
   "metadata": {
    "collapsed": false
   },
   "outputs": [
    {
     "data": {
      "text/plain": [
       "(2985217, 58)"
      ]
     },
     "execution_count": 13,
     "metadata": {},
     "output_type": "execute_result"
    }
   ],
   "source": [
    "prop.shape"
   ]
  },
  {
   "cell_type": "code",
   "execution_count": 8,
   "metadata": {
    "collapsed": false
   },
   "outputs": [
    {
     "data": {
      "text/plain": [
       "84"
      ]
     },
     "execution_count": 8,
     "metadata": {},
     "output_type": "execute_result"
    }
   ],
   "source": [
    "import gc\n",
    "gc.collect()"
   ]
  },
  {
   "cell_type": "code",
   "execution_count": 9,
   "metadata": {
    "collapsed": false
   },
   "outputs": [],
   "source": [
    "test_df = feature_eng.add_missing_value_count(test_df)"
   ]
  },
  {
   "cell_type": "code",
   "execution_count": 10,
   "metadata": {
    "collapsed": true
   },
   "outputs": [],
   "source": [
    "test_df = data_clean.clean_categorical_data(test_df)\n",
    "test_df = data_clean.clean_boolean_data(test_df)\n",
    "X_test = data_clean.drop_columns(test_df, isTrain=False)"
   ]
  },
  {
   "cell_type": "code",
   "execution_count": 11,
   "metadata": {
    "collapsed": false
   },
   "outputs": [
    {
     "data": {
      "text/plain": [
       "(2985217, 629)"
      ]
     },
     "execution_count": 11,
     "metadata": {},
     "output_type": "execute_result"
    }
   ],
   "source": [
    "X_test.shape"
   ]
  },
  {
   "cell_type": "code",
   "execution_count": 12,
   "metadata": {
    "collapsed": false
   },
   "outputs": [
    {
     "data": {
      "text/plain": [
       "(72648, 114)"
      ]
     },
     "execution_count": 12,
     "metadata": {},
     "output_type": "execute_result"
    }
   ],
   "source": [
    "X_train.shape"
   ]
  },
  {
   "cell_type": "code",
   "execution_count": null,
   "metadata": {
    "collapsed": false
   },
   "outputs": [
    {
     "name": "stdout",
     "output_type": "stream",
     "text": [
      "Predicting ...\n"
     ]
    }
   ],
   "source": [
    "print('Predicting ...')\n",
    "\n",
    "utils.predict(predictor, X_test, sample, suffix='0713')"
   ]
  },
  {
   "cell_type": "code",
   "execution_count": 1,
   "metadata": {
    "collapsed": false
   },
   "outputs": [
    {
     "name": "stdout",
     "output_type": "stream",
     "text": [
      "Loading data ...\n"
     ]
    },
    {
     "name": "stderr",
     "output_type": "stream",
     "text": [
      "/home/hzn/anaconda3/lib/python3.6/site-packages/IPython/core/interactiveshell.py:2821: DtypeWarning: Columns (22,32,34,49,55) have mixed types. Specify dtype option on import or set low_memory=False.\n",
      "  if self.run_code(code, result):\n"
     ]
    }
   ],
   "source": [
    "import data_clean\n",
    "import feature_eng\n",
    "import utils\n",
    "import base\n",
    "import numpy as np # linear algebra\n",
    "import pandas as pd # data processing, CSV file I/O (e.g. pd.read_csv)\n",
    "import matplotlib.pyplot as plt\n",
    "from sklearn.preprocessing import LabelEncoder\n",
    "\n",
    "import gc\n",
    "\n",
    "print('Loading data ...')\n",
    "train, prop = utils.load_train_data()\n",
    "prop_df = feature_eng.add_missing_value_count(prop)\n",
    "prop_df = data_clean.clean_categorical_data(prop_df)\n",
    "prop_df = data_clean.clean_boolean_data(prop_df)\n",
    "prop_df = data_clean.drop_columns(prop_df)\n",
    "\n",
    "df = train.merge(prop_df, how='left', on='parcelid')\n",
    "df = data_clean.drop_id_column(df)"
   ]
  },
  {
   "cell_type": "code",
   "execution_count": 3,
   "metadata": {
    "collapsed": false
   },
   "outputs": [],
   "source": [
    "df['transactiondate'] = pd.to_datetime(df['transactiondate'])"
   ]
  },
  {
   "cell_type": "code",
   "execution_count": 6,
   "metadata": {
    "collapsed": false
   },
   "outputs": [
    {
     "name": "stdout",
     "output_type": "stream",
     "text": [
      "Loading data ...\n"
     ]
    },
    {
     "name": "stderr",
     "output_type": "stream",
     "text": [
      "/home/hzn/anaconda3/lib/python3.6/site-packages/IPython/core/magics/execution.py:139: DtypeWarning: Columns (22,32,34,49,55) have mixed types. Specify dtype option on import or set low_memory=False.\n",
      "  timing = self.inner(it, self.timer)\n"
     ]
    },
    {
     "name": "stdout",
     "output_type": "stream",
     "text": [
      "Cleaning data and feature engineering...\n",
      "Spliting data into training and testing...\n",
      "Done\n",
      "Loading data ...\n",
      "Cleaning data and feature engineering...\n",
      "Spliting data into training and testing...\n",
      "Done\n",
      "Loading data ...\n",
      "Cleaning data and feature engineering...\n",
      "Spliting data into training and testing...\n",
      "Done\n",
      "Loading data ...\n",
      "Cleaning data and feature engineering...\n",
      "Spliting data into training and testing...\n",
      "Done\n",
      "1 loop, best of 3: 47.4 s per loop\n"
     ]
    }
   ],
   "source": [
    "import data_clean\n",
    "import feature_eng\n",
    "import utils\n",
    "import base\n",
    "import numpy as np # linear algebra\n",
    "import pandas as pd # data processing, CSV file I/O (e.g. pd.read_csv)\n",
    "import matplotlib.pyplot as plt\n",
    "from sklearn.preprocessing import LabelEncoder\n",
    "\n",
    "%timeit X_train, y_train, X_test, y_test = utils.get_train_test_sets()\n"
   ]
  },
  {
   "cell_type": "code",
   "execution_count": 5,
   "metadata": {
    "collapsed": false
   },
   "outputs": [
    {
     "data": {
      "text/plain": [
       "count    8562.000000\n",
       "mean        0.016193\n",
       "std         0.149102\n",
       "min        -4.510000\n",
       "25%        -0.019200\n",
       "50%         0.010900\n",
       "75%         0.043100\n",
       "max         3.443000\n",
       "Name: logerror, dtype: float64"
      ]
     },
     "execution_count": 5,
     "metadata": {},
     "output_type": "execute_result"
    }
   ],
   "source": [
    "y_test.describe()"
   ]
  },
  {
   "cell_type": "code",
   "execution_count": 1,
   "metadata": {
    "collapsed": false
   },
   "outputs": [
    {
     "name": "stdout",
     "output_type": "stream",
     "text": [
      "Loading data ...\n"
     ]
    },
    {
     "name": "stderr",
     "output_type": "stream",
     "text": [
      "/home/hzn/anaconda3/lib/python3.6/site-packages/IPython/core/interactiveshell.py:2821: DtypeWarning: Columns (22,32,34,49,55) have mixed types. Specify dtype option on import or set low_memory=False.\n",
      "  if self.run_code(code, result):\n"
     ]
    },
    {
     "name": "stdout",
     "output_type": "stream",
     "text": [
      "[1]\tvalid_0's l1: 0.073025\n",
      "[2]\tvalid_0's l1: 0.0730232\n",
      "[3]\tvalid_0's l1: 0.0730216\n",
      "[4]\tvalid_0's l1: 0.0730184\n",
      "[5]\tvalid_0's l1: 0.0730172\n",
      "[6]\tvalid_0's l1: 0.0730149\n",
      "[7]\tvalid_0's l1: 0.0730116\n",
      "[8]\tvalid_0's l1: 0.0730077\n",
      "[9]\tvalid_0's l1: 0.0730052\n",
      "[10]\tvalid_0's l1: 0.0730015\n",
      "[11]\tvalid_0's l1: 0.0729977\n",
      "[12]\tvalid_0's l1: 0.0729963\n",
      "[13]\tvalid_0's l1: 0.0729942\n",
      "[14]\tvalid_0's l1: 0.0729906\n",
      "[15]\tvalid_0's l1: 0.0729882\n",
      "[16]\tvalid_0's l1: 0.0729857\n",
      "[17]\tvalid_0's l1: 0.0729835\n",
      "[18]\tvalid_0's l1: 0.0729803\n",
      "[19]\tvalid_0's l1: 0.0729771\n",
      "[20]\tvalid_0's l1: 0.0729751\n",
      "[21]\tvalid_0's l1: 0.0729712\n",
      "[22]\tvalid_0's l1: 0.072969\n",
      "[23]\tvalid_0's l1: 0.0729651\n",
      "[24]\tvalid_0's l1: 0.0729621\n",
      "[25]\tvalid_0's l1: 0.0729599\n",
      "[26]\tvalid_0's l1: 0.0729569\n",
      "[27]\tvalid_0's l1: 0.0729556\n",
      "[28]\tvalid_0's l1: 0.0729535\n",
      "[29]\tvalid_0's l1: 0.0729517\n",
      "[30]\tvalid_0's l1: 0.0729481\n",
      "[31]\tvalid_0's l1: 0.072946\n",
      "[32]\tvalid_0's l1: 0.0729441\n",
      "[33]\tvalid_0's l1: 0.0729422\n",
      "[34]\tvalid_0's l1: 0.0729389\n",
      "[35]\tvalid_0's l1: 0.0729357\n",
      "[36]\tvalid_0's l1: 0.0729327\n",
      "[37]\tvalid_0's l1: 0.0729305\n",
      "[38]\tvalid_0's l1: 0.0729285\n",
      "[39]\tvalid_0's l1: 0.0729251\n",
      "[40]\tvalid_0's l1: 0.0729229\n",
      "[41]\tvalid_0's l1: 0.072921\n",
      "[42]\tvalid_0's l1: 0.0729189\n",
      "[43]\tvalid_0's l1: 0.0729172\n",
      "[44]\tvalid_0's l1: 0.0729152\n",
      "[45]\tvalid_0's l1: 0.0729123\n",
      "[46]\tvalid_0's l1: 0.072909\n",
      "[47]\tvalid_0's l1: 0.0729058\n",
      "[48]\tvalid_0's l1: 0.0729048\n",
      "[49]\tvalid_0's l1: 0.0729029\n",
      "[50]\tvalid_0's l1: 0.0729013\n",
      "[51]\tvalid_0's l1: 0.0728996\n",
      "[52]\tvalid_0's l1: 0.0728965\n",
      "[53]\tvalid_0's l1: 0.0728932\n",
      "[54]\tvalid_0's l1: 0.0728912\n",
      "[55]\tvalid_0's l1: 0.0728894\n",
      "[56]\tvalid_0's l1: 0.0728875\n",
      "[57]\tvalid_0's l1: 0.0728857\n",
      "[58]\tvalid_0's l1: 0.0728837\n",
      "[59]\tvalid_0's l1: 0.072882\n",
      "[60]\tvalid_0's l1: 0.0728801\n",
      "[61]\tvalid_0's l1: 0.0728784\n",
      "[62]\tvalid_0's l1: 0.0728764\n",
      "[63]\tvalid_0's l1: 0.0728745\n",
      "[64]\tvalid_0's l1: 0.0728724\n",
      "[65]\tvalid_0's l1: 0.0728704\n",
      "[66]\tvalid_0's l1: 0.0728672\n",
      "[67]\tvalid_0's l1: 0.0728648\n",
      "[68]\tvalid_0's l1: 0.0728632\n",
      "[69]\tvalid_0's l1: 0.0728601\n",
      "[70]\tvalid_0's l1: 0.0728586\n",
      "[71]\tvalid_0's l1: 0.0728553\n",
      "[72]\tvalid_0's l1: 0.0728536\n",
      "[73]\tvalid_0's l1: 0.0728521\n",
      "[74]\tvalid_0's l1: 0.0728492\n",
      "[75]\tvalid_0's l1: 0.0728461\n",
      "[76]\tvalid_0's l1: 0.072843\n",
      "[77]\tvalid_0's l1: 0.0728401\n",
      "[78]\tvalid_0's l1: 0.0728374\n",
      "[79]\tvalid_0's l1: 0.0728356\n",
      "[80]\tvalid_0's l1: 0.0728341\n",
      "[81]\tvalid_0's l1: 0.0728331\n",
      "[82]\tvalid_0's l1: 0.0728314\n",
      "[83]\tvalid_0's l1: 0.0728285\n",
      "[84]\tvalid_0's l1: 0.0728264\n",
      "[85]\tvalid_0's l1: 0.0728251\n",
      "[86]\tvalid_0's l1: 0.0728239\n",
      "[87]\tvalid_0's l1: 0.0728212\n",
      "[88]\tvalid_0's l1: 0.0728196\n",
      "[89]\tvalid_0's l1: 0.072818\n",
      "[90]\tvalid_0's l1: 0.0728152\n",
      "[91]\tvalid_0's l1: 0.0728137\n",
      "[92]\tvalid_0's l1: 0.0728122\n",
      "[93]\tvalid_0's l1: 0.0728097\n",
      "[94]\tvalid_0's l1: 0.0728071\n",
      "[95]\tvalid_0's l1: 0.0728058\n",
      "[96]\tvalid_0's l1: 0.0728034\n",
      "[97]\tvalid_0's l1: 0.0728003\n",
      "[98]\tvalid_0's l1: 0.072799\n",
      "[99]\tvalid_0's l1: 0.0727982\n",
      "[100]\tvalid_0's l1: 0.0727973\n",
      "[101]\tvalid_0's l1: 0.0727945\n",
      "[102]\tvalid_0's l1: 0.0727937\n",
      "[103]\tvalid_0's l1: 0.0727923\n",
      "[104]\tvalid_0's l1: 0.0727897\n",
      "[105]\tvalid_0's l1: 0.072789\n",
      "[106]\tvalid_0's l1: 0.0727868\n",
      "[107]\tvalid_0's l1: 0.0727853\n",
      "[108]\tvalid_0's l1: 0.0727836\n",
      "[109]\tvalid_0's l1: 0.0727821\n",
      "[110]\tvalid_0's l1: 0.0727809\n",
      "[111]\tvalid_0's l1: 0.0727783\n",
      "[112]\tvalid_0's l1: 0.0727762\n",
      "[113]\tvalid_0's l1: 0.0727737\n",
      "[114]\tvalid_0's l1: 0.072772\n",
      "[115]\tvalid_0's l1: 0.0727701\n",
      "[116]\tvalid_0's l1: 0.0727686\n",
      "[117]\tvalid_0's l1: 0.0727674\n",
      "[118]\tvalid_0's l1: 0.0727651\n",
      "[119]\tvalid_0's l1: 0.072763\n",
      "[120]\tvalid_0's l1: 0.0727618\n",
      "[121]\tvalid_0's l1: 0.0727594\n",
      "[122]\tvalid_0's l1: 0.0727583\n",
      "[123]\tvalid_0's l1: 0.0727561\n",
      "[124]\tvalid_0's l1: 0.0727543\n",
      "[125]\tvalid_0's l1: 0.072753\n",
      "[126]\tvalid_0's l1: 0.072752\n",
      "[127]\tvalid_0's l1: 0.0727509\n",
      "[128]\tvalid_0's l1: 0.0727487\n",
      "[129]\tvalid_0's l1: 0.0727464\n",
      "[130]\tvalid_0's l1: 0.0727446\n",
      "[131]\tvalid_0's l1: 0.0727432\n",
      "[132]\tvalid_0's l1: 0.0727422\n",
      "[133]\tvalid_0's l1: 0.072741\n",
      "[134]\tvalid_0's l1: 0.0727388\n",
      "[135]\tvalid_0's l1: 0.0727374\n",
      "[136]\tvalid_0's l1: 0.0727349\n",
      "[137]\tvalid_0's l1: 0.0727339\n",
      "[138]\tvalid_0's l1: 0.0727334\n",
      "[139]\tvalid_0's l1: 0.0727324\n",
      "[140]\tvalid_0's l1: 0.072731\n",
      "[141]\tvalid_0's l1: 0.0727296\n",
      "[142]\tvalid_0's l1: 0.0727282\n",
      "[143]\tvalid_0's l1: 0.0727268\n",
      "[144]\tvalid_0's l1: 0.0727252\n",
      "[145]\tvalid_0's l1: 0.0727229\n",
      "[146]\tvalid_0's l1: 0.0727219\n",
      "[147]\tvalid_0's l1: 0.0727208\n",
      "[148]\tvalid_0's l1: 0.0727198\n",
      "[149]\tvalid_0's l1: 0.0727189\n",
      "[150]\tvalid_0's l1: 0.0727176\n",
      "[151]\tvalid_0's l1: 0.0727167\n",
      "[152]\tvalid_0's l1: 0.072716\n",
      "[153]\tvalid_0's l1: 0.0727149\n",
      "[154]\tvalid_0's l1: 0.0727138\n",
      "[155]\tvalid_0's l1: 0.0727118\n",
      "[156]\tvalid_0's l1: 0.0727098\n",
      "[157]\tvalid_0's l1: 0.0727089\n",
      "[158]\tvalid_0's l1: 0.0727078\n",
      "[159]\tvalid_0's l1: 0.0727067\n",
      "[160]\tvalid_0's l1: 0.0727052\n",
      "[161]\tvalid_0's l1: 0.072704\n",
      "[162]\tvalid_0's l1: 0.0727024\n",
      "[163]\tvalid_0's l1: 0.0727014\n",
      "[164]\tvalid_0's l1: 0.0727003\n",
      "[165]\tvalid_0's l1: 0.0726984\n",
      "[166]\tvalid_0's l1: 0.0726974\n",
      "[167]\tvalid_0's l1: 0.0726953\n",
      "[168]\tvalid_0's l1: 0.0726941\n",
      "[169]\tvalid_0's l1: 0.0726921\n",
      "[170]\tvalid_0's l1: 0.072691\n",
      "[171]\tvalid_0's l1: 0.0726902\n",
      "[172]\tvalid_0's l1: 0.0726889\n",
      "[173]\tvalid_0's l1: 0.0726877\n",
      "[174]\tvalid_0's l1: 0.072687\n",
      "[175]\tvalid_0's l1: 0.0726856\n",
      "[176]\tvalid_0's l1: 0.0726846\n",
      "[177]\tvalid_0's l1: 0.072684\n",
      "[178]\tvalid_0's l1: 0.0726834\n",
      "[179]\tvalid_0's l1: 0.0726816\n",
      "[180]\tvalid_0's l1: 0.0726803\n",
      "[181]\tvalid_0's l1: 0.072678\n",
      "[182]\tvalid_0's l1: 0.0726773\n",
      "[183]\tvalid_0's l1: 0.0726756\n",
      "[184]\tvalid_0's l1: 0.0726744\n",
      "[185]\tvalid_0's l1: 0.0726734\n",
      "[186]\tvalid_0's l1: 0.0726712\n",
      "[187]\tvalid_0's l1: 0.0726691\n",
      "[188]\tvalid_0's l1: 0.0726684\n",
      "[189]\tvalid_0's l1: 0.0726674\n",
      "[190]\tvalid_0's l1: 0.0726668\n",
      "[191]\tvalid_0's l1: 0.0726651\n",
      "[192]\tvalid_0's l1: 0.0726639\n",
      "[193]\tvalid_0's l1: 0.0726629\n",
      "[194]\tvalid_0's l1: 0.0726617\n",
      "[195]\tvalid_0's l1: 0.0726602\n",
      "[196]\tvalid_0's l1: 0.0726592\n",
      "[197]\tvalid_0's l1: 0.0726581\n",
      "[198]\tvalid_0's l1: 0.0726574\n",
      "[199]\tvalid_0's l1: 0.0726556\n",
      "[200]\tvalid_0's l1: 0.0726545\n",
      "[201]\tvalid_0's l1: 0.0726527\n",
      "[202]\tvalid_0's l1: 0.0726519\n",
      "[203]\tvalid_0's l1: 0.0726502\n",
      "[204]\tvalid_0's l1: 0.0726485\n",
      "[205]\tvalid_0's l1: 0.0726478\n",
      "[206]\tvalid_0's l1: 0.0726467\n",
      "[207]\tvalid_0's l1: 0.072646\n",
      "[208]\tvalid_0's l1: 0.0726443\n",
      "[209]\tvalid_0's l1: 0.0726425\n",
      "[210]\tvalid_0's l1: 0.0726419\n",
      "[211]\tvalid_0's l1: 0.072641\n",
      "[212]\tvalid_0's l1: 0.0726399\n",
      "[213]\tvalid_0's l1: 0.0726381\n",
      "[214]\tvalid_0's l1: 0.0726374\n",
      "[215]\tvalid_0's l1: 0.0726369\n",
      "[216]\tvalid_0's l1: 0.0726363\n",
      "[217]\tvalid_0's l1: 0.0726356\n",
      "[218]\tvalid_0's l1: 0.0726346\n",
      "[219]\tvalid_0's l1: 0.0726341\n",
      "[220]\tvalid_0's l1: 0.0726329\n",
      "[221]\tvalid_0's l1: 0.0726311\n",
      "[222]\tvalid_0's l1: 0.0726308\n",
      "[223]\tvalid_0's l1: 0.07263\n",
      "[224]\tvalid_0's l1: 0.0726286\n",
      "[225]\tvalid_0's l1: 0.0726272\n",
      "[226]\tvalid_0's l1: 0.0726256\n",
      "[227]\tvalid_0's l1: 0.0726244\n",
      "[228]\tvalid_0's l1: 0.0726239\n",
      "[229]\tvalid_0's l1: 0.0726231\n",
      "[230]\tvalid_0's l1: 0.0726228\n",
      "[231]\tvalid_0's l1: 0.0726219\n",
      "[232]\tvalid_0's l1: 0.0726216\n",
      "[233]\tvalid_0's l1: 0.0726199\n",
      "[234]\tvalid_0's l1: 0.0726195\n",
      "[235]\tvalid_0's l1: 0.0726186\n",
      "[236]\tvalid_0's l1: 0.072617\n",
      "[237]\tvalid_0's l1: 0.0726166\n",
      "[238]\tvalid_0's l1: 0.0726161\n",
      "[239]\tvalid_0's l1: 0.0726153\n",
      "[240]\tvalid_0's l1: 0.0726141\n",
      "[241]\tvalid_0's l1: 0.0726134\n",
      "[242]\tvalid_0's l1: 0.072613\n",
      "[243]\tvalid_0's l1: 0.0726122\n",
      "[244]\tvalid_0's l1: 0.0726108\n",
      "[245]\tvalid_0's l1: 0.0726096\n",
      "[246]\tvalid_0's l1: 0.0726089\n",
      "[247]\tvalid_0's l1: 0.0726075\n",
      "[248]\tvalid_0's l1: 0.0726069\n",
      "[249]\tvalid_0's l1: 0.0726064\n",
      "[250]\tvalid_0's l1: 0.072606\n",
      "[251]\tvalid_0's l1: 0.0726045\n",
      "[252]\tvalid_0's l1: 0.0726034\n",
      "[253]\tvalid_0's l1: 0.0726027\n",
      "[254]\tvalid_0's l1: 0.0726012\n",
      "[255]\tvalid_0's l1: 0.0725996\n",
      "[256]\tvalid_0's l1: 0.0725988\n",
      "[257]\tvalid_0's l1: 0.0725976\n",
      "[258]\tvalid_0's l1: 0.0725963\n",
      "[259]\tvalid_0's l1: 0.0725961\n",
      "[260]\tvalid_0's l1: 0.0725962\n",
      "[261]\tvalid_0's l1: 0.0725962\n",
      "[262]\tvalid_0's l1: 0.0725947\n",
      "[263]\tvalid_0's l1: 0.0725949\n",
      "[264]\tvalid_0's l1: 0.0725935\n",
      "[265]\tvalid_0's l1: 0.0725922\n",
      "[266]\tvalid_0's l1: 0.0725907\n",
      "[267]\tvalid_0's l1: 0.0725907\n",
      "[268]\tvalid_0's l1: 0.0725895\n",
      "[269]\tvalid_0's l1: 0.072589\n",
      "[270]\tvalid_0's l1: 0.0725888\n",
      "[271]\tvalid_0's l1: 0.0725875\n",
      "[272]\tvalid_0's l1: 0.0725872\n",
      "[273]\tvalid_0's l1: 0.072586\n",
      "[274]\tvalid_0's l1: 0.0725856\n",
      "[275]\tvalid_0's l1: 0.0725851\n",
      "[276]\tvalid_0's l1: 0.0725846\n",
      "[277]\tvalid_0's l1: 0.072584\n",
      "[278]\tvalid_0's l1: 0.0725827\n",
      "[279]\tvalid_0's l1: 0.0725821\n",
      "[280]\tvalid_0's l1: 0.0725817\n",
      "[281]\tvalid_0's l1: 0.0725803\n",
      "[282]\tvalid_0's l1: 0.0725792\n",
      "[283]\tvalid_0's l1: 0.0725783\n",
      "[284]\tvalid_0's l1: 0.0725781\n",
      "[285]\tvalid_0's l1: 0.0725779\n",
      "[286]\tvalid_0's l1: 0.0725774\n",
      "[287]\tvalid_0's l1: 0.0725767\n",
      "[288]\tvalid_0's l1: 0.0725757\n",
      "[289]\tvalid_0's l1: 0.0725754\n",
      "[290]\tvalid_0's l1: 0.0725749\n",
      "[291]\tvalid_0's l1: 0.0725735\n",
      "[292]\tvalid_0's l1: 0.0725737\n",
      "[293]\tvalid_0's l1: 0.0725726\n",
      "[294]\tvalid_0's l1: 0.0725724\n",
      "[295]\tvalid_0's l1: 0.072572\n",
      "[296]\tvalid_0's l1: 0.0725716\n",
      "[297]\tvalid_0's l1: 0.072571\n",
      "[298]\tvalid_0's l1: 0.0725705\n",
      "[299]\tvalid_0's l1: 0.0725696\n",
      "[300]\tvalid_0's l1: 0.0725685\n",
      "[301]\tvalid_0's l1: 0.0725673\n",
      "[302]\tvalid_0's l1: 0.0725665\n",
      "[303]\tvalid_0's l1: 0.0725653\n",
      "[304]\tvalid_0's l1: 0.0725651\n",
      "[305]\tvalid_0's l1: 0.072564\n",
      "[306]\tvalid_0's l1: 0.0725638\n",
      "[307]\tvalid_0's l1: 0.0725628\n",
      "[308]\tvalid_0's l1: 0.0725625\n",
      "[309]\tvalid_0's l1: 0.0725618\n",
      "[310]\tvalid_0's l1: 0.0725616\n",
      "[311]\tvalid_0's l1: 0.0725606\n",
      "[312]\tvalid_0's l1: 0.0725601\n",
      "[313]\tvalid_0's l1: 0.0725589\n",
      "[314]\tvalid_0's l1: 0.0725586\n",
      "[315]\tvalid_0's l1: 0.0725579\n",
      "[316]\tvalid_0's l1: 0.0725576\n",
      "[317]\tvalid_0's l1: 0.0725571\n",
      "[318]\tvalid_0's l1: 0.0725561\n",
      "[319]\tvalid_0's l1: 0.0725553\n",
      "[320]\tvalid_0's l1: 0.0725543\n",
      "[321]\tvalid_0's l1: 0.072553\n",
      "[322]\tvalid_0's l1: 0.0725525\n",
      "[323]\tvalid_0's l1: 0.0725522\n",
      "[324]\tvalid_0's l1: 0.0725511\n",
      "[325]\tvalid_0's l1: 0.0725507\n",
      "[326]\tvalid_0's l1: 0.0725502\n",
      "[327]\tvalid_0's l1: 0.0725496\n",
      "[328]\tvalid_0's l1: 0.0725488\n",
      "[329]\tvalid_0's l1: 0.0725479\n",
      "[330]\tvalid_0's l1: 0.0725473\n",
      "[331]\tvalid_0's l1: 0.0725466\n",
      "[332]\tvalid_0's l1: 0.0725462\n",
      "[333]\tvalid_0's l1: 0.0725456\n",
      "[334]\tvalid_0's l1: 0.0725445\n",
      "[335]\tvalid_0's l1: 0.072544\n",
      "[336]\tvalid_0's l1: 0.0725432\n",
      "[337]\tvalid_0's l1: 0.0725425\n",
      "[338]\tvalid_0's l1: 0.0725422\n",
      "[339]\tvalid_0's l1: 0.0725417\n",
      "[340]\tvalid_0's l1: 0.0725409\n",
      "[341]\tvalid_0's l1: 0.0725399\n",
      "[342]\tvalid_0's l1: 0.0725393\n",
      "[343]\tvalid_0's l1: 0.0725391\n",
      "[344]\tvalid_0's l1: 0.0725389\n",
      "[345]\tvalid_0's l1: 0.0725383\n",
      "[346]\tvalid_0's l1: 0.0725381\n",
      "[347]\tvalid_0's l1: 0.0725373\n",
      "[348]\tvalid_0's l1: 0.0725363\n",
      "[349]\tvalid_0's l1: 0.0725361\n",
      "[350]\tvalid_0's l1: 0.0725361\n",
      "[351]\tvalid_0's l1: 0.0725359\n",
      "[352]\tvalid_0's l1: 0.0725357\n",
      "[353]\tvalid_0's l1: 0.0725353\n",
      "[354]\tvalid_0's l1: 0.0725351\n",
      "[355]\tvalid_0's l1: 0.0725346\n",
      "[356]\tvalid_0's l1: 0.0725343\n",
      "[357]\tvalid_0's l1: 0.0725337\n",
      "[358]\tvalid_0's l1: 0.0725336\n",
      "[359]\tvalid_0's l1: 0.0725329\n",
      "[360]\tvalid_0's l1: 0.0725327\n",
      "[361]\tvalid_0's l1: 0.0725327\n",
      "[362]\tvalid_0's l1: 0.0725326\n",
      "[363]\tvalid_0's l1: 0.0725316\n",
      "[364]\tvalid_0's l1: 0.0725313\n",
      "[365]\tvalid_0's l1: 0.072531\n",
      "[366]\tvalid_0's l1: 0.0725304\n",
      "[367]\tvalid_0's l1: 0.0725298\n",
      "[368]\tvalid_0's l1: 0.0725294\n",
      "[369]\tvalid_0's l1: 0.0725294\n",
      "[370]\tvalid_0's l1: 0.0725285\n",
      "[371]\tvalid_0's l1: 0.0725284\n",
      "[372]\tvalid_0's l1: 0.0725275\n",
      "[373]\tvalid_0's l1: 0.0725268\n",
      "[374]\tvalid_0's l1: 0.0725259\n",
      "[375]\tvalid_0's l1: 0.0725253\n",
      "[376]\tvalid_0's l1: 0.0725252\n",
      "[377]\tvalid_0's l1: 0.0725247\n",
      "[378]\tvalid_0's l1: 0.0725241\n",
      "[379]\tvalid_0's l1: 0.0725233\n",
      "[380]\tvalid_0's l1: 0.0725226\n",
      "[381]\tvalid_0's l1: 0.0725222\n",
      "[382]\tvalid_0's l1: 0.0725218\n",
      "[383]\tvalid_0's l1: 0.0725215\n",
      "[384]\tvalid_0's l1: 0.0725208\n",
      "[385]\tvalid_0's l1: 0.0725206\n",
      "[386]\tvalid_0's l1: 0.0725198\n",
      "[387]\tvalid_0's l1: 0.0725193\n",
      "[388]\tvalid_0's l1: 0.0725184\n",
      "[389]\tvalid_0's l1: 0.072518\n",
      "[390]\tvalid_0's l1: 0.0725174\n",
      "[391]\tvalid_0's l1: 0.0725168\n",
      "[392]\tvalid_0's l1: 0.0725163\n",
      "[393]\tvalid_0's l1: 0.0725163\n",
      "[394]\tvalid_0's l1: 0.0725163\n",
      "[395]\tvalid_0's l1: 0.0725163\n",
      "[396]\tvalid_0's l1: 0.072516\n",
      "[397]\tvalid_0's l1: 0.0725155\n",
      "[398]\tvalid_0's l1: 0.0725149\n",
      "[399]\tvalid_0's l1: 0.0725141\n",
      "[400]\tvalid_0's l1: 0.0725134\n",
      "[401]\tvalid_0's l1: 0.0725136\n",
      "[402]\tvalid_0's l1: 0.0725137\n",
      "[403]\tvalid_0's l1: 0.0725135\n",
      "[404]\tvalid_0's l1: 0.0725126\n",
      "[405]\tvalid_0's l1: 0.0725127\n",
      "[406]\tvalid_0's l1: 0.0725123\n",
      "[407]\tvalid_0's l1: 0.0725126\n",
      "[408]\tvalid_0's l1: 0.0725123\n",
      "[409]\tvalid_0's l1: 0.072512\n",
      "[410]\tvalid_0's l1: 0.0725116\n",
      "[411]\tvalid_0's l1: 0.0725107\n",
      "[412]\tvalid_0's l1: 0.0725106\n",
      "[413]\tvalid_0's l1: 0.0725104\n",
      "[414]\tvalid_0's l1: 0.0725101\n",
      "[415]\tvalid_0's l1: 0.0725094\n",
      "[416]\tvalid_0's l1: 0.0725095\n",
      "[417]\tvalid_0's l1: 0.072509\n",
      "[418]\tvalid_0's l1: 0.072509\n",
      "[419]\tvalid_0's l1: 0.0725083\n",
      "[420]\tvalid_0's l1: 0.0725081\n",
      "[421]\tvalid_0's l1: 0.0725081\n",
      "[422]\tvalid_0's l1: 0.0725074\n",
      "[423]\tvalid_0's l1: 0.0725067\n",
      "[424]\tvalid_0's l1: 0.0725064\n",
      "[425]\tvalid_0's l1: 0.0725061\n",
      "[426]\tvalid_0's l1: 0.0725057\n",
      "[427]\tvalid_0's l1: 0.0725057\n",
      "[428]\tvalid_0's l1: 0.072505\n",
      "[429]\tvalid_0's l1: 0.0725045\n",
      "[430]\tvalid_0's l1: 0.0725042\n",
      "[431]\tvalid_0's l1: 0.0725043\n",
      "[432]\tvalid_0's l1: 0.0725042\n",
      "[433]\tvalid_0's l1: 0.0725044\n",
      "[434]\tvalid_0's l1: 0.0725046\n",
      "[435]\tvalid_0's l1: 0.0725042\n",
      "[436]\tvalid_0's l1: 0.0725044\n",
      "[437]\tvalid_0's l1: 0.072504\n",
      "[438]\tvalid_0's l1: 0.0725038\n",
      "[439]\tvalid_0's l1: 0.0725036\n",
      "[440]\tvalid_0's l1: 0.0725034\n",
      "[441]\tvalid_0's l1: 0.0725034\n",
      "[442]\tvalid_0's l1: 0.072503\n",
      "[443]\tvalid_0's l1: 0.0725031\n",
      "[444]\tvalid_0's l1: 0.0725032\n",
      "[445]\tvalid_0's l1: 0.0725032\n",
      "[446]\tvalid_0's l1: 0.0725032\n",
      "[447]\tvalid_0's l1: 0.072503\n",
      "[448]\tvalid_0's l1: 0.0725032\n",
      "[449]\tvalid_0's l1: 0.0725028\n",
      "[450]\tvalid_0's l1: 0.0725027\n",
      "[451]\tvalid_0's l1: 0.0725022\n",
      "[452]\tvalid_0's l1: 0.0725021\n",
      "[453]\tvalid_0's l1: 0.0725014\n",
      "[454]\tvalid_0's l1: 0.0725009\n",
      "[455]\tvalid_0's l1: 0.0725004\n",
      "[456]\tvalid_0's l1: 0.0725002\n",
      "[457]\tvalid_0's l1: 0.0725003\n",
      "[458]\tvalid_0's l1: 0.0725007\n",
      "[459]\tvalid_0's l1: 0.0725004\n",
      "[460]\tvalid_0's l1: 0.0725004\n",
      "[461]\tvalid_0's l1: 0.0725001\n",
      "[462]\tvalid_0's l1: 0.0724998\n",
      "[463]\tvalid_0's l1: 0.0724997\n",
      "[464]\tvalid_0's l1: 0.0724998\n",
      "[465]\tvalid_0's l1: 0.0724996\n",
      "[466]\tvalid_0's l1: 0.0724996\n",
      "[467]\tvalid_0's l1: 0.0724997\n",
      "[468]\tvalid_0's l1: 0.0724995\n",
      "[469]\tvalid_0's l1: 0.0724993\n",
      "[470]\tvalid_0's l1: 0.072499\n",
      "[471]\tvalid_0's l1: 0.0724989\n",
      "[472]\tvalid_0's l1: 0.0724986\n",
      "[473]\tvalid_0's l1: 0.0724988\n",
      "[474]\tvalid_0's l1: 0.0724982\n",
      "[475]\tvalid_0's l1: 0.0724981\n",
      "[476]\tvalid_0's l1: 0.0724981\n",
      "[477]\tvalid_0's l1: 0.0724977\n",
      "[478]\tvalid_0's l1: 0.0724977\n",
      "[479]\tvalid_0's l1: 0.0724976\n",
      "[480]\tvalid_0's l1: 0.0724974\n",
      "[481]\tvalid_0's l1: 0.0724975\n",
      "[482]\tvalid_0's l1: 0.0724971\n",
      "[483]\tvalid_0's l1: 0.0724974\n",
      "[484]\tvalid_0's l1: 0.0724975\n",
      "[485]\tvalid_0's l1: 0.072497\n",
      "[486]\tvalid_0's l1: 0.0724971\n",
      "[487]\tvalid_0's l1: 0.0724969\n",
      "[488]\tvalid_0's l1: 0.072497\n",
      "[489]\tvalid_0's l1: 0.0724966\n",
      "[490]\tvalid_0's l1: 0.0724969\n",
      "[491]\tvalid_0's l1: 0.072497\n",
      "[492]\tvalid_0's l1: 0.0724972\n",
      "[493]\tvalid_0's l1: 0.0724973\n",
      "[494]\tvalid_0's l1: 0.0724974\n",
      "[495]\tvalid_0's l1: 0.0724969\n",
      "[496]\tvalid_0's l1: 0.0724964\n",
      "[497]\tvalid_0's l1: 0.0724959\n",
      "[498]\tvalid_0's l1: 0.0724959\n",
      "[499]\tvalid_0's l1: 0.0724961\n",
      "[500]\tvalid_0's l1: 0.0724959\n",
      "Predicting ...\n"
     ]
    },
    {
     "data": {
      "text/plain": [
       "7"
      ]
     },
     "execution_count": 1,
     "metadata": {},
     "output_type": "execute_result"
    }
   ],
   "source": [
    "\n",
    "\n",
    "X, y = utils.get_features_target(df)\n",
    "X_train, X_valid, y_train, y_valid = utils.train_valid_split(X, y, 0.2)\n",
    "predictor = base.train_lgb(X_train, y_train, X_valid, y_valid);\n",
    "gc.collect()\n",
    "\n",
    "print('Predicting ...')\n",
    "test, sample = utils.load_test_data()\n",
    "test_df = test.merge(prop_df, how='left', on='parcelid')\n",
    "X_test = data_clean.drop_id_column(test_df)\n",
    "gc.collect()"
   ]
  },
  {
   "cell_type": "code",
   "execution_count": 5,
   "metadata": {
    "collapsed": false
   },
   "outputs": [
    {
     "data": {
      "text/plain": [
       "{'201610', '201611', '201612', '201710', '201711', '201712'}"
      ]
     },
     "execution_count": 5,
     "metadata": {},
     "output_type": "execute_result"
    }
   ],
   "source": [
    "set(X_test.columns) - set(X_train.columns)"
   ]
  },
  {
   "cell_type": "code",
   "execution_count": 6,
   "metadata": {
    "collapsed": false
   },
   "outputs": [],
   "source": [
    "X_test = X_test.drop(['201610', '201611', '201612', '201710', '201711', '201712'], axis=1)"
   ]
  },
  {
   "cell_type": "code",
   "execution_count": 7,
   "metadata": {
    "collapsed": false
   },
   "outputs": [
    {
     "data": {
      "text/plain": [
       "7"
      ]
     },
     "execution_count": 7,
     "metadata": {},
     "output_type": "execute_result"
    }
   ],
   "source": [
    "gc.collect()"
   ]
  },
  {
   "cell_type": "code",
   "execution_count": 8,
   "metadata": {
    "collapsed": false
   },
   "outputs": [
    {
     "ename": "MemoryError",
     "evalue": "",
     "output_type": "error",
     "traceback": [
      "\u001b[0;31m---------------------------------------------------------------------------\u001b[0m",
      "\u001b[0;31mMemoryError\u001b[0m                               Traceback (most recent call last)",
      "\u001b[0;32m<ipython-input-8-6e65efa9c5b7>\u001b[0m in \u001b[0;36m<module>\u001b[0;34m()\u001b[0m\n\u001b[0;32m----> 1\u001b[0;31m \u001b[0mutils\u001b[0m\u001b[0;34m.\u001b[0m\u001b[0mpredict\u001b[0m\u001b[0;34m(\u001b[0m\u001b[0mpredictor\u001b[0m\u001b[0;34m,\u001b[0m \u001b[0mX_test\u001b[0m\u001b[0;34m,\u001b[0m \u001b[0msample\u001b[0m\u001b[0;34m,\u001b[0m \u001b[0msuffix\u001b[0m\u001b[0;34m=\u001b[0m\u001b[0;34m'0713'\u001b[0m\u001b[0;34m)\u001b[0m\u001b[0;34m\u001b[0m\u001b[0m\n\u001b[0m",
      "\u001b[0;32m/home/hzn/kaggle/github/kaggle-zillow/utils.py\u001b[0m in \u001b[0;36mpredict\u001b[0;34m(predictor, X_test, sample, suffix)\u001b[0m\n\u001b[1;32m     65\u001b[0m             \u001b[0mX_test\u001b[0m \u001b[0;34m-\u001b[0m \u001b[0mthe\u001b[0m \u001b[0mtest\u001b[0m \u001b[0mfeatures\u001b[0m \u001b[0mdataframe\u001b[0m\u001b[0;34m\u001b[0m\u001b[0m\n\u001b[1;32m     66\u001b[0m             \u001b[0msample\u001b[0m \u001b[0;34m-\u001b[0m \u001b[0msample_submission\u001b[0m \u001b[0mdataframe\u001b[0m\u001b[0;34m\u001b[0m\u001b[0m\n\u001b[0;32m---> 67\u001b[0;31m             \u001b[0msuffix\u001b[0m \u001b[0;34m-\u001b[0m \u001b[0msuffix\u001b[0m \u001b[0mof\u001b[0m \u001b[0moutput\u001b[0m \u001b[0mfile\u001b[0m\u001b[0;34m\u001b[0m\u001b[0m\n\u001b[0m\u001b[1;32m     68\u001b[0m     \"\"\"\n\u001b[1;32m     69\u001b[0m     \u001b[0mpredictor\u001b[0m\u001b[0;34m.\u001b[0m\u001b[0mreset_parameter\u001b[0m\u001b[0;34m(\u001b[0m\u001b[0;34m{\u001b[0m\u001b[0;34m\"num_threads\"\u001b[0m\u001b[0;34m:\u001b[0m\u001b[0;36m1\u001b[0m\u001b[0;34m}\u001b[0m\u001b[0;34m)\u001b[0m\u001b[0;34m\u001b[0m\u001b[0m\n",
      "\u001b[0;32m/home/hzn/anaconda3/lib/python3.6/site-packages/lightgbm-0.2-py3.6.egg/lightgbm/basic.py\u001b[0m in \u001b[0;36mpredict\u001b[0;34m(self, data, num_iteration, raw_score, pred_leaf, data_has_header, is_reshape, pred_parameter)\u001b[0m\n\u001b[1;32m   1609\u001b[0m         \u001b[0;32mif\u001b[0m \u001b[0mnum_iteration\u001b[0m \u001b[0;34m<=\u001b[0m \u001b[0;36m0\u001b[0m\u001b[0;34m:\u001b[0m\u001b[0;34m\u001b[0m\u001b[0m\n\u001b[1;32m   1610\u001b[0m             \u001b[0mnum_iteration\u001b[0m \u001b[0;34m=\u001b[0m \u001b[0mself\u001b[0m\u001b[0;34m.\u001b[0m\u001b[0mbest_iteration\u001b[0m\u001b[0;34m\u001b[0m\u001b[0m\n\u001b[0;32m-> 1611\u001b[0;31m         \u001b[0;32mreturn\u001b[0m \u001b[0mpredictor\u001b[0m\u001b[0;34m.\u001b[0m\u001b[0mpredict\u001b[0m\u001b[0;34m(\u001b[0m\u001b[0mdata\u001b[0m\u001b[0;34m,\u001b[0m \u001b[0mnum_iteration\u001b[0m\u001b[0;34m,\u001b[0m \u001b[0mraw_score\u001b[0m\u001b[0;34m,\u001b[0m \u001b[0mpred_leaf\u001b[0m\u001b[0;34m,\u001b[0m \u001b[0mdata_has_header\u001b[0m\u001b[0;34m,\u001b[0m \u001b[0mis_reshape\u001b[0m\u001b[0;34m)\u001b[0m\u001b[0;34m\u001b[0m\u001b[0m\n\u001b[0m\u001b[1;32m   1612\u001b[0m \u001b[0;34m\u001b[0m\u001b[0m\n\u001b[1;32m   1613\u001b[0m     \u001b[0;32mdef\u001b[0m \u001b[0m_to_predictor\u001b[0m\u001b[0;34m(\u001b[0m\u001b[0mself\u001b[0m\u001b[0;34m,\u001b[0m \u001b[0mpred_parameter\u001b[0m\u001b[0;34m=\u001b[0m\u001b[0;32mNone\u001b[0m\u001b[0;34m)\u001b[0m\u001b[0;34m:\u001b[0m\u001b[0;34m\u001b[0m\u001b[0m\n",
      "\u001b[0;32m/home/hzn/anaconda3/lib/python3.6/site-packages/lightgbm-0.2-py3.6.egg/lightgbm/basic.py\u001b[0m in \u001b[0;36mpredict\u001b[0;34m(self, data, num_iteration, raw_score, pred_leaf, data_has_header, is_reshape)\u001b[0m\n\u001b[1;32m    382\u001b[0m         \u001b[0;32mif\u001b[0m \u001b[0misinstance\u001b[0m\u001b[0;34m(\u001b[0m\u001b[0mdata\u001b[0m\u001b[0;34m,\u001b[0m \u001b[0mDataset\u001b[0m\u001b[0;34m)\u001b[0m\u001b[0;34m:\u001b[0m\u001b[0;34m\u001b[0m\u001b[0m\n\u001b[1;32m    383\u001b[0m             \u001b[0;32mraise\u001b[0m \u001b[0mTypeError\u001b[0m\u001b[0;34m(\u001b[0m\u001b[0;34m\"Cannot use Dataset instance for prediction, please use raw data instead\"\u001b[0m\u001b[0;34m)\u001b[0m\u001b[0;34m\u001b[0m\u001b[0m\n\u001b[0;32m--> 384\u001b[0;31m         \u001b[0mdata\u001b[0m \u001b[0;34m=\u001b[0m \u001b[0m_data_from_pandas\u001b[0m\u001b[0;34m(\u001b[0m\u001b[0mdata\u001b[0m\u001b[0;34m,\u001b[0m \u001b[0;32mNone\u001b[0m\u001b[0;34m,\u001b[0m \u001b[0;32mNone\u001b[0m\u001b[0;34m,\u001b[0m \u001b[0mself\u001b[0m\u001b[0;34m.\u001b[0m\u001b[0mpandas_categorical\u001b[0m\u001b[0;34m)\u001b[0m\u001b[0;34m[\u001b[0m\u001b[0;36m0\u001b[0m\u001b[0;34m]\u001b[0m\u001b[0;34m\u001b[0m\u001b[0m\n\u001b[0m\u001b[1;32m    385\u001b[0m         \u001b[0mpredict_type\u001b[0m \u001b[0;34m=\u001b[0m \u001b[0mC_API_PREDICT_NORMAL\u001b[0m\u001b[0;34m\u001b[0m\u001b[0m\n\u001b[1;32m    386\u001b[0m         \u001b[0;32mif\u001b[0m \u001b[0mraw_score\u001b[0m\u001b[0;34m:\u001b[0m\u001b[0;34m\u001b[0m\u001b[0m\n",
      "\u001b[0;32m/home/hzn/anaconda3/lib/python3.6/site-packages/lightgbm-0.2-py3.6.egg/lightgbm/basic.py\u001b[0m in \u001b[0;36m_data_from_pandas\u001b[0;34m(data, feature_name, categorical_feature, pandas_categorical)\u001b[0m\n\u001b[1;32m    258\u001b[0m             \u001b[0mmsg\u001b[0m \u001b[0;34m=\u001b[0m \u001b[0;34m\"\"\"DataFrame.dtypes for data must be int, float or bool. Did not expect the data types in fields \"\"\"\u001b[0m\u001b[0;34m\u001b[0m\u001b[0m\n\u001b[1;32m    259\u001b[0m             \u001b[0;32mraise\u001b[0m \u001b[0mValueError\u001b[0m\u001b[0;34m(\u001b[0m\u001b[0mmsg\u001b[0m \u001b[0;34m+\u001b[0m \u001b[0;34m', '\u001b[0m\u001b[0;34m.\u001b[0m\u001b[0mjoin\u001b[0m\u001b[0;34m(\u001b[0m\u001b[0mbad_fields\u001b[0m\u001b[0;34m)\u001b[0m\u001b[0;34m)\u001b[0m\u001b[0;34m\u001b[0m\u001b[0m\n\u001b[0;32m--> 260\u001b[0;31m         \u001b[0mdata\u001b[0m \u001b[0;34m=\u001b[0m \u001b[0mdata\u001b[0m\u001b[0;34m.\u001b[0m\u001b[0mvalues\u001b[0m\u001b[0;34m.\u001b[0m\u001b[0mastype\u001b[0m\u001b[0;34m(\u001b[0m\u001b[0;34m'float'\u001b[0m\u001b[0;34m)\u001b[0m\u001b[0;34m\u001b[0m\u001b[0m\n\u001b[0m\u001b[1;32m    261\u001b[0m     \u001b[0;32melse\u001b[0m\u001b[0;34m:\u001b[0m\u001b[0;34m\u001b[0m\u001b[0m\n\u001b[1;32m    262\u001b[0m         \u001b[0;32mif\u001b[0m \u001b[0mfeature_name\u001b[0m \u001b[0;34m==\u001b[0m \u001b[0;34m'auto'\u001b[0m\u001b[0;34m:\u001b[0m\u001b[0;34m\u001b[0m\u001b[0m\n",
      "\u001b[0;32m/home/hzn/anaconda3/lib/python3.6/site-packages/pandas/core/generic.py\u001b[0m in \u001b[0;36mvalues\u001b[0;34m(self)\u001b[0m\n\u001b[1;32m   3159\u001b[0m         \u001b[0mwill\u001b[0m \u001b[0mresult\u001b[0m \u001b[0;32min\u001b[0m \u001b[0ma\u001b[0m \u001b[0mflot64\u001b[0m \u001b[0mdtype\u001b[0m\u001b[0;34m.\u001b[0m\u001b[0;34m\u001b[0m\u001b[0m\n\u001b[1;32m   3160\u001b[0m         \"\"\"\n\u001b[0;32m-> 3161\u001b[0;31m         \u001b[0;32mreturn\u001b[0m \u001b[0mself\u001b[0m\u001b[0;34m.\u001b[0m\u001b[0mas_matrix\u001b[0m\u001b[0;34m(\u001b[0m\u001b[0;34m)\u001b[0m\u001b[0;34m\u001b[0m\u001b[0m\n\u001b[0m\u001b[1;32m   3162\u001b[0m \u001b[0;34m\u001b[0m\u001b[0m\n\u001b[1;32m   3163\u001b[0m     \u001b[0;34m@\u001b[0m\u001b[0mproperty\u001b[0m\u001b[0;34m\u001b[0m\u001b[0m\n",
      "\u001b[0;32m/home/hzn/anaconda3/lib/python3.6/site-packages/pandas/core/generic.py\u001b[0m in \u001b[0;36mas_matrix\u001b[0;34m(self, columns)\u001b[0m\n\u001b[1;32m   3140\u001b[0m         \u001b[0mself\u001b[0m\u001b[0;34m.\u001b[0m\u001b[0m_consolidate_inplace\u001b[0m\u001b[0;34m(\u001b[0m\u001b[0;34m)\u001b[0m\u001b[0;34m\u001b[0m\u001b[0m\n\u001b[1;32m   3141\u001b[0m         \u001b[0;32mif\u001b[0m \u001b[0mself\u001b[0m\u001b[0;34m.\u001b[0m\u001b[0m_AXIS_REVERSED\u001b[0m\u001b[0;34m:\u001b[0m\u001b[0;34m\u001b[0m\u001b[0m\n\u001b[0;32m-> 3142\u001b[0;31m             \u001b[0;32mreturn\u001b[0m \u001b[0mself\u001b[0m\u001b[0;34m.\u001b[0m\u001b[0m_data\u001b[0m\u001b[0;34m.\u001b[0m\u001b[0mas_matrix\u001b[0m\u001b[0;34m(\u001b[0m\u001b[0mcolumns\u001b[0m\u001b[0;34m)\u001b[0m\u001b[0;34m.\u001b[0m\u001b[0mT\u001b[0m\u001b[0;34m\u001b[0m\u001b[0m\n\u001b[0m\u001b[1;32m   3143\u001b[0m         \u001b[0;32mreturn\u001b[0m \u001b[0mself\u001b[0m\u001b[0;34m.\u001b[0m\u001b[0m_data\u001b[0m\u001b[0;34m.\u001b[0m\u001b[0mas_matrix\u001b[0m\u001b[0;34m(\u001b[0m\u001b[0mcolumns\u001b[0m\u001b[0;34m)\u001b[0m\u001b[0;34m\u001b[0m\u001b[0m\n\u001b[1;32m   3144\u001b[0m \u001b[0;34m\u001b[0m\u001b[0m\n",
      "\u001b[0;32m/home/hzn/anaconda3/lib/python3.6/site-packages/pandas/core/internals.py\u001b[0m in \u001b[0;36mas_matrix\u001b[0;34m(self, items)\u001b[0m\n\u001b[1;32m   3448\u001b[0m             \u001b[0;32mreturn\u001b[0m \u001b[0mmgr\u001b[0m\u001b[0;34m.\u001b[0m\u001b[0mblocks\u001b[0m\u001b[0;34m[\u001b[0m\u001b[0;36m0\u001b[0m\u001b[0;34m]\u001b[0m\u001b[0;34m.\u001b[0m\u001b[0mget_values\u001b[0m\u001b[0;34m(\u001b[0m\u001b[0;34m)\u001b[0m\u001b[0;34m\u001b[0m\u001b[0m\n\u001b[1;32m   3449\u001b[0m         \u001b[0;32melse\u001b[0m\u001b[0;34m:\u001b[0m\u001b[0;34m\u001b[0m\u001b[0m\n\u001b[0;32m-> 3450\u001b[0;31m             \u001b[0;32mreturn\u001b[0m \u001b[0mmgr\u001b[0m\u001b[0;34m.\u001b[0m\u001b[0m_interleave\u001b[0m\u001b[0;34m(\u001b[0m\u001b[0;34m)\u001b[0m\u001b[0;34m\u001b[0m\u001b[0m\n\u001b[0m\u001b[1;32m   3451\u001b[0m \u001b[0;34m\u001b[0m\u001b[0m\n\u001b[1;32m   3452\u001b[0m     \u001b[0;32mdef\u001b[0m \u001b[0m_interleave\u001b[0m\u001b[0;34m(\u001b[0m\u001b[0mself\u001b[0m\u001b[0;34m)\u001b[0m\u001b[0;34m:\u001b[0m\u001b[0;34m\u001b[0m\u001b[0m\n",
      "\u001b[0;32m/home/hzn/anaconda3/lib/python3.6/site-packages/pandas/core/internals.py\u001b[0m in \u001b[0;36m_interleave\u001b[0;34m(self)\u001b[0m\n\u001b[1;32m   3457\u001b[0m         \u001b[0mdtype\u001b[0m \u001b[0;34m=\u001b[0m \u001b[0m_interleaved_dtype\u001b[0m\u001b[0;34m(\u001b[0m\u001b[0mself\u001b[0m\u001b[0;34m.\u001b[0m\u001b[0mblocks\u001b[0m\u001b[0;34m)\u001b[0m\u001b[0;34m\u001b[0m\u001b[0m\n\u001b[1;32m   3458\u001b[0m \u001b[0;34m\u001b[0m\u001b[0m\n\u001b[0;32m-> 3459\u001b[0;31m         \u001b[0mresult\u001b[0m \u001b[0;34m=\u001b[0m \u001b[0mnp\u001b[0m\u001b[0;34m.\u001b[0m\u001b[0mempty\u001b[0m\u001b[0;34m(\u001b[0m\u001b[0mself\u001b[0m\u001b[0;34m.\u001b[0m\u001b[0mshape\u001b[0m\u001b[0;34m,\u001b[0m \u001b[0mdtype\u001b[0m\u001b[0;34m=\u001b[0m\u001b[0mdtype\u001b[0m\u001b[0;34m)\u001b[0m\u001b[0;34m\u001b[0m\u001b[0m\n\u001b[0m\u001b[1;32m   3460\u001b[0m \u001b[0;34m\u001b[0m\u001b[0m\n\u001b[1;32m   3461\u001b[0m         \u001b[0;32mif\u001b[0m \u001b[0mresult\u001b[0m\u001b[0;34m.\u001b[0m\u001b[0mshape\u001b[0m\u001b[0;34m[\u001b[0m\u001b[0;36m0\u001b[0m\u001b[0;34m]\u001b[0m \u001b[0;34m==\u001b[0m \u001b[0;36m0\u001b[0m\u001b[0;34m:\u001b[0m\u001b[0;34m\u001b[0m\u001b[0m\n",
      "\u001b[0;31mMemoryError\u001b[0m: "
     ]
    }
   ],
   "source": [
    "utils.predict(predictor, X_test, sample, suffix='0713')"
   ]
  }
 ],
 "metadata": {
  "kernelspec": {
   "display_name": "Python 3",
   "language": "python",
   "name": "python3"
  },
  "language_info": {
   "codemirror_mode": {
    "name": "ipython",
    "version": 3
   },
   "file_extension": ".py",
   "mimetype": "text/x-python",
   "name": "python",
   "nbconvert_exporter": "python",
   "pygments_lexer": "ipython3",
   "version": "3.6.0"
  }
 },
 "nbformat": 4,
 "nbformat_minor": 2
}
