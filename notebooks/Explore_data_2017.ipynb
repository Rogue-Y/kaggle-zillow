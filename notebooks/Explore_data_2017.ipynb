{
 "cells": [
  {
   "cell_type": "code",
   "execution_count": 4,
   "metadata": {},
   "outputs": [],
   "source": [
    "# Add the path to import module\n",
    "import os\n",
    "import sys\n",
    "module_path = os.path.abspath(os.path.join('..'))\n",
    "os.chdir(module_path)\n",
    "\n",
    "import features.utils as utils\n",
    "\n",
    "import numpy as np\n",
    "import pandas as pd\n",
    "import matplotlib.pyplot as plt\n",
    "\n",
    "%matplotlib inline"
   ]
  },
  {
   "cell_type": "code",
   "execution_count": 6,
   "metadata": {},
   "outputs": [],
   "source": [
    "train = pd.read_csv('data/train_2016_v2.csv', parse_dates=['transactiondate'])\n",
    "train17 = pd.read_csv('data/train_2017.csv', parse_dates=['transactiondate'])"
   ]
  },
  {
   "cell_type": "code",
   "execution_count": 7,
   "metadata": {},
   "outputs": [
    {
     "name": "stderr",
     "output_type": "stream",
     "text": [
      "/home/peter/anaconda3/lib/python3.6/site-packages/IPython/core/interactiveshell.py:2698: DtypeWarning: Columns (22,32,34,49,55) have mixed types. Specify dtype option on import or set low_memory=False.\n",
      "  interactivity=interactivity, compiler=compiler, result=result)\n",
      "/home/peter/anaconda3/lib/python3.6/site-packages/IPython/core/interactiveshell.py:2698: DtypeWarning: Columns (49) have mixed types. Specify dtype option on import or set low_memory=False.\n",
      "  interactivity=interactivity, compiler=compiler, result=result)\n"
     ]
    }
   ],
   "source": [
    "prop = pd.read_csv('data/properties_2016.csv')\n",
    "prop17 = pd.read_csv('data/properties_2017.csv')"
   ]
  },
  {
   "cell_type": "markdown",
   "metadata": {},
   "source": [
    "## Lines are not aligned"
   ]
  },
  {
   "cell_type": "code",
   "execution_count": 18,
   "metadata": {},
   "outputs": [
    {
     "data": {
      "text/plain": [
       "11116947"
      ]
     },
     "execution_count": 18,
     "metadata": {},
     "output_type": "execute_result"
    }
   ],
   "source": [
    "prop.loc[12].parcelid"
   ]
  },
  {
   "cell_type": "code",
   "execution_count": 19,
   "metadata": {
    "scrolled": true
   },
   "outputs": [
    {
     "data": {
      "text/plain": [
       "11114347"
      ]
     },
     "execution_count": 19,
     "metadata": {},
     "output_type": "execute_result"
    }
   ],
   "source": [
    "prop17.loc[12].parcelid"
   ]
  },
  {
   "cell_type": "code",
   "execution_count": 34,
   "metadata": {},
   "outputs": [],
   "source": [
    "parcelid=prop.sort_values(['parcelid'])['parcelid'].reset_index(drop=True)\n",
    "parcelid17=prop17.sort_values(['parcelid'])['parcelid'].reset_index(drop=True)"
   ]
  },
  {
   "cell_type": "code",
   "execution_count": 38,
   "metadata": {},
   "outputs": [
    {
     "data": {
      "text/plain": [
       "True"
      ]
     },
     "execution_count": 38,
     "metadata": {},
     "output_type": "execute_result"
    }
   ],
   "source": [
    "(parcelid==parcelid17).all()"
   ]
  },
  {
   "cell_type": "code",
   "execution_count": 39,
   "metadata": {
    "collapsed": true
   },
   "outputs": [],
   "source": [
    "prop = prop.sort_values(['parcelid']).reset_index(drop=True)\n",
    "prop17 = prop17.sort_values(['parcelid']).reset_index(drop=True)"
   ]
  },
  {
   "cell_type": "code",
   "execution_count": 48,
   "metadata": {},
   "outputs": [],
   "source": [
    "eq = prop==prop17\n",
    "eq[(pd.isnull(prop) & pd.isnull(prop17))] = True"
   ]
  },
  {
   "cell_type": "code",
   "execution_count": 52,
   "metadata": {},
   "outputs": [],
   "source": [
    "eqpercentage = eq.sum()/len(eq)"
   ]
  },
  {
   "cell_type": "code",
   "execution_count": 64,
   "metadata": {},
   "outputs": [
    {
     "data": {
      "text/plain": [
       "<Container object of 58 artists>"
      ]
     },
     "execution_count": 64,
     "metadata": {},
     "output_type": "execute_result"
    },
    {
     "data": {
      "image/png": "[encoded data removed]",
      "text/plain": [
       "<matplotlib.figure.Figure at 0x7f3952809438>"
      ]
     },
     "metadata": {},
     "output_type": "display_data"
    }
   ],
   "source": [
    "plt.bar(range(len(eqpercentage)), np.array(eqpercentage))"
   ]
  },
  {
   "cell_type": "code",
   "execution_count": 62,
   "metadata": {
    "scrolled": true
   },
   "outputs": [
    {
     "data": {
      "text/plain": [
       "parcelid                        1.000000\n",
       "airconditioningtypeid           0.997814\n",
       "architecturalstyletypeid        1.000000\n",
       "basementsqft                    1.000000\n",
       "bathroomcnt                     0.992266\n",
       "bedroomcnt                      0.992581\n",
       "buildingclasstypeid             0.999842\n",
       "buildingqualitytypeid           0.353636\n",
       "calculatedbathnbr               0.994231\n",
       "decktypeid                      0.999904\n",
       "finishedfloor1squarefeet        0.999464\n",
       "calculatedfinishedsquarefeet    0.993642\n",
       "finishedsquarefeet12            0.994201\n",
       "finishedsquarefeet13            1.000000\n",
       "finishedsquarefeet15            0.998913\n",
       "finishedsquarefeet50            0.999529\n",
       "finishedsquarefeet6             0.999818\n",
       "fips                            0.995187\n",
       "fireplacecnt                    0.999807\n",
       "fullbathcnt                     0.994427\n",
       "garagecarcnt                    0.997075\n",
       "garagetotalsqft                 0.996925\n",
       "hashottuborspa                  0.992850\n",
       "heatingorsystemtypeid           0.978539\n",
       "latitude                        0.995187\n",
       "longitude                       0.995187\n",
       "lotsizesquarefeet               0.988766\n",
       "poolcnt                         0.992539\n",
       "poolsizesum                     0.999999\n",
       "pooltypeid10                    0.993165\n",
       "pooltypeid2                     0.999667\n",
       "pooltypeid7                     0.992512\n",
       "propertycountylandusecode       0.992991\n",
       "propertylandusetypeid           0.993799\n",
       "propertyzoningdesc              0.997478\n",
       "rawcensustractandblock          0.995187\n",
       "regionidcity                    0.997889\n",
       "regionidcounty                  0.995187\n",
       "regionidneighborhood            0.999004\n",
       "regionidzip                     0.997643\n",
       "roomcnt                         0.994615\n",
       "storytypeid                     1.000000\n",
       "threequarterbathnbr             0.998052\n",
       "typeconstructiontypeid          1.000000\n",
       "unitcnt                         0.997508\n",
       "yardbuildingsqft17              0.999464\n",
       "yardbuildingsqft26              1.000000\n",
       "yearbuilt                       0.994017\n",
       "numberofstories                 0.998698\n",
       "fireplaceflag                   1.000000\n",
       "structuretaxvaluedollarcnt      0.056993\n",
       "taxvaluedollarcnt               0.046655\n",
       "assessmentyear                  0.001234\n",
       "landtaxvaluedollarcnt           0.048303\n",
       "taxamount                       0.917995\n",
       "taxdelinquencyflag              0.999915\n",
       "taxdelinquencyyear              0.999915\n",
       "censustractandblock             0.998977\n",
       "dtype: float64"
      ]
     },
     "execution_count": 62,
     "metadata": {},
     "output_type": "execute_result"
    }
   ],
   "source": [
    "eqpercentage"
   ]
  },
  {
   "cell_type": "markdown",
   "metadata": {},
   "source": [
    "## Not considering filled missing nans"
   ]
  },
  {
   "cell_type": "code",
   "execution_count": 146,
   "metadata": {
    "collapsed": true
   },
   "outputs": [],
   "source": [
    "eq2 = prop==prop17\n",
    "eq2[pd.isnull(prop)] = True\n",
    "eqpercentage2 = eq2.sum()/len(eq2)"
   ]
  },
  {
   "cell_type": "code",
   "execution_count": 148,
   "metadata": {},
   "outputs": [
    {
     "data": {
      "text/plain": [
       "parcelid                        1.000000\n",
       "airconditioningtypeid           0.999237\n",
       "architecturalstyletypeid        1.000000\n",
       "basementsqft                    1.000000\n",
       "bathroomcnt                     0.996097\n",
       "bedroomcnt                      0.996413\n",
       "buildingclasstypeid             0.999897\n",
       "buildingqualitytypeid           0.355455\n",
       "calculatedbathnbr               0.998587\n",
       "decktypeid                      0.999999\n",
       "finishedfloor1squarefeet        0.999824\n",
       "calculatedfinishedsquarefeet    0.997872\n",
       "finishedsquarefeet12            0.998453\n",
       "finishedsquarefeet13            1.000000\n",
       "finishedsquarefeet15            0.999333\n",
       "finishedsquarefeet50            0.999889\n",
       "finishedsquarefeet6             0.999821\n",
       "fips                            0.999018\n",
       "fireplacecnt                    0.999973\n",
       "fullbathcnt                     0.998784\n",
       "garagecarcnt                    0.999714\n",
       "garagetotalsqft                 0.999564\n",
       "hashottuborspa                  0.993251\n",
       "heatingorsystemtypeid           0.999752\n",
       "latitude                        0.999018\n",
       "longitude                       0.999018\n",
       "lotsizesquarefeet               0.990483\n",
       "poolcnt                         0.999971\n",
       "poolsizesum                     0.999999\n",
       "pooltypeid10                    0.993244\n",
       "pooltypeid2                     0.999998\n",
       "pooltypeid7                     0.999679\n",
       "propertycountylandusecode       0.996821\n",
       "propertylandusetypeid           0.997631\n",
       "propertyzoningdesc              0.999382\n",
       "rawcensustractandblock          0.999018\n",
       "regionidcity                    0.999065\n",
       "regionidcounty                  0.999018\n",
       "regionidneighborhood            0.999559\n",
       "regionidzip                     0.999034\n",
       "roomcnt                         0.998446\n",
       "storytypeid                     1.000000\n",
       "threequarterbathnbr             0.999814\n",
       "typeconstructiontypeid          1.000000\n",
       "unitcnt                         0.999324\n",
       "yardbuildingsqft17              0.999878\n",
       "yardbuildingsqft26              1.000000\n",
       "yearbuilt                       0.998536\n",
       "numberofstories                 0.999945\n",
       "fireplaceflag                   1.000000\n",
       "structuretaxvaluedollarcnt      0.060879\n",
       "taxvaluedollarcnt               0.050402\n",
       "assessmentyear                  0.005066\n",
       "landtaxvaluedollarcnt           0.051869\n",
       "taxamount                       0.921808\n",
       "taxdelinquencyflag              0.999966\n",
       "taxdelinquencyyear              0.999966\n",
       "censustractandblock             0.999512\n",
       "dtype: float64"
      ]
     },
     "execution_count": 148,
     "metadata": {},
     "output_type": "execute_result"
    }
   ],
   "source": [
    "eqpercentage2"
   ]
  },
  {
   "cell_type": "markdown",
   "metadata": {},
   "source": [
    "## Builidng quality type is heavily changed"
   ]
  },
  {
   "cell_type": "code",
   "execution_count": 65,
   "metadata": {},
   "outputs": [
    {
     "data": {
      "text/plain": [
       "<matplotlib.axes._subplots.AxesSubplot at 0x7f393a72aef0>"
      ]
     },
     "execution_count": 65,
     "metadata": {},
     "output_type": "execute_result"
    },
    {
     "data": {
      "image/png": "[encoded data removed]",
      "text/plain": [
       "<matplotlib.figure.Figure at 0x7f393a6bf1d0>"
      ]
     },
     "metadata": {},
     "output_type": "display_data"
    }
   ],
   "source": [
    "prop['buildingqualitytypeid'].hist()"
   ]
  },
  {
   "cell_type": "code",
   "execution_count": 66,
   "metadata": {},
   "outputs": [
    {
     "data": {
      "text/plain": [
       "<matplotlib.axes._subplots.AxesSubplot at 0x7f393a6038d0>"
      ]
     },
     "execution_count": 66,
     "metadata": {},
     "output_type": "execute_result"
    },
    {
     "data": {
      "image/png": "[encoded data removed]",
      "text/plain": [
       "<matplotlib.figure.Figure at 0x7f393a61abe0>"
      ]
     },
     "metadata": {},
     "output_type": "display_data"
    }
   ],
   "source": [
    "prop17['buildingqualitytypeid'].hist()"
   ]
  },
  {
   "cell_type": "markdown",
   "metadata": {},
   "source": [
    "## Consider bin them into 4 cats"
   ]
  },
  {
   "cell_type": "code",
   "execution_count": 71,
   "metadata": {},
   "outputs": [
    {
     "data": {
      "text/plain": [
       "<matplotlib.axes._subplots.AxesSubplot at 0x7f385323e668>"
      ]
     },
     "execution_count": 71,
     "metadata": {},
     "output_type": "execute_result"
    },
    {
     "data": {
      "image/png": "[encoded data removed]",
      "text/plain": [
       "<matplotlib.figure.Figure at 0x7f38531bc240>"
      ]
     },
     "metadata": {},
     "output_type": "display_data"
    }
   ],
   "source": [
    "prop['buildingqualitytypeid'].hist(bins=4)"
   ]
  },
  {
   "cell_type": "code",
   "execution_count": 72,
   "metadata": {},
   "outputs": [
    {
     "data": {
      "text/plain": [
       "<matplotlib.axes._subplots.AxesSubplot at 0x7f3853169c88>"
      ]
     },
     "execution_count": 72,
     "metadata": {},
     "output_type": "execute_result"
    },
    {
     "data": {
      "image/png": "[encoded data removed]",
      "text/plain": [
       "<matplotlib.figure.Figure at 0x7f385314b4e0>"
      ]
     },
     "metadata": {},
     "output_type": "display_data"
    }
   ],
   "source": [
    "prop17['buildingqualitytypeid'].hist(bins=4)"
   ]
  },
  {
   "cell_type": "markdown",
   "metadata": {},
   "source": [
    "## Other significantly changed values are\n",
    "\n",
    "structuretaxvaluedollarcnt      0.056993\n",
    "\n",
    "taxvaluedollarcnt               0.046655\n",
    "\n",
    "assessmentyear                  0.001234\n",
    "\n",
    "landtaxvaluedollarcnt           0.048303"
   ]
  },
  {
   "cell_type": "code",
   "execution_count": 81,
   "metadata": {},
   "outputs": [
    {
     "data": {
      "text/plain": [
       "count    2.930235e+06\n",
       "mean     1.708836e+05\n",
       "std      4.020683e+05\n",
       "min      1.000000e+00\n",
       "25%      7.480000e+04\n",
       "50%      1.225900e+05\n",
       "75%      1.968890e+05\n",
       "max      2.514860e+08\n",
       "Name: structuretaxvaluedollarcnt, dtype: float64"
      ]
     },
     "execution_count": 81,
     "metadata": {},
     "output_type": "execute_result"
    }
   ],
   "source": [
    "prop['structuretaxvaluedollarcnt'].describe()"
   ]
  },
  {
   "cell_type": "code",
   "execution_count": 78,
   "metadata": {},
   "outputs": [
    {
     "data": {
      "text/plain": [
       "count    2.938753e+06\n",
       "mean     1.781429e+05\n",
       "std      4.600503e+05\n",
       "min      1.000000e+00\n",
       "25%      7.766600e+04\n",
       "50%      1.270660e+05\n",
       "75%      2.040000e+05\n",
       "max      2.553212e+08\n",
       "Name: structuretaxvaluedollarcnt, dtype: float64"
      ]
     },
     "execution_count": 78,
     "metadata": {},
     "output_type": "execute_result"
    }
   ],
   "source": [
    "prop17['structuretaxvaluedollarcnt'].describe()"
   ]
  },
  {
   "cell_type": "markdown",
   "metadata": {},
   "source": [
    "## The distribution is similar, though mean (price) increases."
   ]
  },
  {
   "cell_type": "code",
   "execution_count": 79,
   "metadata": {},
   "outputs": [
    {
     "data": {
      "text/plain": [
       "<matplotlib.collections.PathCollection at 0x7f37eeb47d68>"
      ]
     },
     "execution_count": 79,
     "metadata": {},
     "output_type": "execute_result"
    },
    {
     "data": {
      "image/png": "[encoded data removed]",
      "text/plain": [
       "<matplotlib.figure.Figure at 0x7f37ef127320>"
      ]
     },
     "metadata": {},
     "output_type": "display_data"
    }
   ],
   "source": [
    "plt.scatter(x=prop['structuretaxvaluedollarcnt'], y=prop17['structuretaxvaluedollarcnt'])"
   ]
  },
  {
   "cell_type": "code",
   "execution_count": 82,
   "metadata": {
    "collapsed": true
   },
   "outputs": [],
   "source": [
    "structure_tax_ratio=prop['structuretaxvaluedollarcnt']/prop17['structuretaxvaluedollarcnt']"
   ]
  },
  {
   "cell_type": "code",
   "execution_count": 94,
   "metadata": {},
   "outputs": [
    {
     "data": {
      "text/plain": [
       "<matplotlib.axes._subplots.AxesSubplot at 0x7f37e71230b8>"
      ]
     },
     "execution_count": 94,
     "metadata": {},
     "output_type": "execute_result"
    },
    {
     "data": {
      "image/png": "[encoded data removed]",
      "text/plain": [
       "<matplotlib.figure.Figure at 0x7f37eec849e8>"
      ]
     },
     "metadata": {},
     "output_type": "display_data"
    }
   ],
   "source": [
    "structure_tax_ratio.clip(0.1,1.9).hist(bins=50)"
   ]
  },
  {
   "cell_type": "code",
   "execution_count": 95,
   "metadata": {},
   "outputs": [
    {
     "data": {
      "text/plain": [
       "count    2.927152e+06\n",
       "mean     9.938613e-01\n",
       "std      1.129762e+01\n",
       "min      8.333333e-05\n",
       "25%      9.849803e-01\n",
       "50%      9.849826e-01\n",
       "75%      9.849870e-01\n",
       "max      1.228500e+04\n",
       "Name: structuretaxvaluedollarcnt, dtype: float64"
      ]
     },
     "execution_count": 95,
     "metadata": {},
     "output_type": "execute_result"
    }
   ],
   "source": [
    "structure_tax_ratio.describe()"
   ]
  },
  {
   "cell_type": "code",
   "execution_count": 98,
   "metadata": {},
   "outputs": [
    {
     "data": {
      "text/plain": [
       "parcelid                           12401972\n",
       "airconditioningtypeid                   NaN\n",
       "architecturalstyletypeid                NaN\n",
       "basementsqft                            NaN\n",
       "bathroomcnt                               0\n",
       "bedroomcnt                                0\n",
       "buildingclasstypeid                     NaN\n",
       "buildingqualitytypeid                   NaN\n",
       "calculatedbathnbr                       NaN\n",
       "decktypeid                              NaN\n",
       "finishedfloor1squarefeet                NaN\n",
       "calculatedfinishedsquarefeet           1429\n",
       "finishedsquarefeet12                    NaN\n",
       "finishedsquarefeet13                    NaN\n",
       "finishedsquarefeet15                   1429\n",
       "finishedsquarefeet50                    NaN\n",
       "finishedsquarefeet6                     NaN\n",
       "fips                                   6037\n",
       "fireplacecnt                            NaN\n",
       "fullbathcnt                             NaN\n",
       "garagecarcnt                            NaN\n",
       "garagetotalsqft                         NaN\n",
       "hashottuborspa                          NaN\n",
       "heatingorsystemtypeid                   NaN\n",
       "latitude                        3.38812e+07\n",
       "longitude                      -1.18024e+08\n",
       "lotsizesquarefeet                     54402\n",
       "poolcnt                                 NaN\n",
       "poolsizesum                             NaN\n",
       "pooltypeid10                            NaN\n",
       "pooltypeid2                             NaN\n",
       "pooltypeid7                             NaN\n",
       "propertycountylandusecode              0200\n",
       "propertylandusetypeid                   246\n",
       "propertyzoningdesc                    LMM1*\n",
       "rawcensustractandblock           6.0375e+07\n",
       "regionidcity                           5465\n",
       "regionidcounty                         3101\n",
       "regionidneighborhood                    NaN\n",
       "regionidzip                           96190\n",
       "roomcnt                                   0\n",
       "storytypeid                             NaN\n",
       "threequarterbathnbr                     NaN\n",
       "typeconstructiontypeid                  NaN\n",
       "unitcnt                                 NaN\n",
       "yardbuildingsqft17                      NaN\n",
       "yardbuildingsqft26                      NaN\n",
       "yearbuilt                               NaN\n",
       "numberofstories                         NaN\n",
       "fireplaceflag                           NaN\n",
       "structuretaxvaluedollarcnt            12285\n",
       "taxvaluedollarcnt                    903446\n",
       "assessmentyear                         2015\n",
       "landtaxvaluedollarcnt                891161\n",
       "taxamount                           10359.3\n",
       "taxdelinquencyflag                        Y\n",
       "taxdelinquencyyear                       15\n",
       "censustractandblock              6.0375e+13\n",
       "Name: 1363908, dtype: object"
      ]
     },
     "execution_count": 98,
     "metadata": {},
     "output_type": "execute_result"
    }
   ],
   "source": [
    "prop.loc[structure_tax_ratio.idxmax()]"
   ]
  },
  {
   "cell_type": "code",
   "execution_count": 100,
   "metadata": {},
   "outputs": [
    {
     "data": {
      "text/plain": [
       "parcelid                           12401972\n",
       "airconditioningtypeid                   NaN\n",
       "architecturalstyletypeid                NaN\n",
       "basementsqft                            NaN\n",
       "bathroomcnt                               0\n",
       "bedroomcnt                                0\n",
       "buildingclasstypeid                     NaN\n",
       "buildingqualitytypeid                   NaN\n",
       "calculatedbathnbr                       NaN\n",
       "decktypeid                              NaN\n",
       "finishedfloor1squarefeet                NaN\n",
       "calculatedfinishedsquarefeet           1429\n",
       "finishedsquarefeet12                    NaN\n",
       "finishedsquarefeet13                    NaN\n",
       "finishedsquarefeet15                   1429\n",
       "finishedsquarefeet50                    NaN\n",
       "finishedsquarefeet6                     NaN\n",
       "fips                                   6037\n",
       "fireplacecnt                            NaN\n",
       "fullbathcnt                             NaN\n",
       "garagecarcnt                            NaN\n",
       "garagetotalsqft                         NaN\n",
       "hashottuborspa                          NaN\n",
       "heatingorsystemtypeid                     7\n",
       "latitude                        3.38812e+07\n",
       "longitude                      -1.18024e+08\n",
       "lotsizesquarefeet                     54402\n",
       "poolcnt                                 NaN\n",
       "poolsizesum                             NaN\n",
       "pooltypeid10                            NaN\n",
       "pooltypeid2                             NaN\n",
       "pooltypeid7                             NaN\n",
       "propertycountylandusecode              0200\n",
       "propertylandusetypeid                   246\n",
       "propertyzoningdesc                    LMM1*\n",
       "rawcensustractandblock           6.0375e+07\n",
       "regionidcity                           5465\n",
       "regionidcounty                         3101\n",
       "regionidneighborhood                    NaN\n",
       "regionidzip                           96190\n",
       "roomcnt                                   0\n",
       "storytypeid                             NaN\n",
       "threequarterbathnbr                     NaN\n",
       "typeconstructiontypeid                  NaN\n",
       "unitcnt                                 NaN\n",
       "yardbuildingsqft17                      NaN\n",
       "yardbuildingsqft26                      NaN\n",
       "yearbuilt                               NaN\n",
       "numberofstories                         NaN\n",
       "fireplaceflag                           NaN\n",
       "structuretaxvaluedollarcnt                1\n",
       "taxvaluedollarcnt                    904752\n",
       "assessmentyear                         2016\n",
       "landtaxvaluedollarcnt                904751\n",
       "taxamount                           10359.3\n",
       "taxdelinquencyflag                        Y\n",
       "taxdelinquencyyear                       15\n",
       "censustractandblock              6.0375e+13\n",
       "Name: 1363908, dtype: object"
      ]
     },
     "execution_count": 100,
     "metadata": {},
     "output_type": "execute_result"
    }
   ],
   "source": [
    "prop17.loc[structure_tax_ratio.idxmax()]"
   ]
  },
  {
   "cell_type": "code",
   "execution_count": 143,
   "metadata": {},
   "outputs": [
    {
     "data": {
      "text/html": [
       "<div>\n",
       "<style>\n",
       "    .dataframe thead tr:only-child th {\n",
       "        text-align: right;\n",
       "    }\n",
       "\n",
       "    .dataframe thead th {\n",
       "        text-align: left;\n",
       "    }\n",
       "\n",
       "    .dataframe tbody tr th {\n",
       "        vertical-align: top;\n",
       "    }\n",
       "</style>\n",
       "<table border=\"1\" class=\"dataframe\">\n",
       "  <thead>\n",
       "    <tr style=\"text-align: right;\">\n",
       "      <th></th>\n",
       "      <th>30</th>\n",
       "      <th>54</th>\n",
       "      <th>76</th>\n",
       "      <th>107</th>\n",
       "      <th>111</th>\n",
       "      <th>148</th>\n",
       "      <th>161</th>\n",
       "      <th>175</th>\n",
       "      <th>179</th>\n",
       "      <th>231</th>\n",
       "      <th>...</th>\n",
       "      <th>2975775</th>\n",
       "      <th>2975804</th>\n",
       "      <th>2975971</th>\n",
       "      <th>2975978</th>\n",
       "      <th>2976008</th>\n",
       "      <th>2976016</th>\n",
       "      <th>2976244</th>\n",
       "      <th>2976308</th>\n",
       "      <th>2976517</th>\n",
       "      <th>2978014</th>\n",
       "    </tr>\n",
       "  </thead>\n",
       "  <tbody>\n",
       "    <tr>\n",
       "      <th>structuretaxvaluedollarcnt</th>\n",
       "      <td>254691.0</td>\n",
       "      <td>55871.0</td>\n",
       "      <td>174742.0</td>\n",
       "      <td>80400.0</td>\n",
       "      <td>197636.0</td>\n",
       "      <td>139597.0</td>\n",
       "      <td>137229.0</td>\n",
       "      <td>180161.0</td>\n",
       "      <td>120332.0</td>\n",
       "      <td>66073.0</td>\n",
       "      <td>...</td>\n",
       "      <td>28700.0</td>\n",
       "      <td>31700.0</td>\n",
       "      <td>24400.0</td>\n",
       "      <td>24300.0</td>\n",
       "      <td>21100.0</td>\n",
       "      <td>18000.0</td>\n",
       "      <td>10811.0</td>\n",
       "      <td>16300.0</td>\n",
       "      <td>10100.0</td>\n",
       "      <td>207699.0</td>\n",
       "    </tr>\n",
       "    <tr>\n",
       "      <th>structuretaxvaluedollarcnt</th>\n",
       "      <td>344938.0</td>\n",
       "      <td>208126.0</td>\n",
       "      <td>274800.0</td>\n",
       "      <td>253812.0</td>\n",
       "      <td>299092.0</td>\n",
       "      <td>175000.0</td>\n",
       "      <td>253705.0</td>\n",
       "      <td>293508.0</td>\n",
       "      <td>356792.0</td>\n",
       "      <td>120814.0</td>\n",
       "      <td>...</td>\n",
       "      <td>56336.0</td>\n",
       "      <td>70300.0</td>\n",
       "      <td>32500.0</td>\n",
       "      <td>32700.0</td>\n",
       "      <td>57700.0</td>\n",
       "      <td>25500.0</td>\n",
       "      <td>15200.0</td>\n",
       "      <td>30600.0</td>\n",
       "      <td>15300.0</td>\n",
       "      <td>311000.0</td>\n",
       "    </tr>\n",
       "  </tbody>\n",
       "</table>\n",
       "<p>2 rows × 82323 columns</p>\n",
       "</div>"
      ],
      "text/plain": [
       "                             30        54        76        107       111      \\\n",
       "structuretaxvaluedollarcnt  254691.0   55871.0  174742.0   80400.0  197636.0   \n",
       "structuretaxvaluedollarcnt  344938.0  208126.0  274800.0  253812.0  299092.0   \n",
       "\n",
       "                             148       161       175       179       231      \\\n",
       "structuretaxvaluedollarcnt  139597.0  137229.0  180161.0  120332.0   66073.0   \n",
       "structuretaxvaluedollarcnt  175000.0  253705.0  293508.0  356792.0  120814.0   \n",
       "\n",
       "                              ...     2975775  2975804  2975971  2975978  \\\n",
       "structuretaxvaluedollarcnt    ...     28700.0  31700.0  24400.0  24300.0   \n",
       "structuretaxvaluedollarcnt    ...     56336.0  70300.0  32500.0  32700.0   \n",
       "\n",
       "                            2976008  2976016  2976244  2976308  2976517  \\\n",
       "structuretaxvaluedollarcnt  21100.0  18000.0  10811.0  16300.0  10100.0   \n",
       "structuretaxvaluedollarcnt  57700.0  25500.0  15200.0  30600.0  15300.0   \n",
       "\n",
       "                             2978014  \n",
       "structuretaxvaluedollarcnt  207699.0  \n",
       "structuretaxvaluedollarcnt  311000.0  \n",
       "\n",
       "[2 rows x 82323 columns]"
      ]
     },
     "execution_count": 143,
     "metadata": {},
     "output_type": "execute_result"
    }
   ],
   "source": [
    "pd.DataFrame([prop[structure_tax_ratio < 0.8]['structuretaxvaluedollarcnt'], prop17[structure_tax_ratio < 0.8]['structuretaxvaluedollarcnt']])"
   ]
  },
  {
   "cell_type": "code",
   "execution_count": 102,
   "metadata": {
    "scrolled": true
   },
   "outputs": [
    {
     "data": {
      "text/plain": [
       "count    90275.000000\n",
       "mean         0.011457\n",
       "std          0.161079\n",
       "min         -4.605000\n",
       "25%         -0.025300\n",
       "50%          0.006000\n",
       "75%          0.039200\n",
       "max          4.737000\n",
       "Name: logerror, dtype: float64"
      ]
     },
     "execution_count": 102,
     "metadata": {},
     "output_type": "execute_result"
    }
   ],
   "source": [
    "train['logerror'].describe()"
   ]
  },
  {
   "cell_type": "code",
   "execution_count": 103,
   "metadata": {},
   "outputs": [
    {
     "data": {
      "text/plain": [
       "count    77613.000000\n",
       "mean         0.016755\n",
       "std          0.170887\n",
       "min         -4.655420\n",
       "25%         -0.024325\n",
       "50%          0.006670\n",
       "75%          0.039295\n",
       "max          5.262999\n",
       "Name: logerror, dtype: float64"
      ]
     },
     "execution_count": 103,
     "metadata": {},
     "output_type": "execute_result"
    }
   ],
   "source": [
    "train17['logerror'].describe()"
   ]
  },
  {
   "cell_type": "markdown",
   "metadata": {},
   "source": [
    "## Target mean is slightly larger, but median/quantiles are close. Is it possible there are more outliers?"
   ]
  },
  {
   "cell_type": "code",
   "execution_count": 120,
   "metadata": {},
   "outputs": [
    {
     "data": {
      "text/plain": [
       "[0.914866555924695, 2.3861868131868134, 3.7664999999999997, 4.737]"
      ]
     },
     "execution_count": 120,
     "metadata": {},
     "output_type": "execute_result"
    }
   ],
   "source": [
    "[train[train['logerror']>train['logerror'].quantile(pct)]['logerror'].mean() for pct in [0.99, 0.999, 0.9999, 0.99999]]"
   ]
  },
  {
   "cell_type": "code",
   "execution_count": 121,
   "metadata": {},
   "outputs": [
    {
     "data": {
      "text/plain": [
       "[1.0797556059286468, 2.5067154592656418, 3.4066735426362498, 5.2629986498]"
      ]
     },
     "execution_count": 121,
     "metadata": {},
     "output_type": "execute_result"
    }
   ],
   "source": [
    "[train17[train17['logerror']>train17['logerror'].quantile(pct)]['logerror'].mean() for pct in [0.99, 0.999, 0.9999, 0.99999]]"
   ]
  },
  {
   "cell_type": "code",
   "execution_count": 122,
   "metadata": {},
   "outputs": [
    {
     "data": {
      "text/plain": [
       "[-0.6897311457174631, -1.9634111111111103, -3.2079999999999997, nan]"
      ]
     },
     "execution_count": 122,
     "metadata": {},
     "output_type": "execute_result"
    }
   ],
   "source": [
    "[train[train['logerror']<train['logerror'].quantile(pct)]['logerror'].mean() for pct in [0.01, 0.001, 0.0001, 0.00001]]"
   ]
  },
  {
   "cell_type": "code",
   "execution_count": 123,
   "metadata": {},
   "outputs": [
    {
     "data": {
      "text/plain": [
       "[-0.6328866809586338, -1.8125962040529475, -3.15315847991, -4.65542037764]"
      ]
     },
     "execution_count": 123,
     "metadata": {},
     "output_type": "execute_result"
    }
   ],
   "source": [
    "[train17[train17['logerror']<train17['logerror'].quantile(pct)]['logerror'].mean() for pct in [0.01, 0.001, 0.0001, 0.00001]]"
   ]
  },
  {
   "cell_type": "code",
   "execution_count": 138,
   "metadata": {},
   "outputs": [
    {
     "data": {
      "text/html": [
       "<div>\n",
       "<style>\n",
       "    .dataframe thead tr:only-child th {\n",
       "        text-align: right;\n",
       "    }\n",
       "\n",
       "    .dataframe thead th {\n",
       "        text-align: left;\n",
       "    }\n",
       "\n",
       "    .dataframe tbody tr th {\n",
       "        vertical-align: top;\n",
       "    }\n",
       "</style>\n",
       "<table border=\"1\" class=\"dataframe\">\n",
       "  <thead>\n",
       "    <tr style=\"text-align: right;\">\n",
       "      <th></th>\n",
       "      <th>parcelid</th>\n",
       "      <th>logerror</th>\n",
       "    </tr>\n",
       "  </thead>\n",
       "  <tbody>\n",
       "    <tr>\n",
       "      <th>count</th>\n",
       "      <td>8.846500e+04</td>\n",
       "      <td>88465.000000</td>\n",
       "    </tr>\n",
       "    <tr>\n",
       "      <th>mean</th>\n",
       "      <td>1.299285e+07</td>\n",
       "      <td>0.009393</td>\n",
       "    </tr>\n",
       "    <tr>\n",
       "      <th>std</th>\n",
       "      <td>2.519288e+06</td>\n",
       "      <td>0.083386</td>\n",
       "    </tr>\n",
       "    <tr>\n",
       "      <th>min</th>\n",
       "      <td>1.071174e+07</td>\n",
       "      <td>-0.341100</td>\n",
       "    </tr>\n",
       "    <tr>\n",
       "      <th>25%</th>\n",
       "      <td>1.155872e+07</td>\n",
       "      <td>-0.025300</td>\n",
       "    </tr>\n",
       "    <tr>\n",
       "      <th>50%</th>\n",
       "      <td>1.255725e+07</td>\n",
       "      <td>0.006000</td>\n",
       "    </tr>\n",
       "    <tr>\n",
       "      <th>75%</th>\n",
       "      <td>1.423440e+07</td>\n",
       "      <td>0.038300</td>\n",
       "    </tr>\n",
       "    <tr>\n",
       "      <th>max</th>\n",
       "      <td>1.629608e+08</td>\n",
       "      <td>0.463700</td>\n",
       "    </tr>\n",
       "  </tbody>\n",
       "</table>\n",
       "</div>"
      ],
      "text/plain": [
       "           parcelid      logerror\n",
       "count  8.846500e+04  88465.000000\n",
       "mean   1.299285e+07      0.009393\n",
       "std    2.519288e+06      0.083386\n",
       "min    1.071174e+07     -0.341100\n",
       "25%    1.155872e+07     -0.025300\n",
       "50%    1.255725e+07      0.006000\n",
       "75%    1.423440e+07      0.038300\n",
       "max    1.629608e+08      0.463700"
      ]
     },
     "execution_count": 138,
     "metadata": {},
     "output_type": "execute_result"
    }
   ],
   "source": [
    "train[(train['logerror']<train['logerror'].quantile(0.99)) & (train['logerror']>train['logerror'].quantile(0.01))].describe()"
   ]
  },
  {
   "cell_type": "code",
   "execution_count": 139,
   "metadata": {},
   "outputs": [
    {
     "data": {
      "text/html": [
       "<div>\n",
       "<style>\n",
       "    .dataframe thead tr:only-child th {\n",
       "        text-align: right;\n",
       "    }\n",
       "\n",
       "    .dataframe thead th {\n",
       "        text-align: left;\n",
       "    }\n",
       "\n",
       "    .dataframe tbody tr th {\n",
       "        vertical-align: top;\n",
       "    }\n",
       "</style>\n",
       "<table border=\"1\" class=\"dataframe\">\n",
       "  <thead>\n",
       "    <tr style=\"text-align: right;\">\n",
       "      <th></th>\n",
       "      <th>parcelid</th>\n",
       "      <th>logerror</th>\n",
       "    </tr>\n",
       "  </thead>\n",
       "  <tbody>\n",
       "    <tr>\n",
       "      <th>count</th>\n",
       "      <td>7.605900e+04</td>\n",
       "      <td>76059.000000</td>\n",
       "    </tr>\n",
       "    <tr>\n",
       "      <th>mean</th>\n",
       "      <td>1.301192e+07</td>\n",
       "      <td>0.012532</td>\n",
       "    </tr>\n",
       "    <tr>\n",
       "      <th>std</th>\n",
       "      <td>3.494223e+06</td>\n",
       "      <td>0.085997</td>\n",
       "    </tr>\n",
       "    <tr>\n",
       "      <th>min</th>\n",
       "      <td>1.071186e+07</td>\n",
       "      <td>-0.319816</td>\n",
       "    </tr>\n",
       "    <tr>\n",
       "      <th>25%</th>\n",
       "      <td>1.153702e+07</td>\n",
       "      <td>-0.023508</td>\n",
       "    </tr>\n",
       "    <tr>\n",
       "      <th>50%</th>\n",
       "      <td>1.253767e+07</td>\n",
       "      <td>0.006670</td>\n",
       "    </tr>\n",
       "    <tr>\n",
       "      <th>75%</th>\n",
       "      <td>1.421532e+07</td>\n",
       "      <td>0.038338</td>\n",
       "    </tr>\n",
       "    <tr>\n",
       "      <th>max</th>\n",
       "      <td>1.676893e+08</td>\n",
       "      <td>0.534074</td>\n",
       "    </tr>\n",
       "  </tbody>\n",
       "</table>\n",
       "</div>"
      ],
      "text/plain": [
       "           parcelid      logerror\n",
       "count  7.605900e+04  76059.000000\n",
       "mean   1.301192e+07      0.012532\n",
       "std    3.494223e+06      0.085997\n",
       "min    1.071186e+07     -0.319816\n",
       "25%    1.153702e+07     -0.023508\n",
       "50%    1.253767e+07      0.006670\n",
       "75%    1.421532e+07      0.038338\n",
       "max    1.676893e+08      0.534074"
      ]
     },
     "execution_count": 139,
     "metadata": {},
     "output_type": "execute_result"
    }
   ],
   "source": [
    "train17[(train17['logerror']<train17['logerror'].quantile(0.99)) & (train17['logerror']>train17['logerror'].quantile(0.01))].describe()"
   ]
  },
  {
   "cell_type": "markdown",
   "metadata": {},
   "source": [
    "## So generally its more likely to overestimate in 2017"
   ]
  },
  {
   "cell_type": "code",
   "execution_count": null,
   "metadata": {
    "collapsed": true
   },
   "outputs": [],
   "source": []
  }
 ],
 "metadata": {
  "kernelspec": {
   "display_name": "Python 3",
   "language": "python",
   "name": "python3"
  },
  "language_info": {
   "codemirror_mode": {
    "name": "ipython",
    "version": 3
   },
   "file_extension": ".py",
   "mimetype": "text/x-python",
   "name": "python",
   "nbconvert_exporter": "python",
   "pygments_lexer": "ipython3",
   "version": "3.6.2"
  }
 },
 "nbformat": 4,
 "nbformat_minor": 2
}
