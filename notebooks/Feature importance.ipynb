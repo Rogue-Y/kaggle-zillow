{
 "cells": [
  {
   "cell_type": "code",
   "execution_count": 1,
   "metadata": {
    "collapsed": true
   },
   "outputs": [],
   "source": [
    "import main_script\n",
    "import feature_eng.utils as utils\n",
    "import feature_eng.data_clean as data_clean\n",
    "import feature_eng.feature_eng as feature_eng\n",
    "\n",
    "import evaluator\n",
    "\n",
    "import json\n",
    "import importlib # import module dynamically\n",
    "import pandas as pd"
   ]
  },
  {
   "cell_type": "code",
   "execution_count": 2,
   "metadata": {
    "collapsed": false
   },
   "outputs": [
    {
     "name": "stdout",
     "output_type": "stream",
     "text": [
      "Loading data ...\n"
     ]
    },
    {
     "name": "stderr",
     "output_type": "stream",
     "text": [
      "/home/hzn/anaconda3/lib/python3.6/site-packages/IPython/core/interactiveshell.py:2881: DtypeWarning: Columns (22,32,34,49,55) have mixed types. Specify dtype option on import or set low_memory=False.\n",
      "  exec(code_obj, self.user_global_ns, self.user_ns)\n"
     ]
    }
   ],
   "source": [
    "train, prop = main_script.load_train_data()\n"
   ]
  },
  {
   "cell_type": "code",
   "execution_count": 27,
   "metadata": {
    "collapsed": false
   },
   "outputs": [
    {
     "name": "stdout",
     "output_type": "stream",
     "text": [
      "Cleaning data and feature engineering...\n"
     ]
    },
    {
     "ename": "MemoryError",
     "evalue": "",
     "output_type": "error",
     "traceback": [
      "\u001b[0;31m---------------------------------------------------------------------------\u001b[0m",
      "\u001b[0;31mMemoryError\u001b[0m                               Traceback (most recent call last)",
      "\u001b[0;32m<ipython-input-27-cf177d05ad71>\u001b[0m in \u001b[0;36m<module>\u001b[0;34m()\u001b[0m\n\u001b[0;32m----> 1\u001b[0;31m \u001b[0mdf\u001b[0m\u001b[0;34m,\u001b[0m \u001b[0mev\u001b[0m \u001b[0;34m=\u001b[0m \u001b[0mmain_script\u001b[0m\u001b[0;34m.\u001b[0m\u001b[0mtrain\u001b[0m\u001b[0;34m(\u001b[0m\u001b[0mtrain\u001b[0m\u001b[0;34m,\u001b[0m \u001b[0mprop\u001b[0m\u001b[0;34m)\u001b[0m\u001b[0;34m\u001b[0m\u001b[0m\n\u001b[0m",
      "\u001b[0;32m/home/hzn/kaggle/github/kaggle-zillow/main_script.py\u001b[0m in \u001b[0;36mtrain\u001b[0;34m(train, prop)\u001b[0m\n\u001b[1;32m     69\u001b[0m         \u001b[0mkwargs\u001b[0m\u001b[0;34m[\u001b[0m\u001b[0;34m'df'\u001b[0m\u001b[0;34m]\u001b[0m \u001b[0;34m=\u001b[0m \u001b[0mprop\u001b[0m\u001b[0;34m\u001b[0m\u001b[0m\n\u001b[1;32m     70\u001b[0m \u001b[0;34m\u001b[0m\u001b[0m\n\u001b[0;32m---> 71\u001b[0;31m         \u001b[0mprop\u001b[0m \u001b[0;34m=\u001b[0m \u001b[0mmethod_to_call\u001b[0m\u001b[0;34m(\u001b[0m\u001b[0;34m*\u001b[0m\u001b[0margs\u001b[0m\u001b[0;34m,\u001b[0m \u001b[0;34m**\u001b[0m\u001b[0mkwargs\u001b[0m\u001b[0;34m)\u001b[0m\u001b[0;34m\u001b[0m\u001b[0m\n\u001b[0m\u001b[1;32m     72\u001b[0m \u001b[0;34m\u001b[0m\u001b[0m\n\u001b[1;32m     73\u001b[0m     \u001b[0;31m# Subset with transaction info\u001b[0m\u001b[0;34m\u001b[0m\u001b[0;34m\u001b[0m\u001b[0m\n",
      "\u001b[0;32m/home/hzn/kaggle/github/kaggle-zillow/feature_eng/feature_eng.py\u001b[0m in \u001b[0;36madd_bins\u001b[0;34m(df, column, quantile, bin_num, one_hot_encode)\u001b[0m\n\u001b[1;32m     77\u001b[0m \u001b[0;34m\u001b[0m\u001b[0m\n\u001b[1;32m     78\u001b[0m     \u001b[0mbin_dummies\u001b[0m \u001b[0;34m=\u001b[0m \u001b[0mpd\u001b[0m\u001b[0;34m.\u001b[0m\u001b[0mget_dummies\u001b[0m\u001b[0;34m(\u001b[0m\u001b[0mbins\u001b[0m\u001b[0;34m,\u001b[0m \u001b[0mprefix\u001b[0m\u001b[0;34m=\u001b[0m\u001b[0mcolumn\u001b[0m\u001b[0;34m+\u001b[0m\u001b[0;34m'_bin'\u001b[0m\u001b[0;34m)\u001b[0m\u001b[0;34m\u001b[0m\u001b[0m\n\u001b[0;32m---> 79\u001b[0;31m     \u001b[0;32mreturn\u001b[0m \u001b[0mpd\u001b[0m\u001b[0;34m.\u001b[0m\u001b[0mconcat\u001b[0m\u001b[0;34m(\u001b[0m\u001b[0;34m[\u001b[0m\u001b[0mdf\u001b[0m\u001b[0;34m,\u001b[0m \u001b[0mbin_dummies\u001b[0m\u001b[0;34m]\u001b[0m\u001b[0;34m,\u001b[0m \u001b[0maxis\u001b[0m\u001b[0;34m=\u001b[0m\u001b[0;36m1\u001b[0m\u001b[0;34m)\u001b[0m\u001b[0;34m\u001b[0m\u001b[0m\n\u001b[0m\u001b[1;32m     80\u001b[0m \u001b[0;34m\u001b[0m\u001b[0m\n\u001b[1;32m     81\u001b[0m \u001b[0;32mdef\u001b[0m \u001b[0madd_year_tax_bins\u001b[0m\u001b[0;34m(\u001b[0m\u001b[0mdf\u001b[0m\u001b[0;34m,\u001b[0m \u001b[0myear_bin_num\u001b[0m\u001b[0;34m=\u001b[0m\u001b[0;36m10\u001b[0m\u001b[0;34m,\u001b[0m \u001b[0mtax_bin_num\u001b[0m\u001b[0;34m=\u001b[0m\u001b[0;36m10\u001b[0m\u001b[0;34m)\u001b[0m\u001b[0;34m:\u001b[0m\u001b[0;34m\u001b[0m\u001b[0m\n",
      "\u001b[0;32m/home/hzn/anaconda3/lib/python3.6/site-packages/pandas/core/reshape/concat.py\u001b[0m in \u001b[0;36mconcat\u001b[0;34m(objs, axis, join, join_axes, ignore_index, keys, levels, names, verify_integrity, copy)\u001b[0m\n\u001b[1;32m    204\u001b[0m                        \u001b[0mkeys\u001b[0m\u001b[0;34m=\u001b[0m\u001b[0mkeys\u001b[0m\u001b[0;34m,\u001b[0m \u001b[0mlevels\u001b[0m\u001b[0;34m=\u001b[0m\u001b[0mlevels\u001b[0m\u001b[0;34m,\u001b[0m \u001b[0mnames\u001b[0m\u001b[0;34m=\u001b[0m\u001b[0mnames\u001b[0m\u001b[0;34m,\u001b[0m\u001b[0;34m\u001b[0m\u001b[0m\n\u001b[1;32m    205\u001b[0m                        \u001b[0mverify_integrity\u001b[0m\u001b[0;34m=\u001b[0m\u001b[0mverify_integrity\u001b[0m\u001b[0;34m,\u001b[0m\u001b[0;34m\u001b[0m\u001b[0m\n\u001b[0;32m--> 206\u001b[0;31m                        copy=copy)\n\u001b[0m\u001b[1;32m    207\u001b[0m     \u001b[0;32mreturn\u001b[0m \u001b[0mop\u001b[0m\u001b[0;34m.\u001b[0m\u001b[0mget_result\u001b[0m\u001b[0;34m(\u001b[0m\u001b[0;34m)\u001b[0m\u001b[0;34m\u001b[0m\u001b[0m\n\u001b[1;32m    208\u001b[0m \u001b[0;34m\u001b[0m\u001b[0m\n",
      "\u001b[0;32m/home/hzn/anaconda3/lib/python3.6/site-packages/pandas/core/reshape/concat.py\u001b[0m in \u001b[0;36m__init__\u001b[0;34m(self, objs, axis, join, join_axes, keys, levels, names, ignore_index, verify_integrity, copy)\u001b[0m\n\u001b[1;32m    264\u001b[0m \u001b[0;34m\u001b[0m\u001b[0m\n\u001b[1;32m    265\u001b[0m             \u001b[0;31m# consolidate\u001b[0m\u001b[0;34m\u001b[0m\u001b[0;34m\u001b[0m\u001b[0m\n\u001b[0;32m--> 266\u001b[0;31m             \u001b[0mobj\u001b[0m\u001b[0;34m.\u001b[0m\u001b[0m_consolidate\u001b[0m\u001b[0;34m(\u001b[0m\u001b[0minplace\u001b[0m\u001b[0;34m=\u001b[0m\u001b[0;32mTrue\u001b[0m\u001b[0;34m)\u001b[0m\u001b[0;34m\u001b[0m\u001b[0m\n\u001b[0m\u001b[1;32m    267\u001b[0m             \u001b[0mndims\u001b[0m\u001b[0;34m.\u001b[0m\u001b[0madd\u001b[0m\u001b[0;34m(\u001b[0m\u001b[0mobj\u001b[0m\u001b[0;34m.\u001b[0m\u001b[0mndim\u001b[0m\u001b[0;34m)\u001b[0m\u001b[0;34m\u001b[0m\u001b[0m\n\u001b[1;32m    268\u001b[0m \u001b[0;34m\u001b[0m\u001b[0m\n",
      "\u001b[0;32m/home/hzn/anaconda3/lib/python3.6/site-packages/pandas/core/generic.py\u001b[0m in \u001b[0;36m_consolidate\u001b[0;34m(self, inplace)\u001b[0m\n\u001b[1;32m   3043\u001b[0m         \u001b[0minplace\u001b[0m \u001b[0;34m=\u001b[0m \u001b[0mvalidate_bool_kwarg\u001b[0m\u001b[0;34m(\u001b[0m\u001b[0minplace\u001b[0m\u001b[0;34m,\u001b[0m \u001b[0;34m'inplace'\u001b[0m\u001b[0;34m)\u001b[0m\u001b[0;34m\u001b[0m\u001b[0m\n\u001b[1;32m   3044\u001b[0m         \u001b[0;32mif\u001b[0m \u001b[0minplace\u001b[0m\u001b[0;34m:\u001b[0m\u001b[0;34m\u001b[0m\u001b[0m\n\u001b[0;32m-> 3045\u001b[0;31m             \u001b[0mself\u001b[0m\u001b[0;34m.\u001b[0m\u001b[0m_consolidate_inplace\u001b[0m\u001b[0;34m(\u001b[0m\u001b[0;34m)\u001b[0m\u001b[0;34m\u001b[0m\u001b[0m\n\u001b[0m\u001b[1;32m   3046\u001b[0m         \u001b[0;32melse\u001b[0m\u001b[0;34m:\u001b[0m\u001b[0;34m\u001b[0m\u001b[0m\n\u001b[1;32m   3047\u001b[0m             \u001b[0mf\u001b[0m \u001b[0;34m=\u001b[0m \u001b[0;32mlambda\u001b[0m\u001b[0;34m:\u001b[0m \u001b[0mself\u001b[0m\u001b[0;34m.\u001b[0m\u001b[0m_data\u001b[0m\u001b[0;34m.\u001b[0m\u001b[0mconsolidate\u001b[0m\u001b[0;34m(\u001b[0m\u001b[0;34m)\u001b[0m\u001b[0;34m\u001b[0m\u001b[0m\n",
      "\u001b[0;32m/home/hzn/anaconda3/lib/python3.6/site-packages/pandas/core/generic.py\u001b[0m in \u001b[0;36m_consolidate_inplace\u001b[0;34m(self)\u001b[0m\n\u001b[1;32m   3025\u001b[0m             \u001b[0mself\u001b[0m\u001b[0;34m.\u001b[0m\u001b[0m_data\u001b[0m \u001b[0;34m=\u001b[0m \u001b[0mself\u001b[0m\u001b[0;34m.\u001b[0m\u001b[0m_data\u001b[0m\u001b[0;34m.\u001b[0m\u001b[0mconsolidate\u001b[0m\u001b[0;34m(\u001b[0m\u001b[0;34m)\u001b[0m\u001b[0;34m\u001b[0m\u001b[0m\n\u001b[1;32m   3026\u001b[0m \u001b[0;34m\u001b[0m\u001b[0m\n\u001b[0;32m-> 3027\u001b[0;31m         \u001b[0mself\u001b[0m\u001b[0;34m.\u001b[0m\u001b[0m_protect_consolidate\u001b[0m\u001b[0;34m(\u001b[0m\u001b[0mf\u001b[0m\u001b[0;34m)\u001b[0m\u001b[0;34m\u001b[0m\u001b[0m\n\u001b[0m\u001b[1;32m   3028\u001b[0m \u001b[0;34m\u001b[0m\u001b[0m\n\u001b[1;32m   3029\u001b[0m     \u001b[0;32mdef\u001b[0m \u001b[0m_consolidate\u001b[0m\u001b[0;34m(\u001b[0m\u001b[0mself\u001b[0m\u001b[0;34m,\u001b[0m \u001b[0minplace\u001b[0m\u001b[0;34m=\u001b[0m\u001b[0;32mFalse\u001b[0m\u001b[0;34m)\u001b[0m\u001b[0;34m:\u001b[0m\u001b[0;34m\u001b[0m\u001b[0m\n",
      "\u001b[0;32m/home/hzn/anaconda3/lib/python3.6/site-packages/pandas/core/generic.py\u001b[0m in \u001b[0;36m_protect_consolidate\u001b[0;34m(self, f)\u001b[0m\n\u001b[1;32m   3014\u001b[0m         \"\"\"\n\u001b[1;32m   3015\u001b[0m         \u001b[0mblocks_before\u001b[0m \u001b[0;34m=\u001b[0m \u001b[0mlen\u001b[0m\u001b[0;34m(\u001b[0m\u001b[0mself\u001b[0m\u001b[0;34m.\u001b[0m\u001b[0m_data\u001b[0m\u001b[0;34m.\u001b[0m\u001b[0mblocks\u001b[0m\u001b[0;34m)\u001b[0m\u001b[0;34m\u001b[0m\u001b[0m\n\u001b[0;32m-> 3016\u001b[0;31m         \u001b[0mresult\u001b[0m \u001b[0;34m=\u001b[0m \u001b[0mf\u001b[0m\u001b[0;34m(\u001b[0m\u001b[0;34m)\u001b[0m\u001b[0;34m\u001b[0m\u001b[0m\n\u001b[0m\u001b[1;32m   3017\u001b[0m         \u001b[0;32mif\u001b[0m \u001b[0mlen\u001b[0m\u001b[0;34m(\u001b[0m\u001b[0mself\u001b[0m\u001b[0;34m.\u001b[0m\u001b[0m_data\u001b[0m\u001b[0;34m.\u001b[0m\u001b[0mblocks\u001b[0m\u001b[0;34m)\u001b[0m \u001b[0;34m!=\u001b[0m \u001b[0mblocks_before\u001b[0m\u001b[0;34m:\u001b[0m\u001b[0;34m\u001b[0m\u001b[0m\n\u001b[1;32m   3018\u001b[0m             \u001b[0mself\u001b[0m\u001b[0;34m.\u001b[0m\u001b[0m_clear_item_cache\u001b[0m\u001b[0;34m(\u001b[0m\u001b[0;34m)\u001b[0m\u001b[0;34m\u001b[0m\u001b[0m\n",
      "\u001b[0;32m/home/hzn/anaconda3/lib/python3.6/site-packages/pandas/core/generic.py\u001b[0m in \u001b[0;36mf\u001b[0;34m()\u001b[0m\n\u001b[1;32m   3023\u001b[0m \u001b[0;34m\u001b[0m\u001b[0m\n\u001b[1;32m   3024\u001b[0m         \u001b[0;32mdef\u001b[0m \u001b[0mf\u001b[0m\u001b[0;34m(\u001b[0m\u001b[0;34m)\u001b[0m\u001b[0;34m:\u001b[0m\u001b[0;34m\u001b[0m\u001b[0m\n\u001b[0;32m-> 3025\u001b[0;31m             \u001b[0mself\u001b[0m\u001b[0;34m.\u001b[0m\u001b[0m_data\u001b[0m \u001b[0;34m=\u001b[0m \u001b[0mself\u001b[0m\u001b[0;34m.\u001b[0m\u001b[0m_data\u001b[0m\u001b[0;34m.\u001b[0m\u001b[0mconsolidate\u001b[0m\u001b[0;34m(\u001b[0m\u001b[0;34m)\u001b[0m\u001b[0;34m\u001b[0m\u001b[0m\n\u001b[0m\u001b[1;32m   3026\u001b[0m \u001b[0;34m\u001b[0m\u001b[0m\n\u001b[1;32m   3027\u001b[0m         \u001b[0mself\u001b[0m\u001b[0;34m.\u001b[0m\u001b[0m_protect_consolidate\u001b[0m\u001b[0;34m(\u001b[0m\u001b[0mf\u001b[0m\u001b[0;34m)\u001b[0m\u001b[0;34m\u001b[0m\u001b[0m\n",
      "\u001b[0;32m/home/hzn/anaconda3/lib/python3.6/site-packages/pandas/core/internals.py\u001b[0m in \u001b[0;36mconsolidate\u001b[0;34m(self)\u001b[0m\n\u001b[1;32m   3571\u001b[0m         \u001b[0mbm\u001b[0m \u001b[0;34m=\u001b[0m \u001b[0mself\u001b[0m\u001b[0;34m.\u001b[0m\u001b[0m__class__\u001b[0m\u001b[0;34m(\u001b[0m\u001b[0mself\u001b[0m\u001b[0;34m.\u001b[0m\u001b[0mblocks\u001b[0m\u001b[0;34m,\u001b[0m \u001b[0mself\u001b[0m\u001b[0;34m.\u001b[0m\u001b[0maxes\u001b[0m\u001b[0;34m)\u001b[0m\u001b[0;34m\u001b[0m\u001b[0m\n\u001b[1;32m   3572\u001b[0m         \u001b[0mbm\u001b[0m\u001b[0;34m.\u001b[0m\u001b[0m_is_consolidated\u001b[0m \u001b[0;34m=\u001b[0m \u001b[0;32mFalse\u001b[0m\u001b[0;34m\u001b[0m\u001b[0m\n\u001b[0;32m-> 3573\u001b[0;31m         \u001b[0mbm\u001b[0m\u001b[0;34m.\u001b[0m\u001b[0m_consolidate_inplace\u001b[0m\u001b[0;34m(\u001b[0m\u001b[0;34m)\u001b[0m\u001b[0;34m\u001b[0m\u001b[0m\n\u001b[0m\u001b[1;32m   3574\u001b[0m         \u001b[0;32mreturn\u001b[0m \u001b[0mbm\u001b[0m\u001b[0;34m\u001b[0m\u001b[0m\n\u001b[1;32m   3575\u001b[0m \u001b[0;34m\u001b[0m\u001b[0m\n",
      "\u001b[0;32m/home/hzn/anaconda3/lib/python3.6/site-packages/pandas/core/internals.py\u001b[0m in \u001b[0;36m_consolidate_inplace\u001b[0;34m(self)\u001b[0m\n\u001b[1;32m   3576\u001b[0m     \u001b[0;32mdef\u001b[0m \u001b[0m_consolidate_inplace\u001b[0m\u001b[0;34m(\u001b[0m\u001b[0mself\u001b[0m\u001b[0;34m)\u001b[0m\u001b[0;34m:\u001b[0m\u001b[0;34m\u001b[0m\u001b[0m\n\u001b[1;32m   3577\u001b[0m         \u001b[0;32mif\u001b[0m \u001b[0;32mnot\u001b[0m \u001b[0mself\u001b[0m\u001b[0;34m.\u001b[0m\u001b[0mis_consolidated\u001b[0m\u001b[0;34m(\u001b[0m\u001b[0;34m)\u001b[0m\u001b[0;34m:\u001b[0m\u001b[0;34m\u001b[0m\u001b[0m\n\u001b[0;32m-> 3578\u001b[0;31m             \u001b[0mself\u001b[0m\u001b[0;34m.\u001b[0m\u001b[0mblocks\u001b[0m \u001b[0;34m=\u001b[0m \u001b[0mtuple\u001b[0m\u001b[0;34m(\u001b[0m\u001b[0m_consolidate\u001b[0m\u001b[0;34m(\u001b[0m\u001b[0mself\u001b[0m\u001b[0;34m.\u001b[0m\u001b[0mblocks\u001b[0m\u001b[0;34m)\u001b[0m\u001b[0;34m)\u001b[0m\u001b[0;34m\u001b[0m\u001b[0m\n\u001b[0m\u001b[1;32m   3579\u001b[0m             \u001b[0mself\u001b[0m\u001b[0;34m.\u001b[0m\u001b[0m_is_consolidated\u001b[0m \u001b[0;34m=\u001b[0m \u001b[0;32mTrue\u001b[0m\u001b[0;34m\u001b[0m\u001b[0m\n\u001b[1;32m   3580\u001b[0m             \u001b[0mself\u001b[0m\u001b[0;34m.\u001b[0m\u001b[0m_known_consolidated\u001b[0m \u001b[0;34m=\u001b[0m \u001b[0;32mTrue\u001b[0m\u001b[0;34m\u001b[0m\u001b[0m\n",
      "\u001b[0;32m/home/hzn/anaconda3/lib/python3.6/site-packages/pandas/core/internals.py\u001b[0m in \u001b[0;36m_consolidate\u001b[0;34m(blocks)\u001b[0m\n\u001b[1;32m   4523\u001b[0m     \u001b[0;32mfor\u001b[0m \u001b[0;34m(\u001b[0m\u001b[0m_can_consolidate\u001b[0m\u001b[0;34m,\u001b[0m \u001b[0mdtype\u001b[0m\u001b[0;34m)\u001b[0m\u001b[0;34m,\u001b[0m \u001b[0mgroup_blocks\u001b[0m \u001b[0;32min\u001b[0m \u001b[0mgrouper\u001b[0m\u001b[0;34m:\u001b[0m\u001b[0;34m\u001b[0m\u001b[0m\n\u001b[1;32m   4524\u001b[0m         merged_blocks = _merge_blocks(list(group_blocks), dtype=dtype,\n\u001b[0;32m-> 4525\u001b[0;31m                                       _can_consolidate=_can_consolidate)\n\u001b[0m\u001b[1;32m   4526\u001b[0m         \u001b[0mnew_blocks\u001b[0m \u001b[0;34m=\u001b[0m \u001b[0m_extend_blocks\u001b[0m\u001b[0;34m(\u001b[0m\u001b[0mmerged_blocks\u001b[0m\u001b[0;34m,\u001b[0m \u001b[0mnew_blocks\u001b[0m\u001b[0;34m)\u001b[0m\u001b[0;34m\u001b[0m\u001b[0m\n\u001b[1;32m   4527\u001b[0m     \u001b[0;32mreturn\u001b[0m \u001b[0mnew_blocks\u001b[0m\u001b[0;34m\u001b[0m\u001b[0m\n",
      "\u001b[0;32m/home/hzn/anaconda3/lib/python3.6/site-packages/pandas/core/internals.py\u001b[0m in \u001b[0;36m_merge_blocks\u001b[0;34m(blocks, dtype, _can_consolidate)\u001b[0m\n\u001b[1;32m   4546\u001b[0m \u001b[0;34m\u001b[0m\u001b[0m\n\u001b[1;32m   4547\u001b[0m         \u001b[0margsort\u001b[0m \u001b[0;34m=\u001b[0m \u001b[0mnp\u001b[0m\u001b[0;34m.\u001b[0m\u001b[0margsort\u001b[0m\u001b[0;34m(\u001b[0m\u001b[0mnew_mgr_locs\u001b[0m\u001b[0;34m)\u001b[0m\u001b[0;34m\u001b[0m\u001b[0m\n\u001b[0;32m-> 4548\u001b[0;31m         \u001b[0mnew_values\u001b[0m \u001b[0;34m=\u001b[0m \u001b[0mnew_values\u001b[0m\u001b[0;34m[\u001b[0m\u001b[0margsort\u001b[0m\u001b[0;34m]\u001b[0m\u001b[0;34m\u001b[0m\u001b[0m\n\u001b[0m\u001b[1;32m   4549\u001b[0m         \u001b[0mnew_mgr_locs\u001b[0m \u001b[0;34m=\u001b[0m \u001b[0mnew_mgr_locs\u001b[0m\u001b[0;34m[\u001b[0m\u001b[0margsort\u001b[0m\u001b[0;34m]\u001b[0m\u001b[0;34m\u001b[0m\u001b[0m\n\u001b[1;32m   4550\u001b[0m \u001b[0;34m\u001b[0m\u001b[0m\n",
      "\u001b[0;31mMemoryError\u001b[0m: "
     ]
    }
   ],
   "source": [
    "df, ev = main_script.train(train, prop)"
   ]
  },
  {
   "cell_type": "code",
   "execution_count": 9,
   "metadata": {
    "collapsed": false
   },
   "outputs": [],
   "source": [
    "feature_importances = list(zip(ev.X_train.columns, ev.predictors[0]['predictor'].feature_importances_))"
   ]
  },
  {
   "cell_type": "code",
   "execution_count": 10,
   "metadata": {
    "collapsed": false
   },
   "outputs": [],
   "source": [
    "feature_importances.sort(key=lambda x: x[1], reverse=True)"
   ]
  },
  {
   "cell_type": "code",
   "execution_count": 11,
   "metadata": {
    "collapsed": false
   },
   "outputs": [
    {
     "data": {
      "text/plain": [
       "[('calculatedfinishedsquarefeet', 0.096354066989063777),\n",
       " ('structuretaxvaluedollarcnt', 0.087898522350103675),\n",
       " ('taxamount', 0.086506586217814443),\n",
       " ('lotsizesquarefeet', 0.082168880169259245),\n",
       " ('landtaxvaluedollarcnt', 0.078495200723161462),\n",
       " ('latitude', 0.071764341482732863),\n",
       " ('longitude', 0.070827328589792626),\n",
       " ('taxvaluedollarcnt', 0.070327491696203392),\n",
       " ('yearbuilt', 0.06424350282706634),\n",
       " ('regionidzip', 0.039268825634770785),\n",
       " ('regionidcity', 0.025400733618723293),\n",
       " ('regionidneighborhood', 0.02180717927228449),\n",
       " ('censustractandblock', 0.020898480078349355),\n",
       " ('rawcensustractandblock', 0.020313364912004427),\n",
       " ('missing_values', 0.018129017546855367),\n",
       " ('bedroomcnt', 0.01726183498572487),\n",
       " ('garagetotalsqft', 0.013468753890871248),\n",
       " ('bathroomcnt', 0.013209557114165774),\n",
       " ('buildingqualitytypeid', 0.006062360828591103),\n",
       " ('roomcnt', 0.0047901300314234906),\n",
       " ('propertylandusetypeid', 0.0044485630001610491),\n",
       " ('airconditioningtypeid_1.0', 0.0035141007372616246),\n",
       " ('poolcnt', 0.0032692458089315646),\n",
       " ('propertyzoningdesc_29', 0.0031321653047565582),\n",
       " ('heatingorsystemtypeid_7.0', 0.0027765590861931434),\n",
       " ('numberofstories', 0.002557605743340719),\n",
       " ('heatingorsystemtypeid_2.0', 0.0024608908381253264),\n",
       " ('fireplacecnt', 0.0024155168244575829),\n",
       " ('propertycountylandusecode_0', 0.0023037749775669013),\n",
       " ('threequarterbathnbr', 0.0021509245936951658),\n",
       " ('garagecarcnt', 0.0020982243843040006),\n",
       " ('propertycountylandusecode_11', 0.001961285988479112),\n",
       " ('lat_bin_5.0-lon_bin_6.0', 0.0019068379893868643),\n",
       " ('propertyzoningdesc_6', 0.0018949751793482725),\n",
       " ('lat_bin_4.0-lon_bin_5.0', 0.0018030920046293937),\n",
       " ('lat_bin_4.0-lon_bin_6.0', 0.0016147693363251247),\n",
       " ('lat_bin_5.0-lon_bin_7.0', 0.0015520694653737234),\n",
       " ('lat_bin_4.0-lon_bin_7.0', 0.0015519483695279816),\n",
       " ('lat_bin_5.0-lon_bin_5.0', 0.001536202804873527),\n",
       " ('propertycountylandusecode_1', 0.0015022139073064447),\n",
       " ('unitcnt', 0.0013898430375265012),\n",
       " ('lat_bin_3.0-lon_bin_7.0', 0.0013558704622799703),\n",
       " ('lat_bin_3.0-lon_bin_6.0', 0.0013291942902606177),\n",
       " ('propertycountylandusecode_2', 0.0012726246870547332),\n",
       " ('propertyzoningdesc_8', 0.0012555912009395902),\n",
       " ('propertyzoningdesc_11', 0.0012277683369218602),\n",
       " ('pooltypeid7', 0.0011881402905159408),\n",
       " ('lat_bin_4.0-lon_bin_8.0', 0.0011751591485317605),\n",
       " ('lat_bin_2.0-lon_bin_7.0', 0.0010503141053939758),\n",
       " ('propertyzoningdesc_12', 0.0010224572169821456),\n",
       " ('lat_bin_3.0-lon_bin_5.0', 0.00097749463850010498),\n",
       " ('lat_bin_2.0-lon_bin_8.0', 0.00097590649309799789),\n",
       " ('airconditioningtypeid_13.0', 0.00090305418269340004),\n",
       " ('propertyzoningdesc_7', 0.00088175215573733467),\n",
       " ('lat_bin_3.0-lon_bin_8.0', 0.00087043117288473427),\n",
       " ('lat_bin_5.0-lon_bin_4.0', 0.00082546979598229018),\n",
       " ('hashottuborspa', 0.0008200343949461593),\n",
       " ('lat_bin_5.0-lon_bin_8.0', 0.0008071886452769699),\n",
       " ('propertycountylandusecode_4', 0.00079042370143640067),\n",
       " ('lat_bin_1.0-lon_bin_8.0', 0.00075511766772943254),\n",
       " ('propertycountylandusecode_5', 0.00074868584402969663),\n",
       " ('lat_bin_1.0-lon_bin_9.0', 0.00065761408358993646),\n",
       " ('propertyzoningdesc_15', 0.00064984620058858972),\n",
       " ('propertyzoningdesc_16', 0.00064697515854158041),\n",
       " ('propertyzoningdesc_14', 0.00061166809042370129),\n",
       " ('propertyzoningdesc_21', 0.00059661613832627069),\n",
       " ('lat_bin_6.0-lon_bin_5.0', 0.00057240630354474481),\n",
       " ('propertycountylandusecode_9', 0.00056947113948027216),\n",
       " ('propertyzoningdesc_13', 0.00056273207026999602),\n",
       " ('propertyzoningdesc_17', 0.0005335442977824421),\n",
       " ('propertyzoningdesc_9', 0.00052854175920148086),\n",
       " ('propertyzoningdesc_10', 0.00050085463782227287),\n",
       " ('lat_bin_5.0-lon_bin_3.0', 0.0005001304882439946),\n",
       " ('propertycountylandusecode_8', 0.0004707303477588864),\n",
       " ('lat_bin_6.0-lon_bin_4.0', 0.00046972370953714943),\n",
       " ('propertycountylandusecode_3', 0.00046789193990062473),\n",
       " ('propertycountylandusecode_6', 0.00044915382561046225),\n",
       " ('pooltypeid10', 0.00044341605219636699),\n",
       " ('lat_bin_2.0-lon_bin_9.0', 0.00043877401482895009),\n",
       " ('propertyzoningdesc_5', 0.00043028390757226956),\n",
       " ('heatingorsystemtypeid_24.0', 0.00042998323584233871),\n",
       " ('lat_bin_2.0-lon_bin_6.0', 0.00041746293526255556),\n",
       " ('lat_bin_4.0-lon_bin_4.0', 0.00041070634596779363),\n",
       " ('lat_bin_6.0-lon_bin_1.0', 0.00040954507717903761),\n",
       " ('lat_bin_6.0-lon_bin_2.0', 0.00039805297804729347),\n",
       " ('propertyzoningdesc_24', 0.00039247187551607574),\n",
       " ('propertyzoningdesc_19', 0.00036298981321965967),\n",
       " ('propertyzoningdesc_20', 0.00034372133690822361),\n",
       " ('heatingorsystemtypeid_6.0', 0.00031661452687700839),\n",
       " ('lat_bin_9.0-lon_bin_6.0', 0.00031634182806081673),\n",
       " ('lat_bin_8.0-lon_bin_6.0', 0.00030703537344794064),\n",
       " ('pooltypeid2', 0.00030571873752082242),\n",
       " ('lat_bin_0.0-lon_bin_9.0', 0.00030534270102038807),\n",
       " ('lat_bin_6.0-lon_bin_6.0', 0.0002984904821085627),\n",
       " ('propertyzoningdesc_27', 0.0002913981694372057),\n",
       " ('lat_bin_5.0-lon_bin_2.0', 0.0002858137542733874),\n",
       " ('propertyzoningdesc_4', 0.00027407256292928428),\n",
       " ('propertycountylandusecode_7', 0.00026138687942856307),\n",
       " ('lat_bin_4.0-lon_bin_3.0', 0.0002556236332885451),\n",
       " ('lat_bin_5.0-lon_bin_9.0', 0.00025325901450748412),\n",
       " ('lat_bin_7.0-lon_bin_5.0', 0.00024425636167345539),\n",
       " ('lat_bin_8.0-lon_bin_7.0', 0.00024328697115524119),\n",
       " ('lat_bin_2.0-lon_bin_5.0', 0.00023542832432076554),\n",
       " ('propertyzoningdesc_28', 0.00023093011251101446),\n",
       " ('propertyzoningdesc_23', 0.00022760613251220178),\n",
       " ('lat_bin_6.0-lon_bin_3.0', 0.00022507392468502338),\n",
       " ('lat_bin_9.0-lon_bin_7.0', 0.00022412767454727686),\n",
       " ('lat_bin_7.0-lon_bin_4.0', 0.00021316051562855358),\n",
       " ('propertyzoningdesc_18', 0.00020802592699065633),\n",
       " ('propertyzoningdesc_2', 0.0002055215952040682),\n",
       " ('propertyzoningdesc_0', 0.00020149328695388772),\n",
       " ('fireplaceflag', 0.00019667554544656676),\n",
       " ('lat_bin_5.0-lon_bin_1.0', 0.0001966104590162856),\n",
       " ('propertyzoningdesc_22', 0.00019537106721529852),\n",
       " ('propertyzoningdesc_1', 0.00019485270614747846),\n",
       " ('regionidcounty', 0.00018382209048378441),\n",
       " ('propertyzoningdesc_25', 0.00016308397868905253),\n",
       " ('airconditioningtypeid_5.0', 0.00016031176782529657),\n",
       " ('lat_bin_4.0-lon_bin_9.0', 0.00015355977027217224),\n",
       " ('fips_6059.0', 0.00015354933210627768),\n",
       " ('county_3101.0', 0.00015283648466677687),\n",
       " ('propertyzoningdesc_26', 0.00014857049864364812),\n",
       " ('county_1286.0', 0.000129694568857623),\n",
       " ('heatingorsystemtypeid_13.0', 0.00012868667138268882),\n",
       " ('fips_6037.0', 0.00012344137782196199),\n",
       " ('county_2061.0', 0.00010312426643034195),\n",
       " ('fips_6111.0', 9.8247384116556823e-05),\n",
       " ('lat_bin_8.0-lon_bin_8.0', 9.7619355583880647e-05),\n",
       " ('airconditioningtypeid_11.0', 9.5791873594586513e-05),\n",
       " ('heatingorsystemtypeid_20.0', 9.4940123713561242e-05),\n",
       " ('lat_bin_7.0-lon_bin_1.0', 9.4021323321402352e-05),\n",
       " ('lat_bin_7.0-lon_bin_6.0', 9.3169851227641273e-05),\n",
       " ('lat_bin_7.0-lon_bin_2.0', 9.2136158218209218e-05),\n",
       " ('heatingorsystemtypeid_18.0', 8.2012090093064004e-05),\n",
       " ('lat_bin_3.0-lon_bin_9.0', 7.622976735568597e-05),\n",
       " ('propertyzoningdesc_3', 6.6187935079112633e-05),\n",
       " ('lat_bin_7.0-lon_bin_3.0', 3.4064679739699943e-05),\n",
       " ('lat_bin_7.0-lon_bin_0.0', 3.388597297731641e-05),\n",
       " ('lat_bin_6.0-lon_bin_0.0', 3.3503482451267536e-05),\n",
       " ('storytypeid', 2.7936901165713187e-05),\n",
       " ('heatingorsystemtypeid_1.0', 2.1476952143057082e-05),\n",
       " ('lat_bin_4.0-lon_bin_2.0', 1.6257008370727106e-05),\n",
       " ('lat_bin_7.0-lon_bin_8.0', 1.5965308300043732e-05),\n",
       " ('lat_bin_7.0-lon_bin_7.0', 1.3847247181937927e-05),\n",
       " ('lat_bin_7.0-lon_bin_9.0', 1.356814057497199e-05),\n",
       " ('lat_bin_9.0-lon_bin_4.0', 1.3237440916301087e-05),\n",
       " ('lat_bin_8.0-lon_bin_5.0', 1.0496628964839254e-05),\n",
       " ('lat_bin_6.0-lon_bin_9.0', 9.513480297450229e-06),\n",
       " ('lat_bin_0.0-lon_bin_5.0', 6.4125028717485407e-06),\n",
       " ('heatingorsystemtypeid_10.0', 6.004324190435824e-06),\n",
       " ('lat_bin_9.0-lon_bin_5.0', 2.4345791135514476e-06),\n",
       " ('lat_bin_0.0-lon_bin_6.0', 7.0365152694501238e-07),\n",
       " ('lat_bin_9.0-lon_bin_8.0', 5.2865038571077344e-07),\n",
       " ('lat_bin_1.0-lon_bin_7.0', 4.1804260683515101e-07),\n",
       " ('lat_bin_9.0-lon_bin_9.0', 2.2284395635369148e-07),\n",
       " ('lat_bin_9.0-lon_bin_2.0', 1.2690983295563781e-08),\n",
       " ('assessmentyear', 0.0),\n",
       " ('airconditioningtypeid_3.0', 0.0),\n",
       " ('airconditioningtypeid_9.0', 0.0),\n",
       " ('airconditioningtypeid_12.0', 0.0),\n",
       " ('heatingorsystemtypeid_11.0', 0.0),\n",
       " ('heatingorsystemtypeid_12.0', 0.0),\n",
       " ('heatingorsystemtypeid_14.0', 0.0),\n",
       " ('heatingorsystemtypeid_19.0', 0.0),\n",
       " ('heatingorsystemtypeid_21.0', 0.0),\n",
       " ('propertycountylandusecode_10', 0.0),\n",
       " ('lat_bin_0.0-lon_bin_0.0', 0.0),\n",
       " ('lat_bin_0.0-lon_bin_1.0', 0.0),\n",
       " ('lat_bin_0.0-lon_bin_2.0', 0.0),\n",
       " ('lat_bin_0.0-lon_bin_3.0', 0.0),\n",
       " ('lat_bin_0.0-lon_bin_4.0', 0.0),\n",
       " ('lat_bin_0.0-lon_bin_7.0', 0.0),\n",
       " ('lat_bin_0.0-lon_bin_8.0', 0.0),\n",
       " ('lat_bin_1.0-lon_bin_0.0', 0.0),\n",
       " ('lat_bin_1.0-lon_bin_1.0', 0.0),\n",
       " ('lat_bin_1.0-lon_bin_2.0', 0.0),\n",
       " ('lat_bin_1.0-lon_bin_3.0', 0.0),\n",
       " ('lat_bin_1.0-lon_bin_4.0', 0.0),\n",
       " ('lat_bin_1.0-lon_bin_5.0', 0.0),\n",
       " ('lat_bin_1.0-lon_bin_6.0', 0.0),\n",
       " ('lat_bin_2.0-lon_bin_0.0', 0.0),\n",
       " ('lat_bin_2.0-lon_bin_1.0', 0.0),\n",
       " ('lat_bin_2.0-lon_bin_2.0', 0.0),\n",
       " ('lat_bin_2.0-lon_bin_3.0', 0.0),\n",
       " ('lat_bin_2.0-lon_bin_4.0', 0.0),\n",
       " ('lat_bin_3.0-lon_bin_0.0', 0.0),\n",
       " ('lat_bin_3.0-lon_bin_1.0', 0.0),\n",
       " ('lat_bin_3.0-lon_bin_2.0', 0.0),\n",
       " ('lat_bin_3.0-lon_bin_3.0', 0.0),\n",
       " ('lat_bin_3.0-lon_bin_4.0', 0.0),\n",
       " ('lat_bin_4.0-lon_bin_0.0', 0.0),\n",
       " ('lat_bin_4.0-lon_bin_1.0', 0.0),\n",
       " ('lat_bin_5.0-lon_bin_0.0', 0.0),\n",
       " ('lat_bin_6.0-lon_bin_7.0', 0.0),\n",
       " ('lat_bin_6.0-lon_bin_8.0', 0.0),\n",
       " ('lat_bin_8.0-lon_bin_0.0', 0.0),\n",
       " ('lat_bin_8.0-lon_bin_1.0', 0.0),\n",
       " ('lat_bin_8.0-lon_bin_2.0', 0.0),\n",
       " ('lat_bin_8.0-lon_bin_3.0', 0.0),\n",
       " ('lat_bin_8.0-lon_bin_4.0', 0.0),\n",
       " ('lat_bin_8.0-lon_bin_9.0', 0.0),\n",
       " ('lat_bin_9.0-lon_bin_0.0', 0.0),\n",
       " ('lat_bin_9.0-lon_bin_1.0', 0.0),\n",
       " ('lat_bin_9.0-lon_bin_3.0', 0.0)]"
      ]
     },
     "execution_count": 11,
     "metadata": {},
     "output_type": "execute_result"
    }
   ],
   "source": [
    "feature_importances"
   ]
  },
  {
   "cell_type": "code",
   "execution_count": 23,
   "metadata": {
    "collapsed": false
   },
   "outputs": [
    {
     "data": {
      "text/plain": [
       "261.0    60637\n",
       "266.0    22815\n",
       "246.0     2376\n",
       "269.0     2334\n",
       "248.0      879\n",
       "247.0      629\n",
       "265.0      356\n",
       "263.0       84\n",
       "260.0       62\n",
       "275.0       46\n",
       "267.0       28\n",
       "31.0        17\n",
       "264.0       11\n",
       "47.0         1\n",
       "Name: propertylandusetypeid, dtype: int64"
      ]
     },
     "execution_count": 23,
     "metadata": {},
     "output_type": "execute_result"
    }
   ],
   "source": [
    "df['propertylandusetypeid'].value_counts()"
   ]
  }
 ],
 "metadata": {
  "kernelspec": {
   "display_name": "Python 3",
   "language": "python",
   "name": "python3"
  }
 },
 "nbformat": 4,
 "nbformat_minor": 2
}
