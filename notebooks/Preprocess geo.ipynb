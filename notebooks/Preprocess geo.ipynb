{
 "cells": [
  {
   "cell_type": "code",
   "execution_count": 1,
   "metadata": {
    "collapsed": true
   },
   "outputs": [],
   "source": [
    "# Add the path to import module\n",
    "import os\n",
    "import sys\n",
    "module_path = os.path.abspath(os.path.join('..'))\n",
    "if module_path not in sys.path:\n",
    "    sys.path.append(module_path)\n",
    "\n",
    "from features import utils\n",
    "\n",
    "import numpy as np\n",
    "import pandas as pd\n",
    "import matplotlib.pyplot as plt\n",
    "\n",
    "%matplotlib inline"
   ]
  },
  {
   "cell_type": "code",
   "execution_count": 2,
   "metadata": {
    "collapsed": false
   },
   "outputs": [
    {
     "name": "stderr",
     "output_type": "stream",
     "text": [
      "/home/hzn/anaconda3/lib/python3.6/site-packages/IPython/core/interactiveshell.py:2821: DtypeWarning: Columns (22,32,34,49,55) have mixed types. Specify dtype option on import or set low_memory=False.\n",
      "  if self.run_code(code, result):\n"
     ]
    }
   ],
   "source": [
    "# Geo preprocessing is already added to the loading process in util, remove it from the loading process first before\n",
    "# using this notebook.\n",
    "prop = utils.load_properties_data('../data/', True)"
   ]
  },
  {
   "cell_type": "code",
   "execution_count": 3,
   "metadata": {
    "collapsed": true
   },
   "outputs": [],
   "source": [
    "geo = prop[[\"latitude\", \"longitude\", \"fips\",\n",
    "            \"regionidcounty\", \"regionidcity\", \"regionidzip\", \"regionidneighborhood\"]].copy()"
   ]
  },
  {
   "cell_type": "code",
   "execution_count": 4,
   "metadata": {
    "collapsed": false
   },
   "outputs": [],
   "source": [
    "geo['missing'] = geo.isnull().sum(axis=1)"
   ]
  },
  {
   "cell_type": "code",
   "execution_count": 6,
   "metadata": {
    "collapsed": false
   },
   "outputs": [
    {
     "data": {
      "text/html": [
       "<div>\n",
       "<style>\n",
       "    .dataframe thead tr:only-child th {\n",
       "        text-align: right;\n",
       "    }\n",
       "\n",
       "    .dataframe thead th {\n",
       "        text-align: left;\n",
       "    }\n",
       "\n",
       "    .dataframe tbody tr th {\n",
       "        vertical-align: top;\n",
       "    }\n",
       "</style>\n",
       "<table border=\"1\" class=\"dataframe\">\n",
       "  <thead>\n",
       "    <tr style=\"text-align: right;\">\n",
       "      <th></th>\n",
       "      <th>latitude</th>\n",
       "      <th>longitude</th>\n",
       "      <th>fips</th>\n",
       "      <th>regionidcounty</th>\n",
       "      <th>regionidcity</th>\n",
       "      <th>regionidzip</th>\n",
       "      <th>regionidneighborhood</th>\n",
       "      <th>missing</th>\n",
       "    </tr>\n",
       "  </thead>\n",
       "  <tbody>\n",
       "    <tr>\n",
       "      <th>count</th>\n",
       "      <td>2.973780e+06</td>\n",
       "      <td>2.973780e+06</td>\n",
       "      <td>2.973780e+06</td>\n",
       "      <td>2.973780e+06</td>\n",
       "      <td>2.922372e+06</td>\n",
       "      <td>2.971237e+06</td>\n",
       "      <td>1.156402e+06</td>\n",
       "      <td>2.985217e+06</td>\n",
       "    </tr>\n",
       "    <tr>\n",
       "      <th>mean</th>\n",
       "      <td>3.363516e+07</td>\n",
       "      <td>-1.207603e+08</td>\n",
       "      <td>6.130900e+03</td>\n",
       "      <td>2.577725e+03</td>\n",
       "      <td>3.531529e+04</td>\n",
       "      <td>9.794424e+04</td>\n",
       "      <td>1.936920e+05</td>\n",
       "      <td>6.536838e-01</td>\n",
       "    </tr>\n",
       "    <tr>\n",
       "      <th>std</th>\n",
       "      <td>4.396144e+05</td>\n",
       "      <td>2.579615e+06</td>\n",
       "      <td>8.541431e+01</td>\n",
       "      <td>7.846016e+02</td>\n",
       "      <td>5.067888e+04</td>\n",
       "      <td>3.925792e+03</td>\n",
       "      <td>1.657709e+05</td>\n",
       "      <td>6.516906e-01</td>\n",
       "    </tr>\n",
       "    <tr>\n",
       "      <th>min</th>\n",
       "      <td>3.332439e+07</td>\n",
       "      <td>-1.194758e+08</td>\n",
       "      <td>6.037000e+03</td>\n",
       "      <td>1.286000e+03</td>\n",
       "      <td>3.491000e+03</td>\n",
       "      <td>9.598200e+04</td>\n",
       "      <td>6.952000e+03</td>\n",
       "      <td>0.000000e+00</td>\n",
       "    </tr>\n",
       "    <tr>\n",
       "      <th>25%</th>\n",
       "      <td>3.382768e+07</td>\n",
       "      <td>-1.183930e+08</td>\n",
       "      <td>6.037000e+03</td>\n",
       "      <td>2.061000e+03</td>\n",
       "      <td>1.244700e+04</td>\n",
       "      <td>9.618000e+04</td>\n",
       "      <td>4.673600e+04</td>\n",
       "      <td>0.000000e+00</td>\n",
       "    </tr>\n",
       "    <tr>\n",
       "      <th>50%</th>\n",
       "      <td>3.400825e+07</td>\n",
       "      <td>-1.181725e+08</td>\n",
       "      <td>6.037000e+03</td>\n",
       "      <td>3.101000e+03</td>\n",
       "      <td>2.521800e+04</td>\n",
       "      <td>9.637700e+04</td>\n",
       "      <td>1.189200e+05</td>\n",
       "      <td>1.000000e+00</td>\n",
       "    </tr>\n",
       "    <tr>\n",
       "      <th>75%</th>\n",
       "      <td>3.416186e+07</td>\n",
       "      <td>-1.179495e+08</td>\n",
       "      <td>6.059000e+03</td>\n",
       "      <td>3.101000e+03</td>\n",
       "      <td>4.545700e+04</td>\n",
       "      <td>9.697400e+04</td>\n",
       "      <td>2.748000e+05</td>\n",
       "      <td>1.000000e+00</td>\n",
       "    </tr>\n",
       "    <tr>\n",
       "      <th>max</th>\n",
       "      <td>3.481965e+07</td>\n",
       "      <td>-1.175543e+08</td>\n",
       "      <td>6.111000e+03</td>\n",
       "      <td>3.101000e+03</td>\n",
       "      <td>3.965560e+05</td>\n",
       "      <td>3.996750e+05</td>\n",
       "      <td>7.641670e+05</td>\n",
       "      <td>7.000000e+00</td>\n",
       "    </tr>\n",
       "  </tbody>\n",
       "</table>\n",
       "</div>"
      ],
      "text/plain": [
       "           latitude     longitude          fips  regionidcounty  regionidcity  \\\n",
       "count  2.973780e+06  2.973780e+06  2.973780e+06    2.973780e+06  2.922372e+06   \n",
       "mean   3.363516e+07 -1.207603e+08  6.130900e+03    2.577725e+03  3.531529e+04   \n",
       "std    4.396144e+05  2.579615e+06  8.541431e+01    7.846016e+02  5.067888e+04   \n",
       "min    3.332439e+07 -1.194758e+08  6.037000e+03    1.286000e+03  3.491000e+03   \n",
       "25%    3.382768e+07 -1.183930e+08  6.037000e+03    2.061000e+03  1.244700e+04   \n",
       "50%    3.400825e+07 -1.181725e+08  6.037000e+03    3.101000e+03  2.521800e+04   \n",
       "75%    3.416186e+07 -1.179495e+08  6.059000e+03    3.101000e+03  4.545700e+04   \n",
       "max    3.481965e+07 -1.175543e+08  6.111000e+03    3.101000e+03  3.965560e+05   \n",
       "\n",
       "        regionidzip  regionidneighborhood       missing  \n",
       "count  2.971237e+06          1.156402e+06  2.985217e+06  \n",
       "mean   9.794424e+04          1.936920e+05  6.536838e-01  \n",
       "std    3.925792e+03          1.657709e+05  6.516906e-01  \n",
       "min    9.598200e+04          6.952000e+03  0.000000e+00  \n",
       "25%    9.618000e+04          4.673600e+04  0.000000e+00  \n",
       "50%    9.637700e+04          1.189200e+05  1.000000e+00  \n",
       "75%    9.697400e+04          2.748000e+05  1.000000e+00  \n",
       "max    3.996750e+05          7.641670e+05  7.000000e+00  "
      ]
     },
     "execution_count": 6,
     "metadata": {},
     "output_type": "execute_result"
    }
   ],
   "source": [
    "geo.describe()"
   ]
  },
  {
   "cell_type": "code",
   "execution_count": 11,
   "metadata": {
    "collapsed": true
   },
   "outputs": [],
   "source": [
    "geo_complete = geo[geo['missing'] == 0].copy()"
   ]
  },
  {
   "cell_type": "code",
   "execution_count": 8,
   "metadata": {
    "collapsed": false
   },
   "outputs": [
    {
     "data": {
      "text/plain": [
       "(1156321, 8)"
      ]
     },
     "execution_count": 8,
     "metadata": {},
     "output_type": "execute_result"
    }
   ],
   "source": [
    "geo_complete.shape"
   ]
  },
  {
   "cell_type": "code",
   "execution_count": 5,
   "metadata": {
    "collapsed": false
   },
   "outputs": [],
   "source": [
    "geo['join_key'] = geo['latitude'].astype(str) + geo['longitude'].astype(str)"
   ]
  },
  {
   "cell_type": "code",
   "execution_count": 6,
   "metadata": {
    "collapsed": false
   },
   "outputs": [
    {
     "data": {
      "text/plain": [
       "0    34144442.0-118654084.0\n",
       "1    34140430.0-118625364.0\n",
       "2    33989359.0-118394633.0\n",
       "3    34148863.0-118437206.0\n",
       "4    34194168.0-118385816.0\n",
       "Name: join_key, dtype: object"
      ]
     },
     "execution_count": 6,
     "metadata": {},
     "output_type": "execute_result"
    }
   ],
   "source": [
    "geo['join_key'].head()"
   ]
  },
  {
   "cell_type": "code",
   "execution_count": 27,
   "metadata": {
    "collapsed": false
   },
   "outputs": [],
   "source": [
    "geo_complete['join_key'] = geo_complete['latitude'].astype(str) + geo_complete['longitude'].astype(str)"
   ]
  },
  {
   "cell_type": "code",
   "execution_count": 29,
   "metadata": {
    "collapsed": false
   },
   "outputs": [
    {
     "data": {
      "text/plain": [
       "3     3.41489e+07-1.18437e+08\n",
       "4     3.41942e+07-1.18386e+08\n",
       "5     3.41719e+07-1.18381e+08\n",
       "6     3.41319e+07-1.18351e+08\n",
       "10     3.42652e+07-1.1852e+08\n",
       "Name: join_key, dtype: object"
      ]
     },
     "execution_count": 29,
     "metadata": {},
     "output_type": "execute_result"
    }
   ],
   "source": [
    "geo_complete['join_key'].head()"
   ]
  },
  {
   "cell_type": "code",
   "execution_count": 49,
   "metadata": {
    "collapsed": false
   },
   "outputs": [],
   "source": [
    "geo_complete_unique = geo_complete.drop_duplicates('join_key')\n",
    "geo_complete_unique.shape"
   ]
  },
  {
   "cell_type": "code",
   "execution_count": 74,
   "metadata": {
    "collapsed": true
   },
   "outputs": [],
   "source": [
    "geo_join = geo.join(geo_complete_unique.set_index('join_key'), 'join_key', 'left', rsuffix = '_r')"
   ]
  },
  {
   "cell_type": "code",
   "execution_count": 75,
   "metadata": {
    "collapsed": false
   },
   "outputs": [
    {
     "data": {
      "text/plain": [
       "Index(['latitude', 'longitude', 'fips', 'regionidcounty', 'regionidcity',\n",
       "       'regionidzip', 'regionidneighborhood', 'join_key', 'latitude_r',\n",
       "       'longitude_r', 'fips_r', 'regionidcounty_r', 'regionidcity_r',\n",
       "       'regionidzip_r', 'regionidneighborhood_r', 'missing'],\n",
       "      dtype='object')"
      ]
     },
     "execution_count": 75,
     "metadata": {},
     "output_type": "execute_result"
    }
   ],
   "source": [
    "geo_join.columns"
   ]
  },
  {
   "cell_type": "code",
   "execution_count": 76,
   "metadata": {
    "collapsed": false
   },
   "outputs": [
    {
     "data": {
      "text/html": [
       "<div>\n",
       "<style>\n",
       "    .dataframe thead tr:only-child th {\n",
       "        text-align: right;\n",
       "    }\n",
       "\n",
       "    .dataframe thead th {\n",
       "        text-align: left;\n",
       "    }\n",
       "\n",
       "    .dataframe tbody tr th {\n",
       "        vertical-align: top;\n",
       "    }\n",
       "</style>\n",
       "<table border=\"1\" class=\"dataframe\">\n",
       "  <thead>\n",
       "    <tr style=\"text-align: right;\">\n",
       "      <th></th>\n",
       "      <th>latitude</th>\n",
       "      <th>longitude</th>\n",
       "      <th>fips</th>\n",
       "      <th>regionidcounty</th>\n",
       "      <th>regionidcity</th>\n",
       "      <th>regionidzip</th>\n",
       "      <th>regionidneighborhood</th>\n",
       "      <th>latitude_r</th>\n",
       "      <th>longitude_r</th>\n",
       "      <th>fips_r</th>\n",
       "      <th>regionidcounty_r</th>\n",
       "      <th>regionidcity_r</th>\n",
       "      <th>regionidzip_r</th>\n",
       "      <th>regionidneighborhood_r</th>\n",
       "      <th>missing</th>\n",
       "    </tr>\n",
       "  </thead>\n",
       "  <tbody>\n",
       "    <tr>\n",
       "      <th>count</th>\n",
       "      <td>2.973780e+06</td>\n",
       "      <td>2.973780e+06</td>\n",
       "      <td>2.973780e+06</td>\n",
       "      <td>2.973780e+06</td>\n",
       "      <td>2.922372e+06</td>\n",
       "      <td>2.971237e+06</td>\n",
       "      <td>1.156402e+06</td>\n",
       "      <td>1.203533e+06</td>\n",
       "      <td>1.203533e+06</td>\n",
       "      <td>1.203533e+06</td>\n",
       "      <td>1.203533e+06</td>\n",
       "      <td>1.203533e+06</td>\n",
       "      <td>1.203533e+06</td>\n",
       "      <td>1.203533e+06</td>\n",
       "      <td>1203533.0</td>\n",
       "    </tr>\n",
       "    <tr>\n",
       "      <th>mean</th>\n",
       "      <td>3.363516e+07</td>\n",
       "      <td>-1.207603e+08</td>\n",
       "      <td>6.130900e+03</td>\n",
       "      <td>2.577725e+03</td>\n",
       "      <td>3.531529e+04</td>\n",
       "      <td>9.794424e+04</td>\n",
       "      <td>1.936920e+05</td>\n",
       "      <td>3.376622e+07</td>\n",
       "      <td>-1.176051e+08</td>\n",
       "      <td>6.109773e+03</td>\n",
       "      <td>2.793427e+03</td>\n",
       "      <td>2.651592e+04</td>\n",
       "      <td>9.717560e+04</td>\n",
       "      <td>2.080727e+05</td>\n",
       "      <td>0.0</td>\n",
       "    </tr>\n",
       "    <tr>\n",
       "      <th>std</th>\n",
       "      <td>4.396144e+05</td>\n",
       "      <td>2.579615e+06</td>\n",
       "      <td>8.541431e+01</td>\n",
       "      <td>7.846016e+02</td>\n",
       "      <td>5.067888e+04</td>\n",
       "      <td>3.925792e+03</td>\n",
       "      <td>1.657709e+05</td>\n",
       "      <td>3.390838e+05</td>\n",
       "      <td>7.560166e+05</td>\n",
       "      <td>6.870573e+01</td>\n",
       "      <td>6.428180e+02</td>\n",
       "      <td>2.511909e+04</td>\n",
       "      <td>8.870911e+02</td>\n",
       "      <td>1.858282e+05</td>\n",
       "      <td>0.0</td>\n",
       "    </tr>\n",
       "    <tr>\n",
       "      <th>min</th>\n",
       "      <td>3.332439e+07</td>\n",
       "      <td>-1.194758e+08</td>\n",
       "      <td>6.037000e+03</td>\n",
       "      <td>1.286000e+03</td>\n",
       "      <td>3.491000e+03</td>\n",
       "      <td>9.598200e+04</td>\n",
       "      <td>6.952000e+03</td>\n",
       "      <td>3.346448e+07</td>\n",
       "      <td>-1.193618e+08</td>\n",
       "      <td>6.037000e+03</td>\n",
       "      <td>1.286000e+03</td>\n",
       "      <td>9.840000e+03</td>\n",
       "      <td>9.598200e+04</td>\n",
       "      <td>6.952000e+03</td>\n",
       "      <td>0.0</td>\n",
       "    </tr>\n",
       "    <tr>\n",
       "      <th>25%</th>\n",
       "      <td>3.382768e+07</td>\n",
       "      <td>-1.183930e+08</td>\n",
       "      <td>6.037000e+03</td>\n",
       "      <td>2.061000e+03</td>\n",
       "      <td>1.244700e+04</td>\n",
       "      <td>9.618000e+04</td>\n",
       "      <td>4.673600e+04</td>\n",
       "      <td>3.385978e+07</td>\n",
       "      <td>-1.184608e+08</td>\n",
       "      <td>6.037000e+03</td>\n",
       "      <td>3.101000e+03</td>\n",
       "      <td>1.244700e+04</td>\n",
       "      <td>9.605800e+04</td>\n",
       "      <td>4.679500e+04</td>\n",
       "      <td>0.0</td>\n",
       "    </tr>\n",
       "    <tr>\n",
       "      <th>50%</th>\n",
       "      <td>3.400825e+07</td>\n",
       "      <td>-1.181725e+08</td>\n",
       "      <td>6.037000e+03</td>\n",
       "      <td>3.101000e+03</td>\n",
       "      <td>2.521800e+04</td>\n",
       "      <td>9.637700e+04</td>\n",
       "      <td>1.189200e+05</td>\n",
       "      <td>3.407266e+07</td>\n",
       "      <td>-1.183323e+08</td>\n",
       "      <td>6.037000e+03</td>\n",
       "      <td>3.101000e+03</td>\n",
       "      <td>1.244700e+04</td>\n",
       "      <td>9.632400e+04</td>\n",
       "      <td>2.658890e+05</td>\n",
       "      <td>0.0</td>\n",
       "    </tr>\n",
       "    <tr>\n",
       "      <th>75%</th>\n",
       "      <td>3.416186e+07</td>\n",
       "      <td>-1.179495e+08</td>\n",
       "      <td>6.059000e+03</td>\n",
       "      <td>3.101000e+03</td>\n",
       "      <td>4.545700e+04</td>\n",
       "      <td>9.697400e+04</td>\n",
       "      <td>2.748000e+05</td>\n",
       "      <td>3.418314e+07</td>\n",
       "      <td>-1.181824e+08</td>\n",
       "      <td>6.037000e+03</td>\n",
       "      <td>3.101000e+03</td>\n",
       "      <td>4.629800e+04</td>\n",
       "      <td>9.641100e+04</td>\n",
       "      <td>2.750670e+05</td>\n",
       "      <td>0.0</td>\n",
       "    </tr>\n",
       "    <tr>\n",
       "      <th>max</th>\n",
       "      <td>3.481965e+07</td>\n",
       "      <td>-1.175543e+08</td>\n",
       "      <td>6.111000e+03</td>\n",
       "      <td>3.101000e+03</td>\n",
       "      <td>3.965560e+05</td>\n",
       "      <td>3.996750e+05</td>\n",
       "      <td>7.641670e+05</td>\n",
       "      <td>3.447719e+07</td>\n",
       "      <td>-1.175872e+08</td>\n",
       "      <td>6.111000e+03</td>\n",
       "      <td>3.101000e+03</td>\n",
       "      <td>3.960540e+05</td>\n",
       "      <td>9.729800e+04</td>\n",
       "      <td>7.641670e+05</td>\n",
       "      <td>0.0</td>\n",
       "    </tr>\n",
       "  </tbody>\n",
       "</table>\n",
       "</div>"
      ],
      "text/plain": [
       "           latitude     longitude          fips  regionidcounty  regionidcity  \\\n",
       "count  2.973780e+06  2.973780e+06  2.973780e+06    2.973780e+06  2.922372e+06   \n",
       "mean   3.363516e+07 -1.207603e+08  6.130900e+03    2.577725e+03  3.531529e+04   \n",
       "std    4.396144e+05  2.579615e+06  8.541431e+01    7.846016e+02  5.067888e+04   \n",
       "min    3.332439e+07 -1.194758e+08  6.037000e+03    1.286000e+03  3.491000e+03   \n",
       "25%    3.382768e+07 -1.183930e+08  6.037000e+03    2.061000e+03  1.244700e+04   \n",
       "50%    3.400825e+07 -1.181725e+08  6.037000e+03    3.101000e+03  2.521800e+04   \n",
       "75%    3.416186e+07 -1.179495e+08  6.059000e+03    3.101000e+03  4.545700e+04   \n",
       "max    3.481965e+07 -1.175543e+08  6.111000e+03    3.101000e+03  3.965560e+05   \n",
       "\n",
       "        regionidzip  regionidneighborhood    latitude_r   longitude_r  \\\n",
       "count  2.971237e+06          1.156402e+06  1.203533e+06  1.203533e+06   \n",
       "mean   9.794424e+04          1.936920e+05  3.376622e+07 -1.176051e+08   \n",
       "std    3.925792e+03          1.657709e+05  3.390838e+05  7.560166e+05   \n",
       "min    9.598200e+04          6.952000e+03  3.346448e+07 -1.193618e+08   \n",
       "25%    9.618000e+04          4.673600e+04  3.385978e+07 -1.184608e+08   \n",
       "50%    9.637700e+04          1.189200e+05  3.407266e+07 -1.183323e+08   \n",
       "75%    9.697400e+04          2.748000e+05  3.418314e+07 -1.181824e+08   \n",
       "max    3.996750e+05          7.641670e+05  3.447719e+07 -1.175872e+08   \n",
       "\n",
       "             fips_r  regionidcounty_r  regionidcity_r  regionidzip_r  \\\n",
       "count  1.203533e+06      1.203533e+06    1.203533e+06   1.203533e+06   \n",
       "mean   6.109773e+03      2.793427e+03    2.651592e+04   9.717560e+04   \n",
       "std    6.870573e+01      6.428180e+02    2.511909e+04   8.870911e+02   \n",
       "min    6.037000e+03      1.286000e+03    9.840000e+03   9.598200e+04   \n",
       "25%    6.037000e+03      3.101000e+03    1.244700e+04   9.605800e+04   \n",
       "50%    6.037000e+03      3.101000e+03    1.244700e+04   9.632400e+04   \n",
       "75%    6.037000e+03      3.101000e+03    4.629800e+04   9.641100e+04   \n",
       "max    6.111000e+03      3.101000e+03    3.960540e+05   9.729800e+04   \n",
       "\n",
       "       regionidneighborhood_r    missing  \n",
       "count            1.203533e+06  1203533.0  \n",
       "mean             2.080727e+05        0.0  \n",
       "std              1.858282e+05        0.0  \n",
       "min              6.952000e+03        0.0  \n",
       "25%              4.679500e+04        0.0  \n",
       "50%              2.658890e+05        0.0  \n",
       "75%              2.750670e+05        0.0  \n",
       "max              7.641670e+05        0.0  "
      ]
     },
     "execution_count": 76,
     "metadata": {},
     "output_type": "execute_result"
    }
   ],
   "source": [
    "geo_join.describe()"
   ]
  },
  {
   "cell_type": "code",
   "execution_count": 77,
   "metadata": {
    "collapsed": true
   },
   "outputs": [],
   "source": [
    "cols = [\"regionidcity\", \"regionidzip\", \"regionidneighborhood\"]\n",
    "for col in cols:\n",
    "    geo_join[col+'_combine'] = geo_join[col].where(geo_join[col].notnull(), geo_join[col+'_r'])"
   ]
  },
  {
   "cell_type": "code",
   "execution_count": 78,
   "metadata": {
    "collapsed": false
   },
   "outputs": [
    {
     "data": {
      "text/html": [
       "<div>\n",
       "<style>\n",
       "    .dataframe thead tr:only-child th {\n",
       "        text-align: right;\n",
       "    }\n",
       "\n",
       "    .dataframe thead th {\n",
       "        text-align: left;\n",
       "    }\n",
       "\n",
       "    .dataframe tbody tr th {\n",
       "        vertical-align: top;\n",
       "    }\n",
       "</style>\n",
       "<table border=\"1\" class=\"dataframe\">\n",
       "  <thead>\n",
       "    <tr style=\"text-align: right;\">\n",
       "      <th></th>\n",
       "      <th>regionidneighborhood</th>\n",
       "      <th>regionidneighborhood_r</th>\n",
       "      <th>regionidneighborhood_combine</th>\n",
       "    </tr>\n",
       "  </thead>\n",
       "  <tbody>\n",
       "    <tr>\n",
       "      <th>count</th>\n",
       "      <td>1.156402e+06</td>\n",
       "      <td>1.203533e+06</td>\n",
       "      <td>1.203570e+06</td>\n",
       "    </tr>\n",
       "    <tr>\n",
       "      <th>mean</th>\n",
       "      <td>1.936920e+05</td>\n",
       "      <td>2.080727e+05</td>\n",
       "      <td>2.080828e+05</td>\n",
       "    </tr>\n",
       "    <tr>\n",
       "      <th>std</th>\n",
       "      <td>1.657709e+05</td>\n",
       "      <td>1.858282e+05</td>\n",
       "      <td>1.858469e+05</td>\n",
       "    </tr>\n",
       "    <tr>\n",
       "      <th>min</th>\n",
       "      <td>6.952000e+03</td>\n",
       "      <td>6.952000e+03</td>\n",
       "      <td>6.952000e+03</td>\n",
       "    </tr>\n",
       "    <tr>\n",
       "      <th>25%</th>\n",
       "      <td>4.673600e+04</td>\n",
       "      <td>4.679500e+04</td>\n",
       "      <td>4.679500e+04</td>\n",
       "    </tr>\n",
       "    <tr>\n",
       "      <th>50%</th>\n",
       "      <td>1.189200e+05</td>\n",
       "      <td>2.658890e+05</td>\n",
       "      <td>2.658890e+05</td>\n",
       "    </tr>\n",
       "    <tr>\n",
       "      <th>75%</th>\n",
       "      <td>2.748000e+05</td>\n",
       "      <td>2.750670e+05</td>\n",
       "      <td>2.750670e+05</td>\n",
       "    </tr>\n",
       "    <tr>\n",
       "      <th>max</th>\n",
       "      <td>7.641670e+05</td>\n",
       "      <td>7.641670e+05</td>\n",
       "      <td>7.641670e+05</td>\n",
       "    </tr>\n",
       "  </tbody>\n",
       "</table>\n",
       "</div>"
      ],
      "text/plain": [
       "       regionidneighborhood  regionidneighborhood_r  \\\n",
       "count          1.156402e+06            1.203533e+06   \n",
       "mean           1.936920e+05            2.080727e+05   \n",
       "std            1.657709e+05            1.858282e+05   \n",
       "min            6.952000e+03            6.952000e+03   \n",
       "25%            4.673600e+04            4.679500e+04   \n",
       "50%            1.189200e+05            2.658890e+05   \n",
       "75%            2.748000e+05            2.750670e+05   \n",
       "max            7.641670e+05            7.641670e+05   \n",
       "\n",
       "       regionidneighborhood_combine  \n",
       "count                  1.203570e+06  \n",
       "mean                   2.080828e+05  \n",
       "std                    1.858469e+05  \n",
       "min                    6.952000e+03  \n",
       "25%                    4.679500e+04  \n",
       "50%                    2.658890e+05  \n",
       "75%                    2.750670e+05  \n",
       "max                    7.641670e+05  "
      ]
     },
     "execution_count": 78,
     "metadata": {},
     "output_type": "execute_result"
    }
   ],
   "source": [
    "col = \"regionidneighborhood\"\n",
    "geo_join[[col, col+'_r', col+'_combine']].describe()"
   ]
  },
  {
   "cell_type": "code",
   "execution_count": 2,
   "metadata": {
    "collapsed": false
   },
   "outputs": [
    {
     "name": "stderr",
     "output_type": "stream",
     "text": [
      "/home/hzn/anaconda3/lib/python3.6/site-packages/IPython/core/interactiveshell.py:2821: DtypeWarning: Columns (22,32,34,49,55) have mixed types. Specify dtype option on import or set low_memory=False.\n",
      "  if self.run_code(code, result):\n"
     ]
    },
    {
     "data": {
      "text/html": [
       "<div>\n",
       "<style>\n",
       "    .dataframe thead tr:only-child th {\n",
       "        text-align: right;\n",
       "    }\n",
       "\n",
       "    .dataframe thead th {\n",
       "        text-align: left;\n",
       "    }\n",
       "\n",
       "    .dataframe tbody tr th {\n",
       "        vertical-align: top;\n",
       "    }\n",
       "</style>\n",
       "<table border=\"1\" class=\"dataframe\">\n",
       "  <thead>\n",
       "    <tr style=\"text-align: right;\">\n",
       "      <th></th>\n",
       "      <th>regionidcity</th>\n",
       "      <th>regionidzip</th>\n",
       "      <th>regionidneighborhood</th>\n",
       "    </tr>\n",
       "  </thead>\n",
       "  <tbody>\n",
       "    <tr>\n",
       "      <th>count</th>\n",
       "      <td>2.923880e+06</td>\n",
       "      <td>2.971843e+06</td>\n",
       "      <td>1.203570e+06</td>\n",
       "    </tr>\n",
       "    <tr>\n",
       "      <th>mean</th>\n",
       "      <td>3.531221e+04</td>\n",
       "      <td>9.794425e+04</td>\n",
       "      <td>2.080828e+05</td>\n",
       "    </tr>\n",
       "    <tr>\n",
       "      <th>std</th>\n",
       "      <td>5.066802e+04</td>\n",
       "      <td>3.925450e+03</td>\n",
       "      <td>1.858469e+05</td>\n",
       "    </tr>\n",
       "    <tr>\n",
       "      <th>min</th>\n",
       "      <td>3.491000e+03</td>\n",
       "      <td>9.598200e+04</td>\n",
       "      <td>6.952000e+03</td>\n",
       "    </tr>\n",
       "    <tr>\n",
       "      <th>25%</th>\n",
       "      <td>1.244700e+04</td>\n",
       "      <td>9.618000e+04</td>\n",
       "      <td>4.679500e+04</td>\n",
       "    </tr>\n",
       "    <tr>\n",
       "      <th>50%</th>\n",
       "      <td>2.521800e+04</td>\n",
       "      <td>9.637700e+04</td>\n",
       "      <td>2.658890e+05</td>\n",
       "    </tr>\n",
       "    <tr>\n",
       "      <th>75%</th>\n",
       "      <td>4.545700e+04</td>\n",
       "      <td>9.697400e+04</td>\n",
       "      <td>2.750670e+05</td>\n",
       "    </tr>\n",
       "    <tr>\n",
       "      <th>max</th>\n",
       "      <td>3.965560e+05</td>\n",
       "      <td>3.996750e+05</td>\n",
       "      <td>7.641670e+05</td>\n",
       "    </tr>\n",
       "  </tbody>\n",
       "</table>\n",
       "</div>"
      ],
      "text/plain": [
       "       regionidcity   regionidzip  regionidneighborhood\n",
       "count  2.923880e+06  2.971843e+06          1.203570e+06\n",
       "mean   3.531221e+04  9.794425e+04          2.080828e+05\n",
       "std    5.066802e+04  3.925450e+03          1.858469e+05\n",
       "min    3.491000e+03  9.598200e+04          6.952000e+03\n",
       "25%    1.244700e+04  9.618000e+04          4.679500e+04\n",
       "50%    2.521800e+04  9.637700e+04          2.658890e+05\n",
       "75%    4.545700e+04  9.697400e+04          2.750670e+05\n",
       "max    3.965560e+05  3.996750e+05          7.641670e+05"
      ]
     },
     "execution_count": 2,
     "metadata": {},
     "output_type": "execute_result"
    }
   ],
   "source": [
    "prop = utils.load_properties_data('../data/', True)\n",
    "prop[[\"regionidcity\", \"regionidzip\", \"regionidneighborhood\"]].describe()"
   ]
  }
 ],
 "metadata": {
  "kernelspec": {
   "display_name": "Python 3",
   "language": "python",
   "name": "python3"
  },
  "language_info": {
   "codemirror_mode": {
    "name": "ipython",
    "version": 3
   },
   "file_extension": ".py",
   "mimetype": "text/x-python",
   "name": "python",
   "nbconvert_exporter": "python",
   "pygments_lexer": "ipython3",
   "version": "3.6.0"
  }
 },
 "nbformat": 4,
 "nbformat_minor": 2
}
