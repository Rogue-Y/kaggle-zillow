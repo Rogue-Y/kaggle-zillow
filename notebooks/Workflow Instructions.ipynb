{
 "cells": [
  {
   "cell_type": "markdown",
   "metadata": {},
   "source": [
    "# Workflow instructions\n",
    "As 2017/9/30"
   ]
  },
  {
   "cell_type": "code",
   "execution_count": 2,
   "metadata": {
    "collapsed": true
   },
   "outputs": [],
   "source": [
    "import os\n",
    "import sys\n",
    "module_path = os.path.abspath(os.path.join('..'))\n",
    "os.chdir(module_path)"
   ]
  },
  {
   "cell_type": "markdown",
   "metadata": {},
   "source": [
    "Settings of the configuration should be stored in \"config/some_config_file.py\""
   ]
  },
  {
   "cell_type": "code",
   "execution_count": 10,
   "metadata": {},
   "outputs": [
    {
     "name": "stdout",
     "output_type": "stream",
     "text": [
      "import os\n",
      "import sys\n",
      "module_path = os.path.abspath(os.path.join('..'))\n",
      "if module_path not in sys.path:\n",
      "    sys.path.append(module_path)\n",
      "\n",
      "# Feature list\n",
      "from features import feature_list_linear\n",
      "# model\n",
      "from models import LinearModel\n",
      "\n",
      "# Configuration\n",
      "config_linear = {\n",
      "    # 'pca_components': 15, # a pca_component greater than 0 will automatically set clean_na to True as pca cannot deal with infinite numbers.\n",
      "    # 'resale_offset': 0,\n",
      "    'feature_list': feature_list_linear.feature_list,\n",
      "    'clean_na': True,\n",
      "    'training_params': {\n",
      "        'Model': LinearModel.RidgeRegressor,\n",
      "        'model_params': {'alpha': 1.0, 'random_state': 42},\n",
      "        'FOLDS': 5,\n",
      "        'record': False,\n",
      "        'outliers_up_pct': 99,\n",
      "        'outliers_lw_pct': 1,\n",
      "        # 'resale_offset': 0.012\n",
      "        'pca_components': -1, # clean_na needs to be True to use PCA\n",
      "        'scaling': True,\n",
      "        # 'scaler': RobustScaler(quantile_range=(0, 99)),\n",
      "        # 'scaling_columns': SCALING_COLUMNS\n",
      "    },\n",
      "    'stacking_params': {\n",
      "        'Model': LinearModel.RidgeRegressor,\n",
      "        'model_params': {'alpha': 1.0, 'random_state': 42},\n",
      "        'FOLDS': 5,\n",
      "        'outliers_up_pct': 99,\n",
      "        'outliers_lw_pct': 1,\n",
      "        'pca_components': -1, # clean_na needs to be True to use PCA\n",
      "        'scaling': True,\n",
      "        # 'scaler': RobustScaler(quantile_range=(0, 99)),\n",
      "        # 'scaling_columns': SCALING_COLUMNS\n",
      "    }\n",
      "}\n"
     ]
    }
   ],
   "source": [
    "with open('config/config_linear.py', 'r') as f:\n",
    "    for line in f.readlines():\n",
    "        print(line[:-1])"
   ]
  },
  {
   "cell_type": "markdown",
   "metadata": {},
   "source": [
    "### Depending on the need of different model, choose different 'feature_list'.\n",
    "Linear feature would need to one-hot-encode all categorized model, and eliminate all Nan's.\n",
    "\n",
    "Nonlinear models (Trees, Boost) do not have such problems"
   ]
  },
  {
   "cell_type": "markdown",
   "metadata": {},
   "source": [
    "# Cleaning and Feature Engineering"
   ]
  },
  {
   "cell_type": "code",
   "execution_count": 5,
   "metadata": {},
   "outputs": [
    {
     "name": "stdout",
     "output_type": "stream",
     "text": [
      "feature_list = {\n",
      "    'before_fill': [\n",
      "        # ('missing_value_one_hot', missing_value_one_hot, {}, 'missing_value_one_hot_pickle', False),\n",
      "        ('missing_value_count', 'missing_value_count', {}, 'missing_value_count_pickle', False),\n",
      "    ],\n",
      "    'original': [\n",
      "        # required columns\n",
      "        'parcelid',\n",
      "        # optional columns\n",
      "        'basementsqft',\n",
      "        'bathroomcnt',\n",
      "        # 'bedroomcnt', # high corr\n",
      "        'calculatedbathnbr',\n",
      "        # 'finishedfloor1squarefeet', # seems almost same as finishedsquarefeet50\n",
      "        'calculatedfinishedsquarefeet',\n",
      "        # 'finishedsquarefeet12',\n",
      "        'finishedsquarefeet13',\n",
      "        # 'finishedsquarefeet15',\n",
      "        'finishedsquarefeet50',\n",
      "        'finishedsquarefeet6',\n",
      "        'fireplacecnt',\n",
      "        # 'fullbathcnt',\n",
      "        'garagecarcnt',\n",
      "        'garagetotalsqft',\n",
      "        'hashottuborspa',\n",
      "        'latitude',\n",
      "        'longitude',\n",
      "        'lotsizesquarefeet',\n",
      "        'poolcnt',\n",
      "        'poolsizesum',\n",
      "        'pooltypeid10',\n",
      "        'pooltypeid2',\n",
      "        'pooltypeid7',\n",
      "        'roomcnt',\n",
      "        'storytypeid',\n",
      "        'threequarterbathnbr',\n",
      "        'unitcnt',\n",
      "        'yardbuildingsqft17',\n",
      "        # 'yardbuildingsqft26',\n",
      "        'numberofstories',\n",
      "        'fireplaceflag',\n",
      "        'structuretaxvaluedollarcnt',\n",
      "        'taxvaluedollarcnt',\n",
      "        'landtaxvaluedollarcnt',\n",
      "        'taxamount',\n",
      "    ],\n",
      "    'generated': [\n",
      "        ('average_bathroom_size', 'average_bathroom_size', {}, 'average_bathroom_size_pickle', False),\n",
      "        ('average_bedroom_size', 'average_bedroom_size', {}, 'average_bedroom_size_pickle', False),\n",
      "        ('average_room_size', 'average_room_size', {}, 'average_room_size_pickle', False),\n",
      "        ('boolean_has_ac', 'boolean_has_ac', {}, 'boolean_has_ac_pickle', False),\n",
      "        ('boolean_has_garage_pool_and_ac', 'boolean_has_garage_pool_and_ac', {}, 'boolean_has_garage_pool_and_ac_pickle', False),\n",
      "        ('boolean_has_heat', 'boolean_has_heat', {}, 'boolean_has_heat_pickle', False),\n",
      "        ('building_age', 'building_age', {}, 'building_age_pickle', False),\n",
      "        ('built_before_year', 'built_before_year', {}, 'built_before_year_pickle', False),\n",
      "\n",
      "        ('category_architecture_style_one_hot', 'category_architecture_style_one_hot', {}, 'category_architecture_style_one_hot_pickle', False),\n",
      "        ('category_ac_type_one_hot', 'category_ac_type_one_hot', {}, 'category_ac_type_one_hot_pickle', False),\n",
      "        ('category_building_class_one_hot', 'category_building_class_one_hot', {}, 'category_building_class_one_hot_pickle', False),\n",
      "        ('category_fips_type_one_hot', 'category_fips_type_one_hot', {}, 'category_fips_type_one_hot_pickle', False),\n",
      "        ('category_heating_type_one_hot', 'category_heating_type_one_hot', {}, 'category_heating_type_one_hot_pickle', False),\n",
      "        # # ('category_land_use_code', category_land_use_code, {}, 'category_land_use_code_pickle', False),\n",
      "        # ('category_land_use_code_encode', category_land_use_code_encode, {}, 'category_land_use_code_encode_pickle', False),\n",
      "        # # ('category_land_use_code_one_hot', category_land_use_code_one_hot, {}, 'category_land_use_code_one_hot_pickle', False),\n",
      "        # # ('category_land_use_desc', category_land_use_desc, {}, 'category_land_use_desc_pickle', False),\n",
      "        # ('category_land_use_desc_encode', category_land_use_desc_encode, {}, 'category_land_use_desc_encode_pickle', False),\n",
      "        # # ('category_land_use_desc_one_hot', category_land_use_desc_one_hot, {}, 'category_land_use_desc_one_hot_pickle', False),\n",
      "        # ('category_land_use_type_encode', category_land_use_type_encode, {}, 'category_land_use_type_encode_pickle', False),\n",
      "        ('category_land_use_type_one_hot', 'category_land_use_type_one_hot', {}, 'category_land_use_type_one_hot_pickle', False),\n",
      "        ('category_construction_type_one_hot', 'category_construction_type_one_hot', {}, 'category_construction_type_one_hot_pickle', False),\n",
      "        ('category_tax_delinquency_year_one_hot', 'category_tax_delinquency_year_one_hot', {}, 'category_tax_delinquency_year_one_hot_pickle', False),\n",
      "\n",
      "        ('error_rate_bathroom', 'error_rate_bathroom', {}, 'error_rate_bathroom_pickle', False),\n",
      "        ('error_rate_calculated_finished_living_sqft', 'error_rate_calculated_finished_living_sqft', {}, 'error_rate_calculated_finished_living_sqft_pickle', False),\n",
      "        ('error_rate_count_bathroom', 'error_rate_count_bathroom', {}, 'error_rate_count_bathroom_pickle', False),\n",
      "        ('error_rate_first_floor_living_sqft', 'error_rate_first_floor_living_sqft', {}, 'error_rate_first_floor_living_sqft_pickle', False),\n",
      "        ('extra_rooms', 'extra_rooms', {}, 'extra_rooms_pickle', False),\n",
      "        ('extra_space', 'extra_space', {}, 'extra_space_pickle', False),\n",
      "\n",
      "        ('geo_city', 'geo_city', {}, 'geo_city_pickle', False),\n",
      "        ('geo_county', 'geo_county', {}, 'geo_county_pickle', False),\n",
      "        ('category_geo_county_one_hot', 'category_geo_county_one_hot', {}, 'category_geo_county_one_hot_pickle', False),\n",
      "        # ('geo_lat_lon_block_features', geo_lat_lon_block_features, {}, 'geo_lat_lon_block_features_pickle', False),\n",
      "        ('geo_neighborhood', 'geo_neighborhood', {}, 'geo_neighborhood_pickle', False),\n",
      "        ('geo_zip', 'geo_zip', {}, 'geo_zip_pickle', False),\n",
      "        ('multiply_lat_lon', 'multiply_lat_lon', {}, 'multiply_lat_lon_pickle', False),\n",
      "        ('poly_2_structure_tax_value', 'poly_2_structure_tax_value', {}, 'poly_2_structure_tax_value_pickle', False),\n",
      "        ('poly_3_structure_tax_value', 'poly_3_structure_tax_value', {}, 'poly_3_structure_tax_value_pickle', False),\n",
      "        ('ratio_basement', 'ratio_basement', {}, 'ratio_basement_pickle', False),\n",
      "        ('ratio_bedroom_bathroom', 'ratio_bedroom_bathroom', {}, 'ratio_bedroom_bathroom_pickle', False),\n",
      "        ('ratio_fireplace', 'ratio_fireplace', {}, 'ratio_fireplace_pickle', False),\n",
      "        ('ratio_floor_shape', 'ratio_floor_shape', {}, 'ratio_floor_shape_pickle', False),\n",
      "        ('ratio_living_area', 'ratio_living_area', {}, 'ratio_living_area_pickle', False),\n",
      "        ('ratio_living_area_2', 'ratio_living_area_2', {}, 'ratio_living_area_2_pickle', False),\n",
      "        ('ratio_pool_shed', 'ratio_pool_shed', {}, 'ratio_pool_shed_pickle', False),\n",
      "        ('ratio_pool_yard', 'ratio_pool_yard', {}, 'ratio_pool_yard_pickle', False),\n",
      "        ('ratio_structure_tax_value_to_land_tax_value', 'ratio_structure_tax_value_to_land_tax_value', {}, 'ratio_structure_tax_value_to_land_tax_value_pickle', False),\n",
      "        ('ratio_tax', 'ratio_tax', {}, 'ratio_tax_pickle', False),\n",
      "        ('ratio_tax_value_to_land_tax_value', 'ratio_tax_value_to_land_tax_value', {}, 'ratio_tax_value_to_land_tax_value_pickle', False),\n",
      "        ('ratio_tax_value_to_structure_value', 'ratio_tax_value_to_structure_value', {}, 'ratio_tax_value_to_structure_value_pickle', False),\n",
      "        ('round_lat', 'round_lat', {}, 'round_lat_pickle', False),\n",
      "        ('round_lon', 'round_lon', {}, 'round_lon_pickle', False),\n",
      "        # ('round_multiply_lat_lon', round_multiply_lat_lon, {}, 'round_multiply_lat_lon_pickle', False),\n",
      "        ('sum_lat_lon', 'sum_lat_lon', {}, 'sum_lat_lon_pickle', False),\n",
      "        ('total_rooms', 'total_rooms', {}, 'total_rooms_pickle', False),\n",
      "\n",
      "        # ('target_neighborhood_feature', 'target_region_feature', {'id_name':'regionidneighborhood'}, 'target_neighborhood_feature_pickle', False),\n",
      "        # ('target_zip_feature', 'target_region_feature', {'id_name':'regionidzip'}, 'target_zip_feature_pickle', False),\n",
      "        # ('target_city_feature', 'target_region_feature', {'id_name':'regionidcity'}, 'target_city_feature_pickle', False),\n",
      "        # ('target_county_feature', 'target_region_feature', {'id_name':'regionidcounty'}, 'target_county_feature_pickle', False),\n",
      "    ]\n",
      "}\n"
     ]
    }
   ],
   "source": [
    "with open('features/feature_list_linear.py', 'r') as f:\n",
    "    for line in f.readlines():\n",
    "        print(line[:-1])"
   ]
  },
  {
   "cell_type": "markdown",
   "metadata": {},
   "source": [
    "### feature_list contains three parts: before_fill, original and generated.\n",
    "before_fill generally gives information of the number of missing data, etc, before any processing.\n",
    "\n",
    "original is generally the original columns of the data, but could be slightly different due to parsing the string, etc.\n",
    "\n",
    "generated is any features we created."
   ]
  },
  {
   "cell_type": "markdown",
   "metadata": {},
   "source": [
    "### The raw data would be load through the __main__ part of train.py. For notebook users, use the following method instead:"
   ]
  },
  {
   "cell_type": "code",
   "execution_count": 3,
   "metadata": {
    "scrolled": true
   },
   "outputs": [
    {
     "name": "stderr",
     "output_type": "stream",
     "text": [
      "/home/peter/anaconda3/lib/python3.6/site-packages/sklearn/cross_validation.py:44: DeprecationWarning: This module was deprecated in version 0.18 in favor of the model_selection module into which all the refactored classes and functions are moved. Also note that the interface of the new CV iterators are different from that of this module. This module will be removed in 0.20.\n",
      "  \"This module will be removed in 0.20.\", DeprecationWarning)\n"
     ]
    },
    {
     "name": "stdout",
     "output_type": "stream",
     "text": [
      "before_fill: 1\n",
      "original: 31\n",
      "generated: 46\n",
      "clean_na: True\n",
      "training_params: {'Model': <class 'models.LinearModel.RidgeRegressor'>, 'model_params': {'alpha': 1.0, 'random_state': 42}, 'FOLDS': 5, 'record': False, 'outliers_up_pct': 99, 'outliers_lw_pct': 1, 'pca_components': -1, 'scaling': True}\n",
      "Feature engineering\n",
      "Using cleaned prop\n",
      "features/feature_pickles_cleaned/geo_county_pickle\n",
      "features/feature_pickles_cleaned/category_geo_county_one_hot_pickle\n",
      "features/feature_pickles_cleaned/geo_neighborhood_pickle\n",
      "features/feature_pickles_cleaned/geo_zip_pickle\n",
      "features/feature_pickles_cleaned/multiply_lat_lon_pickle\n",
      "features/feature_pickles_cleaned/poly_2_structure_tax_value_pickle\n",
      "features/feature_pickles_cleaned/poly_3_structure_tax_value_pickle\n",
      "features/feature_pickles_cleaned/ratio_basement_pickle\n",
      "features/feature_pickles_cleaned/ratio_bedroom_bathroom_pickle\n",
      "features/feature_pickles_cleaned/ratio_fireplace_pickle\n",
      "features/feature_pickles_cleaned/ratio_floor_shape_pickle\n",
      "features/feature_pickles_cleaned/ratio_living_area_pickle\n",
      "features/feature_pickles_cleaned/ratio_living_area_2_pickle\n",
      "features/feature_pickles_cleaned/ratio_pool_shed_pickle\n",
      "features/feature_pickles_cleaned/ratio_pool_yard_pickle\n",
      "features/feature_pickles_cleaned/ratio_structure_tax_value_to_land_tax_value_pickle\n",
      "features/feature_pickles_cleaned/ratio_tax_pickle\n",
      "features/feature_pickles_cleaned/ratio_tax_value_to_land_tax_value_pickle\n",
      "features/feature_pickles_cleaned/ratio_tax_value_to_structure_value_pickle\n",
      "features/feature_pickles_cleaned/round_lat_pickle\n",
      "features/feature_pickles_cleaned/round_lon_pickle\n",
      "features/feature_pickles_cleaned/sum_lat_lon_pickle\n",
      "features/feature_pickles_cleaned/total_rooms_pickle\n",
      "(2973780, 274)\n",
      "Load training data...\n"
     ]
    },
    {
     "ename": "MemoryError",
     "evalue": "",
     "output_type": "error",
     "traceback": [
      "\u001b[0;31m---------------------------------------------------------------------------\u001b[0m",
      "\u001b[0;31mMemoryError\u001b[0m                               Traceback (most recent call last)",
      "\u001b[0;32m<ipython-input-3-3904c7efdbc6>\u001b[0m in \u001b[0;36m<module>\u001b[0;34m()\u001b[0m\n\u001b[1;32m      1\u001b[0m \u001b[0;32mimport\u001b[0m \u001b[0minterface\u001b[0m\u001b[0;34m\u001b[0m\u001b[0m\n\u001b[0;32m----> 2\u001b[0;31m \u001b[0mtrain_df\u001b[0m\u001b[0;34m,\u001b[0m \u001b[0mtransactions\u001b[0m \u001b[0;34m=\u001b[0m \u001b[0minterface\u001b[0m\u001b[0;34m.\u001b[0m\u001b[0mload_full_data\u001b[0m\u001b[0;34m(\u001b[0m\u001b[0mconfig_file\u001b[0m\u001b[0;34m=\u001b[0m\u001b[0;34m'config_linear'\u001b[0m\u001b[0;34m)\u001b[0m\u001b[0;34m\u001b[0m\u001b[0m\n\u001b[0m",
      "\u001b[0;32m/home/peter/dev/kaggle-zillow/interface.py\u001b[0m in \u001b[0;36mload_full_data\u001b[0;34m(config_file)\u001b[0m\n\u001b[1;32m     20\u001b[0m \u001b[0;34m\u001b[0m\u001b[0m\n\u001b[1;32m     21\u001b[0m     \u001b[0mprop\u001b[0m \u001b[0;34m=\u001b[0m \u001b[0mprepare_features\u001b[0m\u001b[0;34m(\u001b[0m\u001b[0mfeature_list\u001b[0m\u001b[0;34m,\u001b[0m \u001b[0mclean_na\u001b[0m\u001b[0;34m)\u001b[0m\u001b[0;34m\u001b[0m\u001b[0m\n\u001b[0;32m---> 22\u001b[0;31m     \u001b[0mtrain_df\u001b[0m\u001b[0;34m,\u001b[0m \u001b[0mtransactions\u001b[0m \u001b[0;34m=\u001b[0m \u001b[0mprepare_training_data\u001b[0m\u001b[0;34m(\u001b[0m\u001b[0mprop\u001b[0m\u001b[0;34m)\u001b[0m\u001b[0;34m\u001b[0m\u001b[0m\n\u001b[0m\u001b[1;32m     23\u001b[0m     \u001b[0;32mreturn\u001b[0m \u001b[0mtrain_df\u001b[0m\u001b[0;34m,\u001b[0m \u001b[0mtransactions\u001b[0m\u001b[0;34m\u001b[0m\u001b[0m\n",
      "\u001b[0;32m/home/peter/dev/kaggle-zillow/train.py\u001b[0m in \u001b[0;36mprepare_training_data\u001b[0;34m(prop)\u001b[0m\n\u001b[1;32m    373\u001b[0m \u001b[0;34m\u001b[0m\u001b[0m\n\u001b[1;32m    374\u001b[0m     \u001b[0;31m# merge transaction and prop data\u001b[0m\u001b[0;34m\u001b[0m\u001b[0;34m\u001b[0m\u001b[0m\n\u001b[0;32m--> 375\u001b[0;31m     \u001b[0mtrain_df\u001b[0m \u001b[0;34m=\u001b[0m \u001b[0mtransactions\u001b[0m\u001b[0;34m.\u001b[0m\u001b[0mmerge\u001b[0m\u001b[0;34m(\u001b[0m\u001b[0mprop\u001b[0m\u001b[0;34m,\u001b[0m \u001b[0mhow\u001b[0m\u001b[0;34m=\u001b[0m\u001b[0;34m'left'\u001b[0m\u001b[0;34m,\u001b[0m \u001b[0mon\u001b[0m\u001b[0;34m=\u001b[0m\u001b[0;34m'parcelid'\u001b[0m\u001b[0;34m)\u001b[0m\u001b[0;34m\u001b[0m\u001b[0m\n\u001b[0m\u001b[1;32m    376\u001b[0m     \u001b[0;31m# df.to_csv('test_df.csv')\u001b[0m\u001b[0;34m\u001b[0m\u001b[0;34m\u001b[0m\u001b[0m\n\u001b[1;32m    377\u001b[0m     \u001b[0;31m# del train_df; gc.collect()\u001b[0m\u001b[0;34m\u001b[0m\u001b[0;34m\u001b[0m\u001b[0m\n",
      "\u001b[0;32m/home/peter/anaconda3/lib/python3.6/site-packages/pandas/core/frame.py\u001b[0m in \u001b[0;36mmerge\u001b[0;34m(self, right, how, on, left_on, right_on, left_index, right_index, sort, suffixes, copy, indicator)\u001b[0m\n\u001b[1;32m   4818\u001b[0m                      \u001b[0mright_on\u001b[0m\u001b[0;34m=\u001b[0m\u001b[0mright_on\u001b[0m\u001b[0;34m,\u001b[0m \u001b[0mleft_index\u001b[0m\u001b[0;34m=\u001b[0m\u001b[0mleft_index\u001b[0m\u001b[0;34m,\u001b[0m\u001b[0;34m\u001b[0m\u001b[0m\n\u001b[1;32m   4819\u001b[0m                      \u001b[0mright_index\u001b[0m\u001b[0;34m=\u001b[0m\u001b[0mright_index\u001b[0m\u001b[0;34m,\u001b[0m \u001b[0msort\u001b[0m\u001b[0;34m=\u001b[0m\u001b[0msort\u001b[0m\u001b[0;34m,\u001b[0m \u001b[0msuffixes\u001b[0m\u001b[0;34m=\u001b[0m\u001b[0msuffixes\u001b[0m\u001b[0;34m,\u001b[0m\u001b[0;34m\u001b[0m\u001b[0m\n\u001b[0;32m-> 4820\u001b[0;31m                      copy=copy, indicator=indicator)\n\u001b[0m\u001b[1;32m   4821\u001b[0m \u001b[0;34m\u001b[0m\u001b[0m\n\u001b[1;32m   4822\u001b[0m     \u001b[0;32mdef\u001b[0m \u001b[0mround\u001b[0m\u001b[0;34m(\u001b[0m\u001b[0mself\u001b[0m\u001b[0;34m,\u001b[0m \u001b[0mdecimals\u001b[0m\u001b[0;34m=\u001b[0m\u001b[0;36m0\u001b[0m\u001b[0;34m,\u001b[0m \u001b[0;34m*\u001b[0m\u001b[0margs\u001b[0m\u001b[0;34m,\u001b[0m \u001b[0;34m**\u001b[0m\u001b[0mkwargs\u001b[0m\u001b[0;34m)\u001b[0m\u001b[0;34m:\u001b[0m\u001b[0;34m\u001b[0m\u001b[0m\n",
      "\u001b[0;32m/home/peter/anaconda3/lib/python3.6/site-packages/pandas/core/reshape/merge.py\u001b[0m in \u001b[0;36mmerge\u001b[0;34m(left, right, how, on, left_on, right_on, left_index, right_index, sort, suffixes, copy, indicator)\u001b[0m\n\u001b[1;32m     51\u001b[0m                          \u001b[0mright_on\u001b[0m\u001b[0;34m=\u001b[0m\u001b[0mright_on\u001b[0m\u001b[0;34m,\u001b[0m \u001b[0mleft_index\u001b[0m\u001b[0;34m=\u001b[0m\u001b[0mleft_index\u001b[0m\u001b[0;34m,\u001b[0m\u001b[0;34m\u001b[0m\u001b[0m\n\u001b[1;32m     52\u001b[0m                          \u001b[0mright_index\u001b[0m\u001b[0;34m=\u001b[0m\u001b[0mright_index\u001b[0m\u001b[0;34m,\u001b[0m \u001b[0msort\u001b[0m\u001b[0;34m=\u001b[0m\u001b[0msort\u001b[0m\u001b[0;34m,\u001b[0m \u001b[0msuffixes\u001b[0m\u001b[0;34m=\u001b[0m\u001b[0msuffixes\u001b[0m\u001b[0;34m,\u001b[0m\u001b[0;34m\u001b[0m\u001b[0m\n\u001b[0;32m---> 53\u001b[0;31m                          copy=copy, indicator=indicator)\n\u001b[0m\u001b[1;32m     54\u001b[0m     \u001b[0;32mreturn\u001b[0m \u001b[0mop\u001b[0m\u001b[0;34m.\u001b[0m\u001b[0mget_result\u001b[0m\u001b[0;34m(\u001b[0m\u001b[0;34m)\u001b[0m\u001b[0;34m\u001b[0m\u001b[0m\n\u001b[1;32m     55\u001b[0m \u001b[0;34m\u001b[0m\u001b[0m\n",
      "\u001b[0;32m/home/peter/anaconda3/lib/python3.6/site-packages/pandas/core/reshape/merge.py\u001b[0m in \u001b[0;36m__init__\u001b[0;34m(self, left, right, how, on, left_on, right_on, axis, left_index, right_index, sort, suffixes, copy, indicator)\u001b[0m\n\u001b[1;32m    556\u001b[0m         (self.left_join_keys,\n\u001b[1;32m    557\u001b[0m          \u001b[0mself\u001b[0m\u001b[0;34m.\u001b[0m\u001b[0mright_join_keys\u001b[0m\u001b[0;34m,\u001b[0m\u001b[0;34m\u001b[0m\u001b[0m\n\u001b[0;32m--> 558\u001b[0;31m          self.join_names) = self._get_merge_keys()\n\u001b[0m\u001b[1;32m    559\u001b[0m \u001b[0;34m\u001b[0m\u001b[0m\n\u001b[1;32m    560\u001b[0m         \u001b[0;31m# validate the merge keys dtypes. We may need to coerce\u001b[0m\u001b[0;34m\u001b[0m\u001b[0;34m\u001b[0m\u001b[0m\n",
      "\u001b[0;32m/home/peter/anaconda3/lib/python3.6/site-packages/pandas/core/reshape/merge.py\u001b[0m in \u001b[0;36m_get_merge_keys\u001b[0;34m(self)\u001b[0m\n\u001b[1;32m    808\u001b[0m                     \u001b[0;32mif\u001b[0m \u001b[0;32mnot\u001b[0m \u001b[0mis_rkey\u001b[0m\u001b[0;34m(\u001b[0m\u001b[0mrk\u001b[0m\u001b[0;34m)\u001b[0m\u001b[0;34m:\u001b[0m\u001b[0;34m\u001b[0m\u001b[0m\n\u001b[1;32m    809\u001b[0m                         \u001b[0;32mif\u001b[0m \u001b[0mrk\u001b[0m \u001b[0;32mis\u001b[0m \u001b[0;32mnot\u001b[0m \u001b[0;32mNone\u001b[0m\u001b[0;34m:\u001b[0m\u001b[0;34m\u001b[0m\u001b[0m\n\u001b[0;32m--> 810\u001b[0;31m                             \u001b[0mright_keys\u001b[0m\u001b[0;34m.\u001b[0m\u001b[0mappend\u001b[0m\u001b[0;34m(\u001b[0m\u001b[0mright\u001b[0m\u001b[0;34m[\u001b[0m\u001b[0mrk\u001b[0m\u001b[0;34m]\u001b[0m\u001b[0;34m.\u001b[0m\u001b[0m_values\u001b[0m\u001b[0;34m)\u001b[0m\u001b[0;34m\u001b[0m\u001b[0m\n\u001b[0m\u001b[1;32m    811\u001b[0m                         \u001b[0;32melse\u001b[0m\u001b[0;34m:\u001b[0m\u001b[0;34m\u001b[0m\u001b[0m\n\u001b[1;32m    812\u001b[0m                             \u001b[0;31m# work-around for merge_asof(right_index=True)\u001b[0m\u001b[0;34m\u001b[0m\u001b[0;34m\u001b[0m\u001b[0m\n",
      "\u001b[0;32m/home/peter/anaconda3/lib/python3.6/site-packages/pandas/core/frame.py\u001b[0m in \u001b[0;36m__getitem__\u001b[0;34m(self, key)\u001b[0m\n\u001b[1;32m   2060\u001b[0m             \u001b[0;32mreturn\u001b[0m \u001b[0mself\u001b[0m\u001b[0;34m.\u001b[0m\u001b[0m_getitem_multilevel\u001b[0m\u001b[0;34m(\u001b[0m\u001b[0mkey\u001b[0m\u001b[0;34m)\u001b[0m\u001b[0;34m\u001b[0m\u001b[0m\n\u001b[1;32m   2061\u001b[0m         \u001b[0;32melse\u001b[0m\u001b[0;34m:\u001b[0m\u001b[0;34m\u001b[0m\u001b[0m\n\u001b[0;32m-> 2062\u001b[0;31m             \u001b[0;32mreturn\u001b[0m \u001b[0mself\u001b[0m\u001b[0;34m.\u001b[0m\u001b[0m_getitem_column\u001b[0m\u001b[0;34m(\u001b[0m\u001b[0mkey\u001b[0m\u001b[0;34m)\u001b[0m\u001b[0;34m\u001b[0m\u001b[0m\n\u001b[0m\u001b[1;32m   2063\u001b[0m \u001b[0;34m\u001b[0m\u001b[0m\n\u001b[1;32m   2064\u001b[0m     \u001b[0;32mdef\u001b[0m \u001b[0m_getitem_column\u001b[0m\u001b[0;34m(\u001b[0m\u001b[0mself\u001b[0m\u001b[0;34m,\u001b[0m \u001b[0mkey\u001b[0m\u001b[0;34m)\u001b[0m\u001b[0;34m:\u001b[0m\u001b[0;34m\u001b[0m\u001b[0m\n",
      "\u001b[0;32m/home/peter/anaconda3/lib/python3.6/site-packages/pandas/core/frame.py\u001b[0m in \u001b[0;36m_getitem_column\u001b[0;34m(self, key)\u001b[0m\n\u001b[1;32m   2070\u001b[0m \u001b[0;34m\u001b[0m\u001b[0m\n\u001b[1;32m   2071\u001b[0m         \u001b[0;31m# duplicate columns & possible reduce dimensionality\u001b[0m\u001b[0;34m\u001b[0m\u001b[0;34m\u001b[0m\u001b[0m\n\u001b[0;32m-> 2072\u001b[0;31m         \u001b[0mresult\u001b[0m \u001b[0;34m=\u001b[0m \u001b[0mself\u001b[0m\u001b[0;34m.\u001b[0m\u001b[0m_constructor\u001b[0m\u001b[0;34m(\u001b[0m\u001b[0mself\u001b[0m\u001b[0;34m.\u001b[0m\u001b[0m_data\u001b[0m\u001b[0;34m.\u001b[0m\u001b[0mget\u001b[0m\u001b[0;34m(\u001b[0m\u001b[0mkey\u001b[0m\u001b[0;34m)\u001b[0m\u001b[0;34m)\u001b[0m\u001b[0;34m\u001b[0m\u001b[0m\n\u001b[0m\u001b[1;32m   2073\u001b[0m         \u001b[0;32mif\u001b[0m \u001b[0mresult\u001b[0m\u001b[0;34m.\u001b[0m\u001b[0mcolumns\u001b[0m\u001b[0;34m.\u001b[0m\u001b[0mis_unique\u001b[0m\u001b[0;34m:\u001b[0m\u001b[0;34m\u001b[0m\u001b[0m\n\u001b[1;32m   2074\u001b[0m             \u001b[0mresult\u001b[0m \u001b[0;34m=\u001b[0m \u001b[0mresult\u001b[0m\u001b[0;34m[\u001b[0m\u001b[0mkey\u001b[0m\u001b[0;34m]\u001b[0m\u001b[0;34m\u001b[0m\u001b[0m\n",
      "\u001b[0;32m/home/peter/anaconda3/lib/python3.6/site-packages/pandas/core/internals.py\u001b[0m in \u001b[0;36mget\u001b[0;34m(self, item, fastpath)\u001b[0m\n\u001b[1;32m   3608\u001b[0m             return self.reindex_indexer(new_axis=self.items[indexer],\n\u001b[1;32m   3609\u001b[0m                                         \u001b[0mindexer\u001b[0m\u001b[0;34m=\u001b[0m\u001b[0mindexer\u001b[0m\u001b[0;34m,\u001b[0m \u001b[0maxis\u001b[0m\u001b[0;34m=\u001b[0m\u001b[0;36m0\u001b[0m\u001b[0;34m,\u001b[0m\u001b[0;34m\u001b[0m\u001b[0m\n\u001b[0;32m-> 3610\u001b[0;31m                                         allow_dups=True)\n\u001b[0m\u001b[1;32m   3611\u001b[0m \u001b[0;34m\u001b[0m\u001b[0m\n\u001b[1;32m   3612\u001b[0m     \u001b[0;32mdef\u001b[0m \u001b[0miget\u001b[0m\u001b[0;34m(\u001b[0m\u001b[0mself\u001b[0m\u001b[0;34m,\u001b[0m \u001b[0mi\u001b[0m\u001b[0;34m,\u001b[0m \u001b[0mfastpath\u001b[0m\u001b[0;34m=\u001b[0m\u001b[0;32mTrue\u001b[0m\u001b[0;34m)\u001b[0m\u001b[0;34m:\u001b[0m\u001b[0;34m\u001b[0m\u001b[0m\n",
      "\u001b[0;32m/home/peter/anaconda3/lib/python3.6/site-packages/pandas/core/internals.py\u001b[0m in \u001b[0;36mreindex_indexer\u001b[0;34m(self, new_axis, indexer, axis, fill_value, allow_dups, copy)\u001b[0m\n\u001b[1;32m   3880\u001b[0m             \u001b[0;32mreturn\u001b[0m \u001b[0mresult\u001b[0m\u001b[0;34m\u001b[0m\u001b[0m\n\u001b[1;32m   3881\u001b[0m \u001b[0;34m\u001b[0m\u001b[0m\n\u001b[0;32m-> 3882\u001b[0;31m         \u001b[0mself\u001b[0m\u001b[0;34m.\u001b[0m\u001b[0m_consolidate_inplace\u001b[0m\u001b[0;34m(\u001b[0m\u001b[0;34m)\u001b[0m\u001b[0;34m\u001b[0m\u001b[0m\n\u001b[0m\u001b[1;32m   3883\u001b[0m \u001b[0;34m\u001b[0m\u001b[0m\n\u001b[1;32m   3884\u001b[0m         \u001b[0;31m# some axes don't allow reindexing with dups\u001b[0m\u001b[0;34m\u001b[0m\u001b[0;34m\u001b[0m\u001b[0m\n",
      "\u001b[0;32m/home/peter/anaconda3/lib/python3.6/site-packages/pandas/core/internals.py\u001b[0m in \u001b[0;36m_consolidate_inplace\u001b[0;34m(self)\u001b[0m\n\u001b[1;32m   3576\u001b[0m     \u001b[0;32mdef\u001b[0m \u001b[0m_consolidate_inplace\u001b[0m\u001b[0;34m(\u001b[0m\u001b[0mself\u001b[0m\u001b[0;34m)\u001b[0m\u001b[0;34m:\u001b[0m\u001b[0;34m\u001b[0m\u001b[0m\n\u001b[1;32m   3577\u001b[0m         \u001b[0;32mif\u001b[0m \u001b[0;32mnot\u001b[0m \u001b[0mself\u001b[0m\u001b[0;34m.\u001b[0m\u001b[0mis_consolidated\u001b[0m\u001b[0;34m(\u001b[0m\u001b[0;34m)\u001b[0m\u001b[0;34m:\u001b[0m\u001b[0;34m\u001b[0m\u001b[0m\n\u001b[0;32m-> 3578\u001b[0;31m             \u001b[0mself\u001b[0m\u001b[0;34m.\u001b[0m\u001b[0mblocks\u001b[0m \u001b[0;34m=\u001b[0m \u001b[0mtuple\u001b[0m\u001b[0;34m(\u001b[0m\u001b[0m_consolidate\u001b[0m\u001b[0;34m(\u001b[0m\u001b[0mself\u001b[0m\u001b[0;34m.\u001b[0m\u001b[0mblocks\u001b[0m\u001b[0;34m)\u001b[0m\u001b[0;34m)\u001b[0m\u001b[0;34m\u001b[0m\u001b[0m\n\u001b[0m\u001b[1;32m   3579\u001b[0m             \u001b[0mself\u001b[0m\u001b[0;34m.\u001b[0m\u001b[0m_is_consolidated\u001b[0m \u001b[0;34m=\u001b[0m \u001b[0;32mTrue\u001b[0m\u001b[0;34m\u001b[0m\u001b[0m\n\u001b[1;32m   3580\u001b[0m             \u001b[0mself\u001b[0m\u001b[0;34m.\u001b[0m\u001b[0m_known_consolidated\u001b[0m \u001b[0;34m=\u001b[0m \u001b[0;32mTrue\u001b[0m\u001b[0;34m\u001b[0m\u001b[0m\n",
      "\u001b[0;32m/home/peter/anaconda3/lib/python3.6/site-packages/pandas/core/internals.py\u001b[0m in \u001b[0;36m_consolidate\u001b[0;34m(blocks)\u001b[0m\n\u001b[1;32m   4523\u001b[0m     \u001b[0;32mfor\u001b[0m \u001b[0;34m(\u001b[0m\u001b[0m_can_consolidate\u001b[0m\u001b[0;34m,\u001b[0m \u001b[0mdtype\u001b[0m\u001b[0;34m)\u001b[0m\u001b[0;34m,\u001b[0m \u001b[0mgroup_blocks\u001b[0m \u001b[0;32min\u001b[0m \u001b[0mgrouper\u001b[0m\u001b[0;34m:\u001b[0m\u001b[0;34m\u001b[0m\u001b[0m\n\u001b[1;32m   4524\u001b[0m         merged_blocks = _merge_blocks(list(group_blocks), dtype=dtype,\n\u001b[0;32m-> 4525\u001b[0;31m                                       _can_consolidate=_can_consolidate)\n\u001b[0m\u001b[1;32m   4526\u001b[0m         \u001b[0mnew_blocks\u001b[0m \u001b[0;34m=\u001b[0m \u001b[0m_extend_blocks\u001b[0m\u001b[0;34m(\u001b[0m\u001b[0mmerged_blocks\u001b[0m\u001b[0;34m,\u001b[0m \u001b[0mnew_blocks\u001b[0m\u001b[0;34m)\u001b[0m\u001b[0;34m\u001b[0m\u001b[0m\n\u001b[1;32m   4527\u001b[0m     \u001b[0;32mreturn\u001b[0m \u001b[0mnew_blocks\u001b[0m\u001b[0;34m\u001b[0m\u001b[0m\n",
      "\u001b[0;32m/home/peter/anaconda3/lib/python3.6/site-packages/pandas/core/internals.py\u001b[0m in \u001b[0;36m_merge_blocks\u001b[0;34m(blocks, dtype, _can_consolidate)\u001b[0m\n\u001b[1;32m   4546\u001b[0m \u001b[0;34m\u001b[0m\u001b[0m\n\u001b[1;32m   4547\u001b[0m         \u001b[0margsort\u001b[0m \u001b[0;34m=\u001b[0m \u001b[0mnp\u001b[0m\u001b[0;34m.\u001b[0m\u001b[0margsort\u001b[0m\u001b[0;34m(\u001b[0m\u001b[0mnew_mgr_locs\u001b[0m\u001b[0;34m)\u001b[0m\u001b[0;34m\u001b[0m\u001b[0m\n\u001b[0;32m-> 4548\u001b[0;31m         \u001b[0mnew_values\u001b[0m \u001b[0;34m=\u001b[0m \u001b[0mnew_values\u001b[0m\u001b[0;34m[\u001b[0m\u001b[0margsort\u001b[0m\u001b[0;34m]\u001b[0m\u001b[0;34m\u001b[0m\u001b[0m\n\u001b[0m\u001b[1;32m   4549\u001b[0m         \u001b[0mnew_mgr_locs\u001b[0m \u001b[0;34m=\u001b[0m \u001b[0mnew_mgr_locs\u001b[0m\u001b[0;34m[\u001b[0m\u001b[0margsort\u001b[0m\u001b[0;34m]\u001b[0m\u001b[0;34m\u001b[0m\u001b[0m\n\u001b[1;32m   4550\u001b[0m \u001b[0;34m\u001b[0m\u001b[0m\n",
      "\u001b[0;31mMemoryError\u001b[0m: "
     ]
    }
   ],
   "source": [
    "import interface\n",
    "train_df, transactions = interface.load_full_data(config_file='config_linear')"
   ]
  },
  {
   "cell_type": "markdown",
   "metadata": {},
   "source": [
    "The previous procedure could be broken down into the following steps:\n",
    "\n",
    "1. A featurelist is loaded. `train.prepare_features()` is called.\n",
    "1. Based on whether NaN needs to be cleaned, either `feature_combine.feature_combine_cleaned(feature_list)` or `feature_combine.feature_combine_with_nan(feature_list)` is called.\n",
    "1. Inside `feature_combine`, `utils.load_properties_data_preprocessed` or `utils.load_properties_data_cleaned` is called. \n",
    "    1. They will both call `utils.load_properties_data` first, which reads the raw peoperties data from csv/pickle file.\n",
    "    1. `preprocess_geo` is mandatorily called to fill in some certain missing values. If necessary, `preprocess_add_geo_features` is called. It will try to fill in missing data by grouping geographically. Notice this will change the \"original\" feature list as there is some parsing.\n",
    "    1. If `utils.load_properties_data_cleaned` is called, all columns of the properties data is fed into the functions of `feature_clean`. Each function in `feature_clean` must be the same name as the column and only return one such column that does not contain nan or inf.\n",
    "1. The returned `prop` DataFrame is fed into a subset of functions of `feature_eng` (defined in `feature_list`). Each function will return a DataFrame of one or more columns. They will be concatenated together with the original `prop` to form a large DataFrame."
   ]
  },
  {
   "cell_type": "markdown",
   "metadata": {},
   "source": [
    "`train.prepare_training_data(prop)` is called afterwards, to combine the `prop` (features) with `transactions` (labels)"
   ]
  },
  {
   "cell_type": "markdown",
   "metadata": {},
   "source": [
    "# Training"
   ]
  },
  {
   "cell_type": "markdown",
   "metadata": {},
   "source": [
    "`train.train()` would segmentate the dataframe into training, validation and testing part. A 5-fold validation is applied to average the result.\n",
    "\n",
    "After each run, a submission file is created in data/submissions folder."
   ]
  },
  {
   "cell_type": "markdown",
   "metadata": {},
   "source": [
    "# Tuning"
   ]
  },
  {
   "cell_type": "markdown",
   "metadata": {},
   "source": [
    "# Ensembling and Stacking"
   ]
  },
  {
   "cell_type": "code",
   "execution_count": null,
   "metadata": {
    "collapsed": true
   },
   "outputs": [],
   "source": []
  }
 ],
 "metadata": {
  "kernelspec": {
   "display_name": "Python 3",
   "language": "python",
   "name": "python3"
  },
  "language_info": {
   "codemirror_mode": {
    "name": "ipython",
    "version": 3
   },
   "file_extension": ".py",
   "mimetype": "text/x-python",
   "name": "python",
   "nbconvert_exporter": "python",
   "pygments_lexer": "ipython3",
   "version": "3.6.2"
  }
 },
 "nbformat": 4,
 "nbformat_minor": 2
}
